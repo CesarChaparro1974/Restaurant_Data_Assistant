{
 "cells": [
  {
   "cell_type": "code",
   "execution_count": 1,
   "metadata": {},
   "outputs": [
    {
     "name": "stderr",
     "output_type": "stream",
     "text": [
      "/Users/cesarchaparro/opt/anaconda3/lib/python3.11/site-packages/gradio_client/documentation.py:106: UserWarning: Could not get documentation group for <class 'gradio.mix.Parallel'>: No known documentation group for module 'gradio.mix'\n",
      "  warnings.warn(f\"Could not get documentation group for {cls}: {exc}\")\n",
      "/Users/cesarchaparro/opt/anaconda3/lib/python3.11/site-packages/gradio_client/documentation.py:106: UserWarning: Could not get documentation group for <class 'gradio.mix.Series'>: No known documentation group for module 'gradio.mix'\n",
      "  warnings.warn(f\"Could not get documentation group for {cls}: {exc}\")\n"
     ]
    }
   ],
   "source": [
    "# importing all the needed libraries for the whole project.\n",
    "import pandas as pd\n",
    "import numpy as np\n",
    "from datetime import datetime\n",
    "import sidetable\n",
    "import openai\n",
    "import os\n",
    "import re\n",
    "from langchain.callbacks.streaming_stdout import StreamingStdOutCallbackHandler\n",
    "from langchain.embeddings import HuggingFaceEmbeddings\n",
    "from langchain.embeddings import HuggingFaceInstructEmbeddings\n",
    "from langchain.text_splitter import CharacterTextSplitter\n",
    "from langchain.vectorstores import Chroma\n",
    "from langchain.memory import ConversationBufferMemory\n",
    "import gradio as gr\n",
    "from langchain.document_loaders import DataFrameLoader\n",
    "from langchain.chains import RetrievalQA\n",
    "from langchain.schema import Document\n",
    "from langchain.embeddings import FakeEmbeddings\n",
    "from langchain.vectorstores import FAISS\n",
    "import gpt4all\n",
    "from gpt4all import GPT4All\n",
    "from langchain.document_loaders import PyPDFLoader\n",
    "from langchain.llms import GPT4All\n",
    "from langchain.text_splitter import RecursiveCharacterTextSplitter\n",
    "from pdf2image import convert_from_path\n",
    "import logging"
   ]
  },
  {
   "cell_type": "code",
   "execution_count": 2,
   "metadata": {},
   "outputs": [],
   "source": [
    "users = pd.read_csv('/Users/cesarchaparro/Desktop/TripleTen/Personal_projects/benedict/Users.csv')"
   ]
  },
  {
   "cell_type": "code",
   "execution_count": 3,
   "metadata": {},
   "outputs": [
    {
     "data": {
      "text/html": [
       "<div>\n",
       "<style scoped>\n",
       "    .dataframe tbody tr th:only-of-type {\n",
       "        vertical-align: middle;\n",
       "    }\n",
       "\n",
       "    .dataframe tbody tr th {\n",
       "        vertical-align: top;\n",
       "    }\n",
       "\n",
       "    .dataframe thead th {\n",
       "        text-align: right;\n",
       "    }\n",
       "</style>\n",
       "<table border=\"1\" class=\"dataframe\">\n",
       "  <thead>\n",
       "    <tr style=\"text-align: right;\">\n",
       "      <th></th>\n",
       "      <th>_id</th>\n",
       "      <th>NAME</th>\n",
       "    </tr>\n",
       "  </thead>\n",
       "  <tbody>\n",
       "    <tr>\n",
       "      <th>0</th>\n",
       "      <td>5922b097d6bf642200d2a38c</td>\n",
       "      <td>רון קורן</td>\n",
       "    </tr>\n",
       "    <tr>\n",
       "      <th>1</th>\n",
       "      <td>592309505497b2220052490e</td>\n",
       "      <td>אפרת ריבלין</td>\n",
       "    </tr>\n",
       "    <tr>\n",
       "      <th>2</th>\n",
       "      <td>59230abbd6bf642200d2a82a</td>\n",
       "      <td>אדיר שי</td>\n",
       "    </tr>\n",
       "    <tr>\n",
       "      <th>3</th>\n",
       "      <td>59230ae1d6bf642200d2a82d</td>\n",
       "      <td>נועה אולבסקי</td>\n",
       "    </tr>\n",
       "    <tr>\n",
       "      <th>4</th>\n",
       "      <td>59231036d6bf642200d2a86b</td>\n",
       "      <td>דניאל מנדלסון</td>\n",
       "    </tr>\n",
       "  </tbody>\n",
       "</table>\n",
       "</div>"
      ],
      "text/plain": [
       "                        _id           NAME\n",
       "0  5922b097d6bf642200d2a38c       רון קורן\n",
       "1  592309505497b2220052490e    אפרת ריבלין\n",
       "2  59230abbd6bf642200d2a82a        אדיר שי\n",
       "3  59230ae1d6bf642200d2a82d   נועה אולבסקי\n",
       "4  59231036d6bf642200d2a86b  דניאל מנדלסון"
      ]
     },
     "execution_count": 3,
     "metadata": {},
     "output_type": "execute_result"
    }
   ],
   "source": [
    "users.head()"
   ]
  },
  {
   "cell_type": "code",
   "execution_count": 4,
   "metadata": {},
   "outputs": [
    {
     "name": "stderr",
     "output_type": "stream",
     "text": [
      "/var/folders/qk/q0fv26q13m760q3ch0fljs240000gn/T/ipykernel_18061/196370269.py:1: DtypeWarning: Columns (13,15,16,17,18,19,20,47,48,49,50) have mixed types. Specify dtype option on import or set low_memory=False.\n",
      "  benedict = pd.read_csv('/Users/cesarchaparro/Desktop/TripleTen/Personal_projects/benedict/Benedict_June_2023.csv')\n"
     ]
    }
   ],
   "source": [
    "benedict = pd.read_csv('/Users/cesarchaparro/Desktop/TripleTen/Personal_projects/benedict/Benedict_June_2023.csv')"
   ]
  },
  {
   "cell_type": "code",
   "execution_count": 5,
   "metadata": {},
   "outputs": [
    {
     "data": {
      "text/html": [
       "<div>\n",
       "<style scoped>\n",
       "    .dataframe tbody tr th:only-of-type {\n",
       "        vertical-align: middle;\n",
       "    }\n",
       "\n",
       "    .dataframe tbody tr th {\n",
       "        vertical-align: top;\n",
       "    }\n",
       "\n",
       "    .dataframe thead th {\n",
       "        text-align: right;\n",
       "    }\n",
       "</style>\n",
       "<table border=\"1\" class=\"dataframe\">\n",
       "  <thead>\n",
       "    <tr style=\"text-align: right;\">\n",
       "      <th></th>\n",
       "      <th>tlogId</th>\n",
       "      <th>businessDate</th>\n",
       "      <th>opened</th>\n",
       "      <th>closed</th>\n",
       "      <th>loyalty</th>\n",
       "      <th>ownerId</th>\n",
       "      <th>Owner</th>\n",
       "      <th>source</th>\n",
       "      <th>orderType</th>\n",
       "      <th>tableseats</th>\n",
       "      <th>...</th>\n",
       "      <th>grossAmount</th>\n",
       "      <th>defaultPrice</th>\n",
       "      <th>refundAmountIncludeVat</th>\n",
       "      <th>refundAmountExcludeVat</th>\n",
       "      <th>refundVatAmount</th>\n",
       "      <th>operatorAmount</th>\n",
       "      <th>menuName</th>\n",
       "      <th>sectionName</th>\n",
       "      <th>sectionOfferName</th>\n",
       "      <th>price</th>\n",
       "    </tr>\n",
       "  </thead>\n",
       "  <tbody>\n",
       "    <tr>\n",
       "      <th>0</th>\n",
       "      <td>6477bb6aeefee051a9ea604d</td>\n",
       "      <td>01/06/2023</td>\n",
       "      <td>01/06/2023 00:24:51</td>\n",
       "      <td>01/06/2023 00:26:02</td>\n",
       "      <td>0</td>\n",
       "      <td>6054e6be0e223adf6735db65</td>\n",
       "      <td>נועם צרפתי</td>\n",
       "      <td>restaurantOnPremise</td>\n",
       "      <td>seated</td>\n",
       "      <td>2.0</td>\n",
       "      <td>...</td>\n",
       "      <td>15.0</td>\n",
       "      <td>15.0</td>\n",
       "      <td>NaN</td>\n",
       "      <td>NaN</td>\n",
       "      <td>NaN</td>\n",
       "      <td>positiveSales</td>\n",
       "      <td>שתיה</td>\n",
       "      <td>שתיה חמה</td>\n",
       "      <td>הפוך גדול</td>\n",
       "      <td>15.0</td>\n",
       "    </tr>\n",
       "    <tr>\n",
       "      <th>1</th>\n",
       "      <td>6477bb6aeefee051a9ea604d</td>\n",
       "      <td>01/06/2023</td>\n",
       "      <td>01/06/2023 00:24:51</td>\n",
       "      <td>01/06/2023 00:26:02</td>\n",
       "      <td>0</td>\n",
       "      <td>6054e6be0e223adf6735db65</td>\n",
       "      <td>נועם צרפתי</td>\n",
       "      <td>restaurantOnPremise</td>\n",
       "      <td>seated</td>\n",
       "      <td>2.0</td>\n",
       "      <td>...</td>\n",
       "      <td>0.0</td>\n",
       "      <td>0.0</td>\n",
       "      <td>NaN</td>\n",
       "      <td>NaN</td>\n",
       "      <td>NaN</td>\n",
       "      <td>positiveSales</td>\n",
       "      <td>שתיה</td>\n",
       "      <td>שתיה חמה</td>\n",
       "      <td>הפוך גדול</td>\n",
       "      <td>15.0</td>\n",
       "    </tr>\n",
       "    <tr>\n",
       "      <th>2</th>\n",
       "      <td>6477bb6aeefee051a9ea604d</td>\n",
       "      <td>01/06/2023</td>\n",
       "      <td>01/06/2023 00:24:51</td>\n",
       "      <td>01/06/2023 00:26:02</td>\n",
       "      <td>0</td>\n",
       "      <td>6054e6be0e223adf6735db65</td>\n",
       "      <td>נועם צרפתי</td>\n",
       "      <td>restaurantOnPremise</td>\n",
       "      <td>seated</td>\n",
       "      <td>2.0</td>\n",
       "      <td>...</td>\n",
       "      <td>15.0</td>\n",
       "      <td>15.0</td>\n",
       "      <td>NaN</td>\n",
       "      <td>NaN</td>\n",
       "      <td>NaN</td>\n",
       "      <td>positiveSales</td>\n",
       "      <td>שתיה</td>\n",
       "      <td>שתיה חמה</td>\n",
       "      <td>הפוך גדול</td>\n",
       "      <td>15.0</td>\n",
       "    </tr>\n",
       "    <tr>\n",
       "      <th>3</th>\n",
       "      <td>6477bb6aeefee051a9ea604d</td>\n",
       "      <td>01/06/2023</td>\n",
       "      <td>01/06/2023 00:24:51</td>\n",
       "      <td>01/06/2023 00:26:02</td>\n",
       "      <td>0</td>\n",
       "      <td>6054e6be0e223adf6735db65</td>\n",
       "      <td>נועם צרפתי</td>\n",
       "      <td>restaurantOnPremise</td>\n",
       "      <td>seated</td>\n",
       "      <td>2.0</td>\n",
       "      <td>...</td>\n",
       "      <td>0.0</td>\n",
       "      <td>0.0</td>\n",
       "      <td>NaN</td>\n",
       "      <td>NaN</td>\n",
       "      <td>NaN</td>\n",
       "      <td>positiveSales</td>\n",
       "      <td>שתיה</td>\n",
       "      <td>שתיה חמה</td>\n",
       "      <td>הפוך גדול</td>\n",
       "      <td>15.0</td>\n",
       "    </tr>\n",
       "    <tr>\n",
       "      <th>4</th>\n",
       "      <td>6477bd8d1c901f25455a78bb</td>\n",
       "      <td>01/06/2023</td>\n",
       "      <td>31/05/2023 22:39:11</td>\n",
       "      <td>01/06/2023 00:35:09</td>\n",
       "      <td>0</td>\n",
       "      <td>6367778a025a3bb0f595df4f</td>\n",
       "      <td>אור  אלי</td>\n",
       "      <td>restaurantOnPremise</td>\n",
       "      <td>seated</td>\n",
       "      <td>4.0</td>\n",
       "      <td>...</td>\n",
       "      <td>41.0</td>\n",
       "      <td>41.0</td>\n",
       "      <td>NaN</td>\n",
       "      <td>NaN</td>\n",
       "      <td>NaN</td>\n",
       "      <td>positiveSales</td>\n",
       "      <td>אוכל</td>\n",
       "      <td>פנקייקס</td>\n",
       "      <td>מיני קינדר</td>\n",
       "      <td>41.0</td>\n",
       "    </tr>\n",
       "  </tbody>\n",
       "</table>\n",
       "<p>5 rows × 52 columns</p>\n",
       "</div>"
      ],
      "text/plain": [
       "                     tlogId businessDate               opened  \\\n",
       "0  6477bb6aeefee051a9ea604d   01/06/2023  01/06/2023 00:24:51   \n",
       "1  6477bb6aeefee051a9ea604d   01/06/2023  01/06/2023 00:24:51   \n",
       "2  6477bb6aeefee051a9ea604d   01/06/2023  01/06/2023 00:24:51   \n",
       "3  6477bb6aeefee051a9ea604d   01/06/2023  01/06/2023 00:24:51   \n",
       "4  6477bd8d1c901f25455a78bb   01/06/2023  31/05/2023 22:39:11   \n",
       "\n",
       "                closed  loyalty                   ownerId       Owner  \\\n",
       "0  01/06/2023 00:26:02        0  6054e6be0e223adf6735db65  נועם צרפתי   \n",
       "1  01/06/2023 00:26:02        0  6054e6be0e223adf6735db65  נועם צרפתי   \n",
       "2  01/06/2023 00:26:02        0  6054e6be0e223adf6735db65  נועם צרפתי   \n",
       "3  01/06/2023 00:26:02        0  6054e6be0e223adf6735db65  נועם צרפתי   \n",
       "4  01/06/2023 00:35:09        0  6367778a025a3bb0f595df4f    אור  אלי   \n",
       "\n",
       "                source orderType  tableseats  ...  grossAmount defaultPrice  \\\n",
       "0  restaurantOnPremise    seated         2.0  ...         15.0         15.0   \n",
       "1  restaurantOnPremise    seated         2.0  ...          0.0          0.0   \n",
       "2  restaurantOnPremise    seated         2.0  ...         15.0         15.0   \n",
       "3  restaurantOnPremise    seated         2.0  ...          0.0          0.0   \n",
       "4  restaurantOnPremise    seated         4.0  ...         41.0         41.0   \n",
       "\n",
       "  refundAmountIncludeVat refundAmountExcludeVat refundVatAmount  \\\n",
       "0                    NaN                    NaN             NaN   \n",
       "1                    NaN                    NaN             NaN   \n",
       "2                    NaN                    NaN             NaN   \n",
       "3                    NaN                    NaN             NaN   \n",
       "4                    NaN                    NaN             NaN   \n",
       "\n",
       "  operatorAmount menuName sectionName sectionOfferName price  \n",
       "0  positiveSales     שתיה    שתיה חמה        הפוך גדול  15.0  \n",
       "1  positiveSales     שתיה    שתיה חמה        הפוך גדול  15.0  \n",
       "2  positiveSales     שתיה    שתיה חמה        הפוך גדול  15.0  \n",
       "3  positiveSales     שתיה    שתיה חמה        הפוך גדול  15.0  \n",
       "4  positiveSales     אוכל     פנקייקס       מיני קינדר  41.0  \n",
       "\n",
       "[5 rows x 52 columns]"
      ]
     },
     "execution_count": 5,
     "metadata": {},
     "output_type": "execute_result"
    }
   ],
   "source": [
    "benedict.head()"
   ]
  },
  {
   "cell_type": "code",
   "execution_count": 6,
   "metadata": {},
   "outputs": [
    {
     "name": "stdout",
     "output_type": "stream",
     "text": [
      "<class 'pandas.core.frame.DataFrame'>\n",
      "RangeIndex: 112181 entries, 0 to 112180\n",
      "Data columns (total 52 columns):\n",
      " #   Column                  Non-Null Count   Dtype  \n",
      "---  ------                  --------------   -----  \n",
      " 0   tlogId                  112181 non-null  object \n",
      " 1   businessDate            112181 non-null  object \n",
      " 2   opened                  112181 non-null  object \n",
      " 3   closed                  112181 non-null  object \n",
      " 4   loyalty                 112181 non-null  int64  \n",
      " 5   ownerId                 112181 non-null  object \n",
      " 6   Owner                   112181 non-null  object \n",
      " 7   source                  112181 non-null  object \n",
      " 8   orderType               112181 non-null  object \n",
      " 9   tableseats              107358 non-null  float64\n",
      " 10  vatPercent              112181 non-null  int64  \n",
      " 11  workflowProfileName     109311 non-null  object \n",
      " 12  workflowProfileType     109311 non-null  object \n",
      " 13  ordererRegionName       174 non-null     object \n",
      " 14  mainTableTag            107358 non-null  object \n",
      " 15  itemId                  65125 non-null   object \n",
      " 16  orderedItemId           65125 non-null   object \n",
      " 17  type                    65125 non-null   object \n",
      " 18  orderedOfferId          64029 non-null   object \n",
      " 19  itemName                65125 non-null   object \n",
      " 20  offerName               65098 non-null   object \n",
      " 21  isModifier              65125 non-null   float64\n",
      " 22  chairNumber             65125 non-null   float64\n",
      " 23  prepared                65125 non-null   float64\n",
      " 24  return                  65125 non-null   float64\n",
      " 25  cancelled               65125 non-null   float64\n",
      " 26  sold                    65125 non-null   float64\n",
      " 27  netAmount               65125 non-null   float64\n",
      " 28  refundAmount            65125 non-null   float64\n",
      " 29  generalAmount           65125 non-null   float64\n",
      " 30  netAmountVat            65125 non-null   float64\n",
      " 31  returnAmount            65125 non-null   float64\n",
      " 32  cancellationAmount      65125 non-null   float64\n",
      " 33  priceReduction          65125 non-null   float64\n",
      " 34  isNegativeValue         65125 non-null   float64\n",
      " 35  modifierSold            65125 non-null   float64\n",
      " 36  modifierPrepared        65125 non-null   float64\n",
      " 37  netAmountIncludeVat     65125 non-null   float64\n",
      " 38  netAmountExcludeVat     65125 non-null   float64\n",
      " 39  salesAmountIncludeVat   65110 non-null   float64\n",
      " 40  salesAmountExcludeVat   65110 non-null   float64\n",
      " 41  salesVatAmount          65125 non-null   float64\n",
      " 42  grossAmount             65125 non-null   float64\n",
      " 43  defaultPrice            65125 non-null   float64\n",
      " 44  refundAmountIncludeVat  15 non-null      float64\n",
      " 45  refundAmountExcludeVat  15 non-null      float64\n",
      " 46  refundVatAmount         15 non-null      float64\n",
      " 47  operatorAmount          65125 non-null   object \n",
      " 48  menuName                65074 non-null   object \n",
      " 49  sectionName             65074 non-null   object \n",
      " 50  sectionOfferName        65074 non-null   object \n",
      " 51  price                   65074 non-null   float64\n",
      "dtypes: float64(28), int64(2), object(22)\n",
      "memory usage: 44.5+ MB\n"
     ]
    }
   ],
   "source": [
    "benedict.info()"
   ]
  },
  {
   "cell_type": "code",
   "execution_count": 7,
   "metadata": {},
   "outputs": [
    {
     "name": "stdout",
     "output_type": "stream",
     "text": [
      "<class 'pandas.core.frame.DataFrame'>\n",
      "RangeIndex: 112181 entries, 0 to 112180\n",
      "Data columns (total 52 columns):\n",
      " #   Column                  Non-Null Count   Dtype  \n",
      "---  ------                  --------------   -----  \n",
      " 0   tlogId                  112181 non-null  object \n",
      " 1   businessDate            112181 non-null  object \n",
      " 2   opened                  112181 non-null  object \n",
      " 3   closed                  112181 non-null  object \n",
      " 4   loyalty                 112181 non-null  int64  \n",
      " 5   ownerId                 112181 non-null  object \n",
      " 6   Owner                   112181 non-null  object \n",
      " 7   source                  112181 non-null  object \n",
      " 8   orderType               112181 non-null  object \n",
      " 9   tableseats              107358 non-null  float64\n",
      " 10  vatPercent              112181 non-null  int64  \n",
      " 11  workflowProfileName     109311 non-null  object \n",
      " 12  workflowProfileType     109311 non-null  object \n",
      " 13  ordererRegionName       174 non-null     object \n",
      " 14  mainTableTag            107358 non-null  object \n",
      " 15  itemId                  65125 non-null   object \n",
      " 16  orderedItemId           65125 non-null   object \n",
      " 17  type                    65125 non-null   object \n",
      " 18  orderedOfferId          64029 non-null   object \n",
      " 19  itemName                65125 non-null   object \n",
      " 20  offerName               65098 non-null   object \n",
      " 21  isModifier              65125 non-null   float64\n",
      " 22  chairNumber             65125 non-null   float64\n",
      " 23  prepared                65125 non-null   float64\n",
      " 24  return                  65125 non-null   float64\n",
      " 25  cancelled               65125 non-null   float64\n",
      " 26  sold                    65125 non-null   float64\n",
      " 27  netAmount               65125 non-null   float64\n",
      " 28  refundAmount            65125 non-null   float64\n",
      " 29  generalAmount           65125 non-null   float64\n",
      " 30  netAmountVat            65125 non-null   float64\n",
      " 31  returnAmount            65125 non-null   float64\n",
      " 32  cancellationAmount      65125 non-null   float64\n",
      " 33  priceReduction          65125 non-null   float64\n",
      " 34  isNegativeValue         65125 non-null   float64\n",
      " 35  modifierSold            65125 non-null   float64\n",
      " 36  modifierPrepared        65125 non-null   float64\n",
      " 37  netAmountIncludeVat     65125 non-null   float64\n",
      " 38  netAmountExcludeVat     65125 non-null   float64\n",
      " 39  salesAmountIncludeVat   65110 non-null   float64\n",
      " 40  salesAmountExcludeVat   65110 non-null   float64\n",
      " 41  salesVatAmount          65125 non-null   float64\n",
      " 42  grossAmount             65125 non-null   float64\n",
      " 43  defaultPrice            65125 non-null   float64\n",
      " 44  refundAmountIncludeVat  15 non-null      float64\n",
      " 45  refundAmountExcludeVat  15 non-null      float64\n",
      " 46  refundVatAmount         15 non-null      float64\n",
      " 47  operatorAmount          65125 non-null   object \n",
      " 48  menuName                65074 non-null   object \n",
      " 49  sectionName             65074 non-null   object \n",
      " 50  sectionOfferName        65074 non-null   object \n",
      " 51  price                   65074 non-null   float64\n",
      "dtypes: float64(28), int64(2), object(22)\n",
      "memory usage: 188.1 MB\n"
     ]
    }
   ],
   "source": [
    "# getting info and memory usage for dataframe.\n",
    "benedict.info(memory_usage = 'deep')"
   ]
  },
  {
   "cell_type": "markdown",
   "metadata": {},
   "source": [
    "***"
   ]
  },
  {
   "cell_type": "code",
   "execution_count": 8,
   "metadata": {},
   "outputs": [
    {
     "name": "stdout",
     "output_type": "stream",
     "text": [
      "Index(['transaction_id', 'transaction_date', 'order_open_time',\n",
      "       'order_close_time', 'is_loyalty_member', 'employee_id', 'employee_name',\n",
      "       'order_source', 'order_type', 'number_of_diners', 'vat_percentage',\n",
      "       'workflow_profile_name', 'workflow_profile_type', 'customer_region',\n",
      "       'restaurant_table_area', 'item_id', 'ordered_item_id', 'item_type',\n",
      "       'ordered_offer_id', 'item_name', 'offer_name', 'is_item_modifier',\n",
      "       'chair_number', 'is_prepared', 'is_returned', 'is_cancelled', 'is_sold',\n",
      "       'net_amount', 'refund_amount', 'total_amount', 'vat_amount',\n",
      "       'returned_amount', 'cancelled_amount', 'discount_amount', 'is_credit',\n",
      "       'modifiers_sold', 'modifiers_prepared', 'net_amount_with_vat',\n",
      "       'net_amount_without_vat', 'total_sales_with_vat',\n",
      "       'total_sales_without_vat', 'sales_vat_amount', 'gross_amount',\n",
      "       'base_price', 'refund_with_vat', 'refund_without_vat',\n",
      "       'refund_vat_amount', 'operator_amount', 'menu_section',\n",
      "       'menu_subcategory', 'menu_secondary_subcategory', 'final_item_price'],\n",
      "      dtype='object')\n"
     ]
    }
   ],
   "source": [
    "# Define the mapping of old column names to new column names\n",
    "column_mapping = {\n",
    "    \"tlogId\": \"transaction_id\",\n",
    "    \"businessDate\": \"transaction_date\",\n",
    "    \"opened\": \"order_open_time\",\n",
    "    \"closed\": \"order_close_time\",\n",
    "    \"loyalty\": \"is_loyalty_member\",\n",
    "    \"ownerId\": \"employee_id\",\n",
    "    \"Owner\": \"employee_name\",\n",
    "    \"source\": \"order_source\",\n",
    "    \"orderType\": \"order_type\",\n",
    "    \"tableseats\": \"number_of_diners\",\n",
    "    \"vatPercent\": \"vat_percentage\",\n",
    "    \"workflowProfileName\": \"workflow_profile_name\",\n",
    "    \"workflowProfileType\": \"workflow_profile_type\",\n",
    "    \"ordererRegionName\": \"customer_region\",\n",
    "    \"mainTableTag\": \"restaurant_table_area\",\n",
    "    \"itemId\": \"item_id\",\n",
    "    \"orderedItemId\": \"ordered_item_id\",\n",
    "    \"type\": \"item_type\",\n",
    "    \"orderedOfferId\": \"ordered_offer_id\",\n",
    "    \"itemName\": \"item_name\",\n",
    "    \"offerName\": \"offer_name\",\n",
    "    \"isModifier\": \"is_item_modifier\",\n",
    "    \"chairNumber\": \"chair_number\",\n",
    "    \"prepared\": \"is_prepared\",\n",
    "    \"return\": \"is_returned\",\n",
    "    \"cancelled\": \"is_cancelled\",\n",
    "    \"sold\": \"is_sold\",\n",
    "    \"netAmount\": \"net_amount\",\n",
    "    \"refundAmount\": \"refund_amount\",\n",
    "    \"generalAmount\": \"total_amount\",\n",
    "    \"netAmountVat\": \"vat_amount\",\n",
    "    \"returnAmount\": \"returned_amount\",\n",
    "    \"cancellationAmount\": \"cancelled_amount\",\n",
    "    \"priceReduction\": \"discount_amount\",\n",
    "    \"isNegativeValue\": \"is_credit\",\n",
    "    \"modifierSold\": \"modifiers_sold\",\n",
    "    \"modifierPrepared\": \"modifiers_prepared\",\n",
    "    \"netAmountIncludeVat\": \"net_amount_with_vat\",\n",
    "    \"netAmountExcludeVat\": \"net_amount_without_vat\",\n",
    "    \"salesAmountIncludeVat\": \"total_sales_with_vat\",\n",
    "    \"salesAmountExcludeVat\": \"total_sales_without_vat\",\n",
    "    \"salesVatAmount\": \"sales_vat_amount\",\n",
    "    \"grossAmount\": \"gross_amount\",\n",
    "    \"defaultPrice\": \"base_price\",\n",
    "    \"refundAmountIncludeVat\": \"refund_with_vat\",\n",
    "    \"refundAmountExcludeVat\": \"refund_without_vat\",\n",
    "    \"refundVatAmount\": \"refund_vat_amount\",\n",
    "    \"operatorAmount\": \"operator_amount\",\n",
    "    \"menuName\": \"menu_section\",\n",
    "    \"sectionName\": \"menu_subcategory\",\n",
    "    \"sectionOfferName\": \"menu_secondary_subcategory\",\n",
    "    \"price\": \"final_item_price\"\n",
    "}\n",
    "\n",
    "# Rename the columns\n",
    "benedict.rename(columns=column_mapping, inplace=True)\n",
    "\n",
    "# Display the updated column names (Optional)\n",
    "print(benedict.columns)"
   ]
  },
  {
   "cell_type": "code",
   "execution_count": 9,
   "metadata": {},
   "outputs": [
    {
     "data": {
      "text/plain": [
       "0    5c5c152d8906156c08681fe6\n",
       "1    5fe19a5c381027c4c3d70b56\n",
       "2    5c5c152d8906156c08681fe6\n",
       "3    5fe19a5c381027c4c3d70b56\n",
       "4    5c5c15568906156c086822c3\n",
       "Name: item_id, dtype: object"
      ]
     },
     "execution_count": 9,
     "metadata": {},
     "output_type": "execute_result"
    }
   ],
   "source": [
    "benedict['item_id'].head()"
   ]
  },
  {
   "cell_type": "code",
   "execution_count": 10,
   "metadata": {},
   "outputs": [
    {
     "data": {
      "text/plain": [
       "0    5c5c15c78906156c086828ad\n",
       "1    5c5c15c78906156c086828ad\n",
       "2    5c5c15c78906156c086828ad\n",
       "3    5c5c15c78906156c086828ad\n",
       "4    619b9faf82d9b4febd5b2dd2\n",
       "Name: ordered_item_id, dtype: object"
      ]
     },
     "execution_count": 10,
     "metadata": {},
     "output_type": "execute_result"
    }
   ],
   "source": [
    "benedict['ordered_item_id'].head()"
   ]
  },
  {
   "cell_type": "code",
   "execution_count": 11,
   "metadata": {},
   "outputs": [
    {
     "data": {
      "text/html": [
       "<style type=\"text/css\">\n",
       "</style>\n",
       "<table id=\"T_fe204\">\n",
       "  <thead>\n",
       "    <tr>\n",
       "      <th class=\"blank level0\" >&nbsp;</th>\n",
       "      <th id=\"T_fe204_level0_col0\" class=\"col_heading level0 col0\" >missing</th>\n",
       "      <th id=\"T_fe204_level0_col1\" class=\"col_heading level0 col1\" >total</th>\n",
       "      <th id=\"T_fe204_level0_col2\" class=\"col_heading level0 col2\" >percent</th>\n",
       "    </tr>\n",
       "  </thead>\n",
       "  <tbody>\n",
       "    <tr>\n",
       "      <th id=\"T_fe204_level0_row0\" class=\"row_heading level0 row0\" >refund_vat_amount</th>\n",
       "      <td id=\"T_fe204_row0_col0\" class=\"data row0 col0\" >112,166</td>\n",
       "      <td id=\"T_fe204_row0_col1\" class=\"data row0 col1\" >112,181</td>\n",
       "      <td id=\"T_fe204_row0_col2\" class=\"data row0 col2\" >99.99%</td>\n",
       "    </tr>\n",
       "    <tr>\n",
       "      <th id=\"T_fe204_level0_row1\" class=\"row_heading level0 row1\" >refund_with_vat</th>\n",
       "      <td id=\"T_fe204_row1_col0\" class=\"data row1 col0\" >112,166</td>\n",
       "      <td id=\"T_fe204_row1_col1\" class=\"data row1 col1\" >112,181</td>\n",
       "      <td id=\"T_fe204_row1_col2\" class=\"data row1 col2\" >99.99%</td>\n",
       "    </tr>\n",
       "    <tr>\n",
       "      <th id=\"T_fe204_level0_row2\" class=\"row_heading level0 row2\" >refund_without_vat</th>\n",
       "      <td id=\"T_fe204_row2_col0\" class=\"data row2 col0\" >112,166</td>\n",
       "      <td id=\"T_fe204_row2_col1\" class=\"data row2 col1\" >112,181</td>\n",
       "      <td id=\"T_fe204_row2_col2\" class=\"data row2 col2\" >99.99%</td>\n",
       "    </tr>\n",
       "    <tr>\n",
       "      <th id=\"T_fe204_level0_row3\" class=\"row_heading level0 row3\" >customer_region</th>\n",
       "      <td id=\"T_fe204_row3_col0\" class=\"data row3 col0\" >112,007</td>\n",
       "      <td id=\"T_fe204_row3_col1\" class=\"data row3 col1\" >112,181</td>\n",
       "      <td id=\"T_fe204_row3_col2\" class=\"data row3 col2\" >99.84%</td>\n",
       "    </tr>\n",
       "    <tr>\n",
       "      <th id=\"T_fe204_level0_row4\" class=\"row_heading level0 row4\" >ordered_offer_id</th>\n",
       "      <td id=\"T_fe204_row4_col0\" class=\"data row4 col0\" >48,152</td>\n",
       "      <td id=\"T_fe204_row4_col1\" class=\"data row4 col1\" >112,181</td>\n",
       "      <td id=\"T_fe204_row4_col2\" class=\"data row4 col2\" >42.92%</td>\n",
       "    </tr>\n",
       "    <tr>\n",
       "      <th id=\"T_fe204_level0_row5\" class=\"row_heading level0 row5\" >final_item_price</th>\n",
       "      <td id=\"T_fe204_row5_col0\" class=\"data row5 col0\" >47,107</td>\n",
       "      <td id=\"T_fe204_row5_col1\" class=\"data row5 col1\" >112,181</td>\n",
       "      <td id=\"T_fe204_row5_col2\" class=\"data row5 col2\" >41.99%</td>\n",
       "    </tr>\n",
       "    <tr>\n",
       "      <th id=\"T_fe204_level0_row6\" class=\"row_heading level0 row6\" >menu_subcategory</th>\n",
       "      <td id=\"T_fe204_row6_col0\" class=\"data row6 col0\" >47,107</td>\n",
       "      <td id=\"T_fe204_row6_col1\" class=\"data row6 col1\" >112,181</td>\n",
       "      <td id=\"T_fe204_row6_col2\" class=\"data row6 col2\" >41.99%</td>\n",
       "    </tr>\n",
       "    <tr>\n",
       "      <th id=\"T_fe204_level0_row7\" class=\"row_heading level0 row7\" >menu_section</th>\n",
       "      <td id=\"T_fe204_row7_col0\" class=\"data row7 col0\" >47,107</td>\n",
       "      <td id=\"T_fe204_row7_col1\" class=\"data row7 col1\" >112,181</td>\n",
       "      <td id=\"T_fe204_row7_col2\" class=\"data row7 col2\" >41.99%</td>\n",
       "    </tr>\n",
       "    <tr>\n",
       "      <th id=\"T_fe204_level0_row8\" class=\"row_heading level0 row8\" >menu_secondary_subcategory</th>\n",
       "      <td id=\"T_fe204_row8_col0\" class=\"data row8 col0\" >47,107</td>\n",
       "      <td id=\"T_fe204_row8_col1\" class=\"data row8 col1\" >112,181</td>\n",
       "      <td id=\"T_fe204_row8_col2\" class=\"data row8 col2\" >41.99%</td>\n",
       "    </tr>\n",
       "    <tr>\n",
       "      <th id=\"T_fe204_level0_row9\" class=\"row_heading level0 row9\" >offer_name</th>\n",
       "      <td id=\"T_fe204_row9_col0\" class=\"data row9 col0\" >47,083</td>\n",
       "      <td id=\"T_fe204_row9_col1\" class=\"data row9 col1\" >112,181</td>\n",
       "      <td id=\"T_fe204_row9_col2\" class=\"data row9 col2\" >41.97%</td>\n",
       "    </tr>\n",
       "    <tr>\n",
       "      <th id=\"T_fe204_level0_row10\" class=\"row_heading level0 row10\" >total_sales_without_vat</th>\n",
       "      <td id=\"T_fe204_row10_col0\" class=\"data row10 col0\" >47,071</td>\n",
       "      <td id=\"T_fe204_row10_col1\" class=\"data row10 col1\" >112,181</td>\n",
       "      <td id=\"T_fe204_row10_col2\" class=\"data row10 col2\" >41.96%</td>\n",
       "    </tr>\n",
       "    <tr>\n",
       "      <th id=\"T_fe204_level0_row11\" class=\"row_heading level0 row11\" >total_sales_with_vat</th>\n",
       "      <td id=\"T_fe204_row11_col0\" class=\"data row11 col0\" >47,071</td>\n",
       "      <td id=\"T_fe204_row11_col1\" class=\"data row11 col1\" >112,181</td>\n",
       "      <td id=\"T_fe204_row11_col2\" class=\"data row11 col2\" >41.96%</td>\n",
       "    </tr>\n",
       "    <tr>\n",
       "      <th id=\"T_fe204_level0_row12\" class=\"row_heading level0 row12\" >operator_amount</th>\n",
       "      <td id=\"T_fe204_row12_col0\" class=\"data row12 col0\" >47,056</td>\n",
       "      <td id=\"T_fe204_row12_col1\" class=\"data row12 col1\" >112,181</td>\n",
       "      <td id=\"T_fe204_row12_col2\" class=\"data row12 col2\" >41.95%</td>\n",
       "    </tr>\n",
       "    <tr>\n",
       "      <th id=\"T_fe204_level0_row13\" class=\"row_heading level0 row13\" >modifiers_sold</th>\n",
       "      <td id=\"T_fe204_row13_col0\" class=\"data row13 col0\" >47,056</td>\n",
       "      <td id=\"T_fe204_row13_col1\" class=\"data row13 col1\" >112,181</td>\n",
       "      <td id=\"T_fe204_row13_col2\" class=\"data row13 col2\" >41.95%</td>\n",
       "    </tr>\n",
       "    <tr>\n",
       "      <th id=\"T_fe204_level0_row14\" class=\"row_heading level0 row14\" >vat_amount</th>\n",
       "      <td id=\"T_fe204_row14_col0\" class=\"data row14 col0\" >47,056</td>\n",
       "      <td id=\"T_fe204_row14_col1\" class=\"data row14 col1\" >112,181</td>\n",
       "      <td id=\"T_fe204_row14_col2\" class=\"data row14 col2\" >41.95%</td>\n",
       "    </tr>\n",
       "    <tr>\n",
       "      <th id=\"T_fe204_level0_row15\" class=\"row_heading level0 row15\" >returned_amount</th>\n",
       "      <td id=\"T_fe204_row15_col0\" class=\"data row15 col0\" >47,056</td>\n",
       "      <td id=\"T_fe204_row15_col1\" class=\"data row15 col1\" >112,181</td>\n",
       "      <td id=\"T_fe204_row15_col2\" class=\"data row15 col2\" >41.95%</td>\n",
       "    </tr>\n",
       "    <tr>\n",
       "      <th id=\"T_fe204_level0_row16\" class=\"row_heading level0 row16\" >cancelled_amount</th>\n",
       "      <td id=\"T_fe204_row16_col0\" class=\"data row16 col0\" >47,056</td>\n",
       "      <td id=\"T_fe204_row16_col1\" class=\"data row16 col1\" >112,181</td>\n",
       "      <td id=\"T_fe204_row16_col2\" class=\"data row16 col2\" >41.95%</td>\n",
       "    </tr>\n",
       "    <tr>\n",
       "      <th id=\"T_fe204_level0_row17\" class=\"row_heading level0 row17\" >discount_amount</th>\n",
       "      <td id=\"T_fe204_row17_col0\" class=\"data row17 col0\" >47,056</td>\n",
       "      <td id=\"T_fe204_row17_col1\" class=\"data row17 col1\" >112,181</td>\n",
       "      <td id=\"T_fe204_row17_col2\" class=\"data row17 col2\" >41.95%</td>\n",
       "    </tr>\n",
       "    <tr>\n",
       "      <th id=\"T_fe204_level0_row18\" class=\"row_heading level0 row18\" >is_credit</th>\n",
       "      <td id=\"T_fe204_row18_col0\" class=\"data row18 col0\" >47,056</td>\n",
       "      <td id=\"T_fe204_row18_col1\" class=\"data row18 col1\" >112,181</td>\n",
       "      <td id=\"T_fe204_row18_col2\" class=\"data row18 col2\" >41.95%</td>\n",
       "    </tr>\n",
       "    <tr>\n",
       "      <th id=\"T_fe204_level0_row19\" class=\"row_heading level0 row19\" >net_amount_with_vat</th>\n",
       "      <td id=\"T_fe204_row19_col0\" class=\"data row19 col0\" >47,056</td>\n",
       "      <td id=\"T_fe204_row19_col1\" class=\"data row19 col1\" >112,181</td>\n",
       "      <td id=\"T_fe204_row19_col2\" class=\"data row19 col2\" >41.95%</td>\n",
       "    </tr>\n",
       "    <tr>\n",
       "      <th id=\"T_fe204_level0_row20\" class=\"row_heading level0 row20\" >modifiers_prepared</th>\n",
       "      <td id=\"T_fe204_row20_col0\" class=\"data row20 col0\" >47,056</td>\n",
       "      <td id=\"T_fe204_row20_col1\" class=\"data row20 col1\" >112,181</td>\n",
       "      <td id=\"T_fe204_row20_col2\" class=\"data row20 col2\" >41.95%</td>\n",
       "    </tr>\n",
       "    <tr>\n",
       "      <th id=\"T_fe204_level0_row21\" class=\"row_heading level0 row21\" >net_amount_without_vat</th>\n",
       "      <td id=\"T_fe204_row21_col0\" class=\"data row21 col0\" >47,056</td>\n",
       "      <td id=\"T_fe204_row21_col1\" class=\"data row21 col1\" >112,181</td>\n",
       "      <td id=\"T_fe204_row21_col2\" class=\"data row21 col2\" >41.95%</td>\n",
       "    </tr>\n",
       "    <tr>\n",
       "      <th id=\"T_fe204_level0_row22\" class=\"row_heading level0 row22\" >refund_amount</th>\n",
       "      <td id=\"T_fe204_row22_col0\" class=\"data row22 col0\" >47,056</td>\n",
       "      <td id=\"T_fe204_row22_col1\" class=\"data row22 col1\" >112,181</td>\n",
       "      <td id=\"T_fe204_row22_col2\" class=\"data row22 col2\" >41.95%</td>\n",
       "    </tr>\n",
       "    <tr>\n",
       "      <th id=\"T_fe204_level0_row23\" class=\"row_heading level0 row23\" >sales_vat_amount</th>\n",
       "      <td id=\"T_fe204_row23_col0\" class=\"data row23 col0\" >47,056</td>\n",
       "      <td id=\"T_fe204_row23_col1\" class=\"data row23 col1\" >112,181</td>\n",
       "      <td id=\"T_fe204_row23_col2\" class=\"data row23 col2\" >41.95%</td>\n",
       "    </tr>\n",
       "    <tr>\n",
       "      <th id=\"T_fe204_level0_row24\" class=\"row_heading level0 row24\" >gross_amount</th>\n",
       "      <td id=\"T_fe204_row24_col0\" class=\"data row24 col0\" >47,056</td>\n",
       "      <td id=\"T_fe204_row24_col1\" class=\"data row24 col1\" >112,181</td>\n",
       "      <td id=\"T_fe204_row24_col2\" class=\"data row24 col2\" >41.95%</td>\n",
       "    </tr>\n",
       "    <tr>\n",
       "      <th id=\"T_fe204_level0_row25\" class=\"row_heading level0 row25\" >base_price</th>\n",
       "      <td id=\"T_fe204_row25_col0\" class=\"data row25 col0\" >47,056</td>\n",
       "      <td id=\"T_fe204_row25_col1\" class=\"data row25 col1\" >112,181</td>\n",
       "      <td id=\"T_fe204_row25_col2\" class=\"data row25 col2\" >41.95%</td>\n",
       "    </tr>\n",
       "    <tr>\n",
       "      <th id=\"T_fe204_level0_row26\" class=\"row_heading level0 row26\" >total_amount</th>\n",
       "      <td id=\"T_fe204_row26_col0\" class=\"data row26 col0\" >47,056</td>\n",
       "      <td id=\"T_fe204_row26_col1\" class=\"data row26 col1\" >112,181</td>\n",
       "      <td id=\"T_fe204_row26_col2\" class=\"data row26 col2\" >41.95%</td>\n",
       "    </tr>\n",
       "    <tr>\n",
       "      <th id=\"T_fe204_level0_row27\" class=\"row_heading level0 row27\" >is_sold</th>\n",
       "      <td id=\"T_fe204_row27_col0\" class=\"data row27 col0\" >47,056</td>\n",
       "      <td id=\"T_fe204_row27_col1\" class=\"data row27 col1\" >112,181</td>\n",
       "      <td id=\"T_fe204_row27_col2\" class=\"data row27 col2\" >41.95%</td>\n",
       "    </tr>\n",
       "    <tr>\n",
       "      <th id=\"T_fe204_level0_row28\" class=\"row_heading level0 row28\" >net_amount</th>\n",
       "      <td id=\"T_fe204_row28_col0\" class=\"data row28 col0\" >47,056</td>\n",
       "      <td id=\"T_fe204_row28_col1\" class=\"data row28 col1\" >112,181</td>\n",
       "      <td id=\"T_fe204_row28_col2\" class=\"data row28 col2\" >41.95%</td>\n",
       "    </tr>\n",
       "    <tr>\n",
       "      <th id=\"T_fe204_level0_row29\" class=\"row_heading level0 row29\" >is_cancelled</th>\n",
       "      <td id=\"T_fe204_row29_col0\" class=\"data row29 col0\" >47,056</td>\n",
       "      <td id=\"T_fe204_row29_col1\" class=\"data row29 col1\" >112,181</td>\n",
       "      <td id=\"T_fe204_row29_col2\" class=\"data row29 col2\" >41.95%</td>\n",
       "    </tr>\n",
       "    <tr>\n",
       "      <th id=\"T_fe204_level0_row30\" class=\"row_heading level0 row30\" >is_returned</th>\n",
       "      <td id=\"T_fe204_row30_col0\" class=\"data row30 col0\" >47,056</td>\n",
       "      <td id=\"T_fe204_row30_col1\" class=\"data row30 col1\" >112,181</td>\n",
       "      <td id=\"T_fe204_row30_col2\" class=\"data row30 col2\" >41.95%</td>\n",
       "    </tr>\n",
       "    <tr>\n",
       "      <th id=\"T_fe204_level0_row31\" class=\"row_heading level0 row31\" >is_prepared</th>\n",
       "      <td id=\"T_fe204_row31_col0\" class=\"data row31 col0\" >47,056</td>\n",
       "      <td id=\"T_fe204_row31_col1\" class=\"data row31 col1\" >112,181</td>\n",
       "      <td id=\"T_fe204_row31_col2\" class=\"data row31 col2\" >41.95%</td>\n",
       "    </tr>\n",
       "    <tr>\n",
       "      <th id=\"T_fe204_level0_row32\" class=\"row_heading level0 row32\" >chair_number</th>\n",
       "      <td id=\"T_fe204_row32_col0\" class=\"data row32 col0\" >47,056</td>\n",
       "      <td id=\"T_fe204_row32_col1\" class=\"data row32 col1\" >112,181</td>\n",
       "      <td id=\"T_fe204_row32_col2\" class=\"data row32 col2\" >41.95%</td>\n",
       "    </tr>\n",
       "    <tr>\n",
       "      <th id=\"T_fe204_level0_row33\" class=\"row_heading level0 row33\" >is_item_modifier</th>\n",
       "      <td id=\"T_fe204_row33_col0\" class=\"data row33 col0\" >47,056</td>\n",
       "      <td id=\"T_fe204_row33_col1\" class=\"data row33 col1\" >112,181</td>\n",
       "      <td id=\"T_fe204_row33_col2\" class=\"data row33 col2\" >41.95%</td>\n",
       "    </tr>\n",
       "    <tr>\n",
       "      <th id=\"T_fe204_level0_row34\" class=\"row_heading level0 row34\" >item_name</th>\n",
       "      <td id=\"T_fe204_row34_col0\" class=\"data row34 col0\" >47,056</td>\n",
       "      <td id=\"T_fe204_row34_col1\" class=\"data row34 col1\" >112,181</td>\n",
       "      <td id=\"T_fe204_row34_col2\" class=\"data row34 col2\" >41.95%</td>\n",
       "    </tr>\n",
       "    <tr>\n",
       "      <th id=\"T_fe204_level0_row35\" class=\"row_heading level0 row35\" >item_type</th>\n",
       "      <td id=\"T_fe204_row35_col0\" class=\"data row35 col0\" >47,056</td>\n",
       "      <td id=\"T_fe204_row35_col1\" class=\"data row35 col1\" >112,181</td>\n",
       "      <td id=\"T_fe204_row35_col2\" class=\"data row35 col2\" >41.95%</td>\n",
       "    </tr>\n",
       "    <tr>\n",
       "      <th id=\"T_fe204_level0_row36\" class=\"row_heading level0 row36\" >ordered_item_id</th>\n",
       "      <td id=\"T_fe204_row36_col0\" class=\"data row36 col0\" >47,056</td>\n",
       "      <td id=\"T_fe204_row36_col1\" class=\"data row36 col1\" >112,181</td>\n",
       "      <td id=\"T_fe204_row36_col2\" class=\"data row36 col2\" >41.95%</td>\n",
       "    </tr>\n",
       "    <tr>\n",
       "      <th id=\"T_fe204_level0_row37\" class=\"row_heading level0 row37\" >item_id</th>\n",
       "      <td id=\"T_fe204_row37_col0\" class=\"data row37 col0\" >47,056</td>\n",
       "      <td id=\"T_fe204_row37_col1\" class=\"data row37 col1\" >112,181</td>\n",
       "      <td id=\"T_fe204_row37_col2\" class=\"data row37 col2\" >41.95%</td>\n",
       "    </tr>\n",
       "    <tr>\n",
       "      <th id=\"T_fe204_level0_row38\" class=\"row_heading level0 row38\" >restaurant_table_area</th>\n",
       "      <td id=\"T_fe204_row38_col0\" class=\"data row38 col0\" >4,823</td>\n",
       "      <td id=\"T_fe204_row38_col1\" class=\"data row38 col1\" >112,181</td>\n",
       "      <td id=\"T_fe204_row38_col2\" class=\"data row38 col2\" >4.30%</td>\n",
       "    </tr>\n",
       "    <tr>\n",
       "      <th id=\"T_fe204_level0_row39\" class=\"row_heading level0 row39\" >number_of_diners</th>\n",
       "      <td id=\"T_fe204_row39_col0\" class=\"data row39 col0\" >4,823</td>\n",
       "      <td id=\"T_fe204_row39_col1\" class=\"data row39 col1\" >112,181</td>\n",
       "      <td id=\"T_fe204_row39_col2\" class=\"data row39 col2\" >4.30%</td>\n",
       "    </tr>\n",
       "    <tr>\n",
       "      <th id=\"T_fe204_level0_row40\" class=\"row_heading level0 row40\" >workflow_profile_name</th>\n",
       "      <td id=\"T_fe204_row40_col0\" class=\"data row40 col0\" >2,870</td>\n",
       "      <td id=\"T_fe204_row40_col1\" class=\"data row40 col1\" >112,181</td>\n",
       "      <td id=\"T_fe204_row40_col2\" class=\"data row40 col2\" >2.56%</td>\n",
       "    </tr>\n",
       "    <tr>\n",
       "      <th id=\"T_fe204_level0_row41\" class=\"row_heading level0 row41\" >workflow_profile_type</th>\n",
       "      <td id=\"T_fe204_row41_col0\" class=\"data row41 col0\" >2,870</td>\n",
       "      <td id=\"T_fe204_row41_col1\" class=\"data row41 col1\" >112,181</td>\n",
       "      <td id=\"T_fe204_row41_col2\" class=\"data row41 col2\" >2.56%</td>\n",
       "    </tr>\n",
       "    <tr>\n",
       "      <th id=\"T_fe204_level0_row42\" class=\"row_heading level0 row42\" >vat_percentage</th>\n",
       "      <td id=\"T_fe204_row42_col0\" class=\"data row42 col0\" >0</td>\n",
       "      <td id=\"T_fe204_row42_col1\" class=\"data row42 col1\" >112,181</td>\n",
       "      <td id=\"T_fe204_row42_col2\" class=\"data row42 col2\" >0.00%</td>\n",
       "    </tr>\n",
       "    <tr>\n",
       "      <th id=\"T_fe204_level0_row43\" class=\"row_heading level0 row43\" >transaction_date</th>\n",
       "      <td id=\"T_fe204_row43_col0\" class=\"data row43 col0\" >0</td>\n",
       "      <td id=\"T_fe204_row43_col1\" class=\"data row43 col1\" >112,181</td>\n",
       "      <td id=\"T_fe204_row43_col2\" class=\"data row43 col2\" >0.00%</td>\n",
       "    </tr>\n",
       "    <tr>\n",
       "      <th id=\"T_fe204_level0_row44\" class=\"row_heading level0 row44\" >order_type</th>\n",
       "      <td id=\"T_fe204_row44_col0\" class=\"data row44 col0\" >0</td>\n",
       "      <td id=\"T_fe204_row44_col1\" class=\"data row44 col1\" >112,181</td>\n",
       "      <td id=\"T_fe204_row44_col2\" class=\"data row44 col2\" >0.00%</td>\n",
       "    </tr>\n",
       "    <tr>\n",
       "      <th id=\"T_fe204_level0_row45\" class=\"row_heading level0 row45\" >order_source</th>\n",
       "      <td id=\"T_fe204_row45_col0\" class=\"data row45 col0\" >0</td>\n",
       "      <td id=\"T_fe204_row45_col1\" class=\"data row45 col1\" >112,181</td>\n",
       "      <td id=\"T_fe204_row45_col2\" class=\"data row45 col2\" >0.00%</td>\n",
       "    </tr>\n",
       "    <tr>\n",
       "      <th id=\"T_fe204_level0_row46\" class=\"row_heading level0 row46\" >employee_name</th>\n",
       "      <td id=\"T_fe204_row46_col0\" class=\"data row46 col0\" >0</td>\n",
       "      <td id=\"T_fe204_row46_col1\" class=\"data row46 col1\" >112,181</td>\n",
       "      <td id=\"T_fe204_row46_col2\" class=\"data row46 col2\" >0.00%</td>\n",
       "    </tr>\n",
       "    <tr>\n",
       "      <th id=\"T_fe204_level0_row47\" class=\"row_heading level0 row47\" >employee_id</th>\n",
       "      <td id=\"T_fe204_row47_col0\" class=\"data row47 col0\" >0</td>\n",
       "      <td id=\"T_fe204_row47_col1\" class=\"data row47 col1\" >112,181</td>\n",
       "      <td id=\"T_fe204_row47_col2\" class=\"data row47 col2\" >0.00%</td>\n",
       "    </tr>\n",
       "    <tr>\n",
       "      <th id=\"T_fe204_level0_row48\" class=\"row_heading level0 row48\" >is_loyalty_member</th>\n",
       "      <td id=\"T_fe204_row48_col0\" class=\"data row48 col0\" >0</td>\n",
       "      <td id=\"T_fe204_row48_col1\" class=\"data row48 col1\" >112,181</td>\n",
       "      <td id=\"T_fe204_row48_col2\" class=\"data row48 col2\" >0.00%</td>\n",
       "    </tr>\n",
       "    <tr>\n",
       "      <th id=\"T_fe204_level0_row49\" class=\"row_heading level0 row49\" >order_close_time</th>\n",
       "      <td id=\"T_fe204_row49_col0\" class=\"data row49 col0\" >0</td>\n",
       "      <td id=\"T_fe204_row49_col1\" class=\"data row49 col1\" >112,181</td>\n",
       "      <td id=\"T_fe204_row49_col2\" class=\"data row49 col2\" >0.00%</td>\n",
       "    </tr>\n",
       "    <tr>\n",
       "      <th id=\"T_fe204_level0_row50\" class=\"row_heading level0 row50\" >order_open_time</th>\n",
       "      <td id=\"T_fe204_row50_col0\" class=\"data row50 col0\" >0</td>\n",
       "      <td id=\"T_fe204_row50_col1\" class=\"data row50 col1\" >112,181</td>\n",
       "      <td id=\"T_fe204_row50_col2\" class=\"data row50 col2\" >0.00%</td>\n",
       "    </tr>\n",
       "    <tr>\n",
       "      <th id=\"T_fe204_level0_row51\" class=\"row_heading level0 row51\" >transaction_id</th>\n",
       "      <td id=\"T_fe204_row51_col0\" class=\"data row51 col0\" >0</td>\n",
       "      <td id=\"T_fe204_row51_col1\" class=\"data row51 col1\" >112,181</td>\n",
       "      <td id=\"T_fe204_row51_col2\" class=\"data row51 col2\" >0.00%</td>\n",
       "    </tr>\n",
       "  </tbody>\n",
       "</table>\n"
      ],
      "text/plain": [
       "<pandas.io.formats.style.Styler at 0x12f969210>"
      ]
     },
     "execution_count": 11,
     "metadata": {},
     "output_type": "execute_result"
    }
   ],
   "source": [
    "# checking for missing values on costs data set.\n",
    "benedict.stb.missing(style = True)"
   ]
  },
  {
   "cell_type": "markdown",
   "metadata": {},
   "source": [
    "***"
   ]
  },
  {
   "cell_type": "code",
   "execution_count": 12,
   "metadata": {},
   "outputs": [
    {
     "name": "stdout",
     "output_type": "stream",
     "text": [
      "Unique values in 'refund_with_vat': [ nan  26.  80.  15.  45.  32. 213. 349.  18.  89.  16.  63.  13. 145.\n",
      " 210.]\n"
     ]
    }
   ],
   "source": [
    "unique_values = benedict['refund_with_vat'].unique()\n",
    "print(\"Unique values in 'refund_with_vat':\", unique_values)"
   ]
  },
  {
   "cell_type": "code",
   "execution_count": 13,
   "metadata": {},
   "outputs": [],
   "source": [
    "benedict['refund_with_vat'] = benedict['refund_with_vat'].fillna(0.0)"
   ]
  },
  {
   "cell_type": "code",
   "execution_count": 14,
   "metadata": {},
   "outputs": [
    {
     "name": "stdout",
     "output_type": "stream",
     "text": [
      "Unique values in 'number_of_diners': [ 2.  4.  5.  3.  7. 10. nan  6.  1.]\n"
     ]
    }
   ],
   "source": [
    "unique_values = benedict['number_of_diners'].unique()\n",
    "print(\"Unique values in 'number_of_diners':\", unique_values)"
   ]
  },
  {
   "cell_type": "code",
   "execution_count": 15,
   "metadata": {},
   "outputs": [],
   "source": [
    "benedict['number_of_diners'] = benedict['number_of_diners'].fillna(0.0)"
   ]
  },
  {
   "cell_type": "code",
   "execution_count": 16,
   "metadata": {},
   "outputs": [
    {
     "name": "stdout",
     "output_type": "stream",
     "text": [
      "Unique values in 'chair_number': [ 1.  2.  0.  3.  4.  8.  5.  6.  9.  7. nan]\n"
     ]
    }
   ],
   "source": [
    "unique_values = benedict['chair_number'].unique()\n",
    "print(\"Unique values in 'chair_number':\", unique_values)"
   ]
  },
  {
   "cell_type": "code",
   "execution_count": 17,
   "metadata": {},
   "outputs": [
    {
     "name": "stdout",
     "output_type": "stream",
     "text": [
      "Unique values in 'chair_number' after filling NaN: [1. 2. 0. 3. 4. 8. 5. 6. 9. 7.]\n"
     ]
    }
   ],
   "source": [
    "# Calculate the mean, round it to the nearest whole number, convert to int, and fill NaN values\n",
    "mean_value = int(round(benedict['chair_number'].mean()))\n",
    "benedict['chair_number'] = benedict['chair_number'].fillna(mean_value)\n",
    "\n",
    "# Display the updated unique values\n",
    "unique_values = benedict['chair_number'].unique()\n",
    "print(\"Unique values in 'chair_number' after filling NaN:\", unique_values)"
   ]
  },
  {
   "cell_type": "code",
   "execution_count": 18,
   "metadata": {},
   "outputs": [
    {
     "name": "stdout",
     "output_type": "stream",
     "text": [
      "Unique values in 'net_amount': [15.    0.   41.   ... 62.66 15.26   nan]\n"
     ]
    }
   ],
   "source": [
    "unique_values = benedict['net_amount'].unique()\n",
    "print(\"Unique values in 'net_amount':\", unique_values)"
   ]
  },
  {
   "cell_type": "code",
   "execution_count": 19,
   "metadata": {},
   "outputs": [
    {
     "data": {
      "text/plain": [
       "count    65125.000000\n",
       "mean        12.882088\n",
       "std         24.690057\n",
       "min       -349.000000\n",
       "25%          0.000000\n",
       "50%          0.000000\n",
       "75%         14.000000\n",
       "max       2000.000000\n",
       "Name: net_amount, dtype: float64"
      ]
     },
     "execution_count": 19,
     "metadata": {},
     "output_type": "execute_result"
    }
   ],
   "source": [
    "benedict['net_amount'].describe()"
   ]
  },
  {
   "cell_type": "code",
   "execution_count": 20,
   "metadata": {},
   "outputs": [],
   "source": [
    "# Fill NaN values with the median\n",
    "median_value = benedict['net_amount'].median()\n",
    "benedict['net_amount'] = benedict['net_amount'].fillna(median_value)"
   ]
  },
  {
   "cell_type": "code",
   "execution_count": 21,
   "metadata": {},
   "outputs": [
    {
     "name": "stdout",
     "output_type": "stream",
     "text": [
      "Unique values in 'net_amount': [15.    0.   41.   ... 14.77 62.66 15.26]\n"
     ]
    }
   ],
   "source": [
    "unique_values = benedict['net_amount'].unique()\n",
    "print(\"Unique values in 'net_amount':\", unique_values)"
   ]
  },
  {
   "cell_type": "code",
   "execution_count": 22,
   "metadata": {},
   "outputs": [
    {
     "name": "stdout",
     "output_type": "stream",
     "text": [
      "Unique values in 'refund_amount': [ 0. nan]\n"
     ]
    }
   ],
   "source": [
    "unique_values = benedict['refund_amount'].unique()\n",
    "print(\"Unique values in 'refund_amount':\", unique_values)"
   ]
  },
  {
   "cell_type": "code",
   "execution_count": 23,
   "metadata": {},
   "outputs": [
    {
     "data": {
      "text/plain": [
       "count    65125.0\n",
       "mean         0.0\n",
       "std          0.0\n",
       "min          0.0\n",
       "25%          0.0\n",
       "50%          0.0\n",
       "75%          0.0\n",
       "max          0.0\n",
       "Name: refund_amount, dtype: float64"
      ]
     },
     "execution_count": 23,
     "metadata": {},
     "output_type": "execute_result"
    }
   ],
   "source": [
    "benedict['refund_amount'].describe()"
   ]
  },
  {
   "cell_type": "code",
   "execution_count": 24,
   "metadata": {},
   "outputs": [],
   "source": [
    "# Fill NaN values with the median\n",
    "median_value = benedict['refund_amount'].median()\n",
    "benedict['refund_amount'] = benedict['refund_amount'].fillna(median_value)"
   ]
  },
  {
   "cell_type": "code",
   "execution_count": 25,
   "metadata": {},
   "outputs": [
    {
     "name": "stdout",
     "output_type": "stream",
     "text": [
      "Unique values in 'refund_amount': [0.]\n"
     ]
    }
   ],
   "source": [
    "unique_values = benedict['refund_amount'].unique()\n",
    "print(\"Unique values in 'refund_amount':\", unique_values)"
   ]
  },
  {
   "cell_type": "code",
   "execution_count": 26,
   "metadata": {},
   "outputs": [
    {
     "name": "stdout",
     "output_type": "stream",
     "text": [
      "Unique values in 'total_amount': [   0.  -26. 2000.  -80.  -15.  -45.   12.  -32. -213. -349.  400.  -18.\n",
      "  -89.  -16.  -63.  -13. -145. -210.  135.   nan]\n"
     ]
    }
   ],
   "source": [
    "unique_values = benedict['total_amount'].unique()\n",
    "print(\"Unique values in 'total_amount':\", unique_values)"
   ]
  },
  {
   "cell_type": "code",
   "execution_count": 27,
   "metadata": {},
   "outputs": [
    {
     "data": {
      "text/plain": [
       "count    65125.000000\n",
       "mean         0.018441\n",
       "std          8.252003\n",
       "min       -349.000000\n",
       "25%          0.000000\n",
       "50%          0.000000\n",
       "75%          0.000000\n",
       "max       2000.000000\n",
       "Name: total_amount, dtype: float64"
      ]
     },
     "execution_count": 27,
     "metadata": {},
     "output_type": "execute_result"
    }
   ],
   "source": [
    "benedict['total_amount'].describe()"
   ]
  },
  {
   "cell_type": "code",
   "execution_count": 28,
   "metadata": {},
   "outputs": [],
   "source": [
    "benedict['total_amount'] = benedict['total_amount'].fillna(0.0)"
   ]
  },
  {
   "cell_type": "code",
   "execution_count": 29,
   "metadata": {},
   "outputs": [
    {
     "name": "stdout",
     "output_type": "stream",
     "text": [
      "Unique values in 'total_amount': [   0.  -26. 2000.  -80.  -15.  -45.   12.  -32. -213. -349.  400.  -18.\n",
      "  -89.  -16.  -63.  -13. -145. -210.  135.]\n"
     ]
    }
   ],
   "source": [
    "unique_values = benedict['total_amount'].unique()\n",
    "print(\"Unique values in 'total_amount':\", unique_values)"
   ]
  },
  {
   "cell_type": "code",
   "execution_count": 30,
   "metadata": {},
   "outputs": [
    {
     "name": "stdout",
     "output_type": "stream",
     "text": [
      "Unique values in 'vat_amount': [ 2.180e+00  0.000e+00  5.960e+00  3.350e+00  1.310e+00  1.003e+01\n",
      "  9.150e+00  9.880e+00  4.650e+00  4.660e+00  6.250e+00  2.320e+00\n",
      "  8.700e-01  2.170e+00  1.450e+00  2.760e+00  2.620e+00  1.148e+01\n",
      "  1.900e+00  1.264e+01  1.890e+00  1.020e+00  6.680e+00  7.300e-01\n",
      "  8.570e+00  8.430e+00  1.740e+00  3.050e+00  2.030e+00  2.040e+00\n",
      "  5.520e+00  5.530e+00  6.540e+00  6.390e+00  3.200e+00  8.860e+00\n",
      "  3.490e+00  5.670e+00  8.280e+00  5.660e+00  3.480e+00  1.160e+00\n",
      "  1.424e+01  1.061e+01  5.200e+00  7.600e-01  1.750e+00  5.090e+00\n",
      "  1.250e+01  7.410e+00  2.830e+00  1.880e+00  4.940e+00  4.080e+00\n",
      "  9.360e+00  9.740e+00  5.950e+00  6.970e+00  2.770e+00  1.600e+00\n",
      "  1.032e+01  4.070e+00  2.106e+01  2.200e+00  2.610e+00  4.930e+00\n",
      "  1.133e+01  9.000e-01  1.002e+01  1.031e+01  5.680e+00  4.210e+00\n",
      "  4.500e+00  3.950e+00  2.330e+00  5.050e+00  9.010e+00  8.140e+00\n",
      "  1.365e+01  3.460e+00  5.230e+00  7.850e+00  1.075e+01  8.420e+00\n",
      "  5.800e-01  5.240e+00  1.480e+00  8.130e+00  1.590e+00  3.060e+00\n",
      "  8.560e+00  6.400e+00  3.340e+00  3.330e+00  8.580e+00  6.420e+00\n",
      "  1.430e+00  8.980e+00  2.470e+00  1.040e+00  7.700e+00  5.940e+00\n",
      "  4.620e+00  6.060e+00  7.400e+00  8.290e+00  1.230e+00  9.160e+00\n",
      "  8.940e+00  2.190e+00  1.030e+00  1.340e+00  2.900e-01  4.344e+01\n",
      "  7.840e+00  5.980e+00  3.909e+01  1.500e-01  4.760e+00  1.060e+01\n",
      "  2.750e+00  5.510e+00  6.660e+00  3.780e+00  6.890e+00  1.690e+00\n",
      "  2.110e+00  1.760e+00  1.380e+00  7.790e+00  1.580e+00  9.420e+00\n",
      "  4.130e+00  8.970e+00  1.710e+00  1.720e+00  1.770e+00  4.370e+00\n",
      "  1.840e+00  1.190e+00  1.460e+00  9.200e-01  1.180e+00  7.610e+00\n",
      "  2.670e+00  9.300e-01  4.630e+00  3.240e+00  5.500e-01  1.100e+00\n",
      "  4.500e-01  2.690e+00  2.340e+00  9.630e+00  5.080e+00  3.763e+01\n",
      "  1.570e+00  9.440e+00  1.134e+01  3.680e+00  5.710e+00  9.890e+00\n",
      "  7.280e+00  8.810e+00  8.790e+00  1.970e+00  1.660e+00  9.260e+00\n",
      "  2.250e+00  1.000e+00  5.620e+00  1.260e+00 -3.780e+00  7.820e+00\n",
      "  4.200e-01  1.170e+00  1.046e+01  1.530e+00  3.830e+00  6.440e+00\n",
      "  3.380e+00  2.130e+00  6.000e+00  9.700e-01  7.720e+00  7.200e-01\n",
      "  9.860e+00  1.076e+01  1.420e+00  9.920e+00  1.610e+00  6.590e+00\n",
      "  5.250e+00  3.470e+00  5.610e+00  8.440e+00  8.000e-01  1.910e+00\n",
      "  8.840e+00  1.010e+00  9.020e+00  5.040e+00  2.050e+00  4.250e+00\n",
      "  1.730e+00  8.920e+00  4.770e+00  6.700e-01  6.000e-02  8.360e+00\n",
      "  4.780e+00  5.970e+00  1.045e+01  1.090e+01  8.610e+00  4.000e-01\n",
      "  5.000e-02  1.400e-01  3.500e+00  6.330e+00  1.033e+01  6.790e+00\n",
      "  8.800e-01  9.730e+00  5.750e+00  8.400e-01  4.910e+00  4.640e+00\n",
      "  1.300e+00  9.400e-01  5.010e+00  2.980e+00  1.630e+00  6.690e+00\n",
      "  2.640e+00  4.330e+00  4.600e+00  8.550e+00  1.560e+00  8.180e+00\n",
      "  8.190e+00  9.870e+00  4.450e+00  1.080e+00  2.350e+00  8.020e+00\n",
      "  5.540e+00  5.910e+00  7.620e+00  1.330e+00  1.500e+00  4.880e+00\n",
      "  3.870e+00  4.230e+00  7.290e+00  1.410e+00  1.200e+00  1.240e+00\n",
      "  1.640e+00  1.320e+00  6.960e+00  2.360e+00  3.440e+00  8.600e+00\n",
      "  1.520e+00  2.210e+00  1.790e+00  6.200e+00  7.320e+00  8.680e+00\n",
      "  2.070e+00  6.450e+00  5.930e+00  9.600e-01  1.390e+00  3.930e+00\n",
      "  6.460e+00  8.600e-01  8.730e+00  2.790e+00  2.310e+00  1.400e+00\n",
      "  7.430e+00  4.480e+00  7.250e+00  1.470e+00  1.130e+00  9.350e+00\n",
      "  7.070e+00  7.390e+00  2.600e+00  1.147e+01  4.400e-01  1.870e+00\n",
      "  9.510e+00  9.240e+00  3.190e+00  1.526e+01  1.598e+01  1.482e+01\n",
      "  8.330e+00  2.630e+00  3.600e+00  5.070e+00  5.880e+00  7.040e+00\n",
      "  3.210e+00  4.510e+00  3.790e+00  9.790e+00  5.770e+00  4.220e+00\n",
      "  1.300e-01  1.090e+00  6.830e+00  2.480e+00  3.630e+00  7.370e+00\n",
      "  6.010e+00  1.810e+00  7.400e-01  5.900e-01  7.380e+00  8.100e-01\n",
      "  6.160e+00  7.490e+00  2.590e+00  2.906e+02  9.450e+00  5.500e+00\n",
      "  1.140e+00  1.030e+01 -1.162e+01  6.410e+00  3.910e+00  2.020e+00\n",
      "  5.280e+00  7.050e+00  4.900e+00  2.870e+00  8.480e+00  7.700e-01\n",
      "  6.190e+00  1.280e+00  6.620e+00  7.990e+00  2.450e+00  1.680e+00\n",
      "  4.890e+00  9.370e+00  6.810e+00  4.180e+00  7.180e+00  1.159e+01\n",
      "  4.750e+00  4.310e+00  9.140e+00  7.740e+00  9.200e+00  1.054e+01\n",
      "  7.510e+00  2.000e+00  6.920e+00  3.960e+00  3.280e+00  5.180e+00\n",
      "  2.440e+00 -2.180e+00  9.170e+00  9.310e+00  8.670e+00  1.290e+00\n",
      "  6.760e+00  8.060e+00  8.520e+00  1.001e+01  5.330e+00  7.120e+00\n",
      " -6.540e+00  8.410e+00  4.345e+01  7.100e+00  9.040e+00  2.260e+00\n",
      "  6.380e+00  2.010e+00  5.490e+00  8.720e+00  9.500e+00  8.850e+00\n",
      "  2.080e+00  5.190e+00  4.160e+00  9.780e+00  3.170e+00  9.640e+00\n",
      "  5.420e+00  3.180e+00  4.420e+00  1.950e+00  3.000e-02  1.000e-02\n",
      "  9.000e-02  2.000e-02  1.860e+00  8.230e+00  4.000e-02  8.000e+00\n",
      "  3.700e+00  8.640e+00  5.130e+00  1.440e+00  2.880e+00  2.890e+00\n",
      "  1.250e+00  6.950e+00  4.050e+00  1.350e+00 -4.650e+00  5.450e+00\n",
      "  3.510e+00  7.140e+00  9.280e+00  1.940e+00  8.400e+00  4.390e+00\n",
      "  7.800e-01  9.660e+00  9.270e+00  1.830e+00  6.040e+00  5.600e+00\n",
      "  7.420e+00  8.870e+00  8.270e+00  4.520e+00  1.540e+00  9.520e+00\n",
      "  9.180e+00  3.990e+00  7.240e+00  1.135e+01  3.410e+00  1.700e+00\n",
      "  1.920e+00  2.240e+00  5.110e+00  5.400e-01  2.165e+01  3.000e-01\n",
      "  3.600e-01  7.730e+00  6.140e+00  1.078e+01  1.490e+00  7.310e+00\n",
      "  1.620e+00  9.100e-01  2.100e+00  9.340e+00  1.820e+00  1.007e+01\n",
      "  4.800e-01  2.090e+00  1.110e+00  9.250e+00  2.230e+00  2.720e+00\n",
      "  1.670e+00  8.110e+00  8.050e+00  1.960e+00  4.460e+00  5.160e+00\n",
      "  7.920e+00  2.380e+00  1.510e+00  1.060e+00  2.510e+00  1.850e+00\n",
      "  8.990e+00  4.680e+00  7.330e+00  7.710e+00  6.930e+00  8.030e+00\n",
      "  7.440e+00  2.840e+00  6.260e+00  2.060e+00  6.530e+00  1.074e+01\n",
      "  1.263e+01  8.070e+00  7.950e+00  6.310e+00  4.140e+00  7.500e-01\n",
      "  1.150e+00  6.990e+00  9.120e+00  7.270e+00  1.550e+00  6.840e+00\n",
      "  3.860e+00  8.780e+00  6.490e+00  8.750e+00  1.930e+00  4.860e+00\n",
      "  8.010e+00  1.800e+00  8.590e+00  3.430e+00  9.580e+00  9.500e-01\n",
      "  5.690e+00  1.425e+01 -3.095e+01  5.590e+00  9.840e+00  8.960e+00\n",
      "  7.830e+00  8.500e+00  4.010e+00  1.220e+00  4.060e+00  8.900e-01\n",
      "  7.960e+00  1.249e+01  8.470e+00  2.270e+00 -5.071e+01  5.812e+01\n",
      "  6.130e+00  3.940e+00  2.460e+00  7.870e+00  5.560e+00  8.300e-01\n",
      "  2.370e+00  6.020e+00  9.930e+00  5.100e+00  4.340e+00  9.650e+00\n",
      "  4.290e+00  4.870e+00  3.360e+00  2.540e+00  1.370e+00  8.250e+00\n",
      "  8.090e+00  7.010e+00  4.430e+00  6.080e+00  6.240e+00  9.400e+00\n",
      "  8.910e+00  7.200e+00  4.110e+00  4.030e+00  1.093e+01  7.470e+00\n",
      "  1.079e+01  5.260e+00  9.410e+00  6.230e+00  5.990e+00  5.810e+00\n",
      "  5.720e+00  5.550e+00  1.569e+01  6.150e+00  5.700e+00  2.700e+00\n",
      "  1.149e+01  3.970e+00  9.670e+00  5.350e+00  9.560e+00  7.100e-01\n",
      " -2.620e+00  3.920e+00  5.360e+00  8.340e+00  1.990e+00  1.095e+01\n",
      "  1.049e+01  2.120e+00  6.900e-01  2.390e+00  4.270e+00  2.500e+00\n",
      "  1.980e+00  6.170e+00  4.570e+00  4.040e+00  7.760e+00  9.900e-01\n",
      "  5.290e+00  8.740e+00  6.800e+00  7.880e+00  1.423e+01  3.760e+00\n",
      "  7.540e+00  1.010e+01  4.090e+00  1.525e+01  3.710e+00  3.530e+00\n",
      "  9.990e+00  1.780e+00  4.810e+00  9.620e+00  2.710e+00  8.510e+00\n",
      "  1.062e+01  5.100e-01  5.600e-01  3.730e+00  4.700e+00  8.040e+00\n",
      "  9.130e+00  7.000e-01  6.300e-01  3.400e+00  9.900e+00  8.650e+00\n",
      "  3.890e+00  6.770e+00  5.630e+00  1.345e+01  8.100e+00  5.200e-01\n",
      "  2.730e+00  3.270e+00  8.660e+00  3.800e+00  7.230e+00  1.360e+00\n",
      "  5.300e-01  3.300e+00  2.810e+00  5.030e+00  1.438e+01  1.439e+01\n",
      "  2.107e+01  3.900e-01  5.460e+00 -1.293e+01  7.520e+00  4.170e+00\n",
      "  8.770e+00  2.400e+00  9.460e+00  9.540e+00  2.910e+00  2.550e+00\n",
      " -2.320e+00  3.770e+00 -9.150e+00  6.200e-01  3.400e-01  6.630e+00\n",
      "  7.860e+00  5.300e+00  7.460e+00  1.650e+00  9.110e+00  6.030e+00\n",
      "  9.810e+00  1.057e+01  4.280e+00  1.266e+01  1.020e+01  9.060e+00\n",
      "  4.200e+00  1.270e+00  1.053e+01  7.220e+00  9.800e-01  9.080e+00\n",
      "  9.850e+00  9.050e+00  4.920e+00  6.550e+00  5.120e+00  9.960e+00\n",
      "  5.340e+00  9.070e+00  5.390e+00  7.900e-01  2.560e+00  7.300e+00\n",
      "  6.650e+00  1.210e+00  6.340e+00  6.980e+00  4.150e+00  1.120e+00\n",
      " -1.890e+00  6.100e-01  7.170e+00 -2.107e+01  2.290e+00  7.770e+00\n",
      "  7.780e+00  4.100e+00  3.580e+00 -3.051e+01  4.730e+00  6.500e-01\n",
      "  6.600e-01  9.090e+00  8.830e+00  6.210e+00  3.750e+00  7.680e+00\n",
      "  1.028e+01  9.720e+00  9.710e+00  2.000e-01  7.080e+00  2.200e-01\n",
      "  9.550e+00  7.930e+00  9.940e+00  2.160e+00  9.190e+00  1.964e+01\n",
      "  5.800e+00  7.890e+00  1.004e+01  4.720e+00  7.340e+00  2.900e+00\n",
      "  3.720e+00  5.020e+00  7.660e+00  9.380e+00  7.640e+00  3.000e+00\n",
      "  6.510e+00  4.120e+00  8.800e+00  6.780e+00  5.760e+00  3.070e+00\n",
      "  2.650e+00  8.220e+00  8.350e+00  4.610e+00  7.550e+00  7.160e+00\n",
      "  5.740e+00  5.270e+00  7.980e+00  3.320e+00  8.390e+00  8.160e+00\n",
      "  6.480e+00  8.310e+00  2.530e+00  1.568e+01  6.120e+00  4.470e+00\n",
      "  9.950e+00  8.200e-01  7.110e+00  5.650e+00  5.790e+00  6.290e+00\n",
      "  2.780e+00  2.150e+00  9.750e+00  4.240e+00  1.047e+01  7.750e+00\n",
      "  9.100e+00  2.220e+00        nan]\n"
     ]
    }
   ],
   "source": [
    "unique_values = benedict['vat_amount'].unique()\n",
    "print(\"Unique values in 'vat_amount':\", unique_values)"
   ]
  },
  {
   "cell_type": "code",
   "execution_count": 31,
   "metadata": {},
   "outputs": [
    {
     "data": {
      "text/plain": [
       "count    65125.000000\n",
       "mean         1.871759\n",
       "std          3.587591\n",
       "min        -50.710000\n",
       "25%          0.000000\n",
       "50%          0.000000\n",
       "75%          2.030000\n",
       "max        290.600000\n",
       "Name: vat_amount, dtype: float64"
      ]
     },
     "execution_count": 31,
     "metadata": {},
     "output_type": "execute_result"
    }
   ],
   "source": [
    "benedict['vat_amount'].describe()"
   ]
  },
  {
   "cell_type": "code",
   "execution_count": 32,
   "metadata": {},
   "outputs": [],
   "source": [
    "benedict['vat_amount'] = benedict['vat_amount'].fillna(0.0)"
   ]
  },
  {
   "cell_type": "code",
   "execution_count": 33,
   "metadata": {},
   "outputs": [
    {
     "name": "stdout",
     "output_type": "stream",
     "text": [
      "Unique values in 'returned_amount': [ 0. 58. 67. 12. 68. 11. 19. 13. 41. 59. 21. 16. 78. 24. 39.  4.  6. 18.\n",
      " 71. 63.  7. 32. 75. 22. 35. 72. 23. 45. 38. 15. 74. 54. 53. 29. 31.  9.\n",
      "  5. 69. 73. 14. 79. 62.  8. 10. 65. 51. 44. 43. nan]\n"
     ]
    }
   ],
   "source": [
    "unique_values = benedict['returned_amount'].unique()\n",
    "print(\"Unique values in 'returned_amount':\", unique_values)"
   ]
  },
  {
   "cell_type": "code",
   "execution_count": 34,
   "metadata": {},
   "outputs": [
    {
     "data": {
      "text/plain": [
       "count    65125.000000\n",
       "mean         0.226242\n",
       "std          3.337777\n",
       "min          0.000000\n",
       "25%          0.000000\n",
       "50%          0.000000\n",
       "75%          0.000000\n",
       "max         79.000000\n",
       "Name: returned_amount, dtype: float64"
      ]
     },
     "execution_count": 34,
     "metadata": {},
     "output_type": "execute_result"
    }
   ],
   "source": [
    "benedict['returned_amount'].describe()"
   ]
  },
  {
   "cell_type": "code",
   "execution_count": 35,
   "metadata": {},
   "outputs": [],
   "source": [
    "benedict['returned_amount'] = benedict['returned_amount'].fillna(0.0)"
   ]
  },
  {
   "cell_type": "code",
   "execution_count": 36,
   "metadata": {},
   "outputs": [
    {
     "name": "stdout",
     "output_type": "stream",
     "text": [
      "Unique values in 'returned_amount': [ 0. 58. 67. 12. 68. 11. 19. 13. 41. 59. 21. 16. 78. 24. 39.  4.  6. 18.\n",
      " 71. 63.  7. 32. 75. 22. 35. 72. 23. 45. 38. 15. 74. 54. 53. 29. 31.  9.\n",
      "  5. 69. 73. 14. 79. 62.  8. 10. 65. 51. 44. 43.]\n"
     ]
    }
   ],
   "source": [
    "unique_values = benedict['returned_amount'].unique()\n",
    "print(\"Unique values in 'returned_amount':\", unique_values)"
   ]
  },
  {
   "cell_type": "code",
   "execution_count": 37,
   "metadata": {},
   "outputs": [
    {
     "name": "stdout",
     "output_type": "stream",
     "text": [
      "Unique values in 'cancelled_amount': [  0.  32.  41.   6.  19.  59.  24.  13.  11.  61.  73.  44.  39.  26.\n",
      "  69.  16.  43.  68.  15.  74.  67.  12.  10.  29.  78.  71.  21.  75.\n",
      "  18.   7.  63.  38.  58.  86.  22.  53.  28.  23.  98.  79.  45.  31.\n",
      "   8.   5. 100.  72.   9.  46.  48. 108.  34.  14.  54.  27.  35. 259.\n",
      "  49. 110.  nan]\n"
     ]
    }
   ],
   "source": [
    "unique_values = benedict['cancelled_amount'].unique()\n",
    "print(\"Unique values in 'cancelled_amount':\", unique_values)"
   ]
  },
  {
   "cell_type": "code",
   "execution_count": null,
   "metadata": {},
   "outputs": [
    {
     "data": {
      "text/plain": [
       "count    65125.000000\n",
       "mean         0.277559\n",
       "std          3.615259\n",
       "min          0.000000\n",
       "25%          0.000000\n",
       "50%          0.000000\n",
       "75%          0.000000\n",
       "max        259.000000\n",
       "Name: cancelled_amount, dtype: float64"
      ]
     },
     "execution_count": 38,
     "metadata": {},
     "output_type": "execute_result"
    }
   ],
   "source": [
    "benedict['cancelled_amount'].describe()"
   ]
  },
  {
   "cell_type": "code",
   "execution_count": 39,
   "metadata": {},
   "outputs": [],
   "source": [
    "benedict['cancelled_amount'] = benedict['cancelled_amount'].fillna(0.0)"
   ]
  },
  {
   "cell_type": "code",
   "execution_count": 40,
   "metadata": {},
   "outputs": [
    {
     "name": "stdout",
     "output_type": "stream",
     "text": [
      "Unique values in 'cancelled_amount': [  0.  32.  41.   6.  19.  59.  24.  13.  11.  61.  73.  44.  39.  26.\n",
      "  69.  16.  43.  68.  15.  74.  67.  12.  10.  29.  78.  71.  21.  75.\n",
      "  18.   7.  63.  38.  58.  86.  22.  53.  28.  23.  98.  79.  45.  31.\n",
      "   8.   5. 100.  72.   9.  46.  48. 108.  34.  14.  54.  27.  35. 259.\n",
      "  49. 110.]\n"
     ]
    }
   ],
   "source": [
    "unique_values = benedict['cancelled_amount'].unique()\n",
    "print(\"Unique values in 'cancelled_amount':\", unique_values)"
   ]
  },
  {
   "cell_type": "code",
   "execution_count": 41,
   "metadata": {},
   "outputs": [
    {
     "name": "stdout",
     "output_type": "stream",
     "text": [
      "Unique values in 'discount_amount': [0.000e+00 1.500e+01 3.200e+01 1.300e+01 3.800e+01 5.230e+00 7.700e-01\n",
      " 2.149e+01 3.093e+01 3.580e+00 1.400e+01 5.800e+01 5.770e+00 6.700e+01\n",
      " 1.200e+01 6.800e+01 8.400e-01 4.100e+01 6.810e+00 1.100e+01 1.900e+01\n",
      " 6.000e+00 4.820e+00 6.180e+00 1.101e+01 5.900e+01 6.050e+00 4.220e+00\n",
      " 1.960e+00 2.400e+01 1.810e+00 6.100e+01 2.100e+01 9.820e+00 2.180e+00\n",
      " 7.170e+00 7.300e+01 5.000e+00 8.300e-01 4.400e+01 9.000e+00 1.800e+01\n",
      " 1.318e+01 1.728e+01 7.030e+00 3.900e+01 3.520e+00 2.600e+01 2.548e+01\n",
      " 6.900e+01 3.810e+00 1.600e+01 1.223e+01 1.713e+01 3.590e+00 4.350e+00\n",
      " 1.470e+00 9.200e-01 3.530e+00 5.420e+00 4.080e+00 4.180e+00 1.060e+01\n",
      " 6.250e+00 1.200e+00 1.190e+00 7.900e-01 1.930e+00 1.320e+00 2.880e+00\n",
      " 1.510e+00 6.600e-01 8.500e-01 2.162e+01 7.600e+00 2.630e+00 1.315e+01\n",
      " 1.690e+00 1.220e+01 2.441e+01 9.920e+00 5.949e+01 2.898e+01 4.300e+01\n",
      " 7.690e+00 4.060e+00 1.250e+00 7.800e+01 4.830e+00 1.267e+01 1.967e+01\n",
      " 8.910e+00 8.380e+00 8.480e+00 2.420e+00 1.990e+00 7.040e+00 7.400e+01\n",
      " 1.600e+00 1.028e+01 2.500e+00 1.110e+00 1.934e+01 4.330e+00 4.340e+00\n",
      " 1.970e+00 2.018e+01 1.090e+00 1.580e+00 4.762e+01 2.865e+01 8.730e+00\n",
      " 2.638e+01 2.669e+01 8.700e+01 4.320e+00 7.060e+00 6.170e+00 6.280e+00\n",
      " 5.750e+00 9.300e-01 2.864e+01 2.284e+01 2.950e+00 1.510e+01 5.030e+00\n",
      " 4.000e+00 1.000e+01 2.900e+01 2.439e+01 4.900e+00 4.700e-01 7.100e+01\n",
      " 2.170e+00 5.040e+00 5.910e+00 3.320e+00 3.910e+00 2.780e+00 9.590e+00\n",
      " 9.050e+00 5.140e+00 6.937e+01 6.080e+00 5.630e+00 5.480e+00 4.122e+01\n",
      " 4.680e+00 1.405e+01 7.500e+01 3.500e+01 2.543e+01 2.729e+01 2.728e+01\n",
      " 6.300e+01 7.000e+00 1.410e+00 2.100e-01 1.000e+00 1.210e+00 6.500e+00\n",
      " 3.450e+01 2.050e+01 1.060e+00 9.900e-01 4.690e+00 5.400e+01 2.200e+01\n",
      " 8.600e+01 2.685e+01 4.415e+01 5.300e+01 7.320e+00 1.219e+01 2.230e+00\n",
      " 1.168e+01 1.167e+01 1.039e+01 2.540e+00 1.877e+01 3.300e+00 1.834e+01\n",
      " 1.055e+01 7.200e+01 1.850e+00 4.660e+00 1.139e+01 6.370e+00 5.360e+00\n",
      " 5.860e+00 1.038e+01 2.082e+01 3.290e+00 3.820e+00 1.732e+01 5.907e+01\n",
      " 4.700e+00 2.010e+00 2.300e+01 3.593e+01 2.800e+01 1.480e+01 2.600e+00\n",
      " 6.700e-01 2.320e+00 1.260e+01 3.250e+00 2.960e+01 2.720e+01 4.400e+00\n",
      " 6.400e+00 1.797e+01 5.590e+00 2.956e+01 1.390e+01 1.277e+01 1.278e+01\n",
      " 2.836e+01 2.250e+00 1.183e+01 7.140e+00 1.296e+01 3.010e+00 2.820e+00\n",
      " 2.411e+01 1.401e+01 4.880e+00 5.190e+00 2.163e+01 1.635e+01 1.711e+01\n",
      " 3.270e+00 4.780e+00 1.786e+01 3.000e+00 9.800e+01 5.580e+00 2.980e+00\n",
      " 1.020e+00 2.350e+00 1.065e+01 5.980e+00 2.122e+01 5.990e+00 1.220e+00\n",
      " 4.560e+00 4.500e+01 6.910e+00 1.890e+01 2.940e+00 2.931e+01 5.530e+00\n",
      " 3.016e+01 2.700e+01 1.430e+01 1.166e+01 3.960e+00 1.723e+01 3.390e+00\n",
      " 2.561e+01 1.748e+01 2.365e+01 4.170e+00 7.900e+01 2.985e+01 1.815e+01\n",
      " 4.630e+00 1.049e+01 4.280e+00 6.930e+00 4.270e+00 1.262e+01 6.800e-01\n",
      " 1.130e+00 2.347e+01 1.394e+01 2.990e+00 2.150e+00 9.800e-01 3.050e+00\n",
      " 1.240e+00 2.840e+00 7.290e+00 3.510e+00 8.800e-01 2.415e+01 4.800e+01\n",
      " 1.888e+01 2.190e+00 2.240e+00 5.440e+00 1.861e+01 6.210e+00 1.232e+01\n",
      " 2.310e+00 1.172e+01 1.112e+01 1.950e+00 2.400e+00 4.810e+00 4.760e+00\n",
      " 5.660e+00 6.490e+00 3.120e+00 1.070e+00 1.310e+00 2.234e+01 1.230e+00\n",
      " 9.660e+00 9.000e-01 1.776e+01 5.130e+00 1.462e+01 7.110e+00 2.044e+01\n",
      " 3.234e+01 1.522e+01 8.940e+00 8.330e+00 3.100e+01 1.355e+01 1.433e+01\n",
      " 1.550e+02 3.140e+00 8.840e+00 7.920e+00 1.710e+01 2.629e+01 1.293e+01\n",
      " 8.000e+00 5.780e+00 1.440e+00 2.970e+00 1.360e+00 1.180e+00 3.240e+00\n",
      " 7.740e+00 7.010e+00 7.640e+00 7.120e+00 1.260e+00 1.670e+00 7.440e+00\n",
      " 3.310e+00 1.880e+00 3.350e+00 9.400e-01 6.710e+00 6.300e-01 6.620e+00\n",
      " 3.720e+00 1.258e+01 3.800e+00 1.726e+01 5.560e+00 1.182e+01 4.038e+01\n",
      " 1.477e+01 3.940e+00 3.000e+01 6.890e+00 1.583e+01 5.713e+01 4.235e+01\n",
      " 4.920e+00 9.850e+00 1.280e+01 3.230e+00 1.435e+01 1.395e+01 1.700e+01\n",
      " 6.470e+00 9.540e+00 5.390e+00 5.670e+00 3.180e+00 5.940e+01 6.110e+00\n",
      " 5.154e+01 1.398e+01 1.397e+01 1.917e+01 2.261e+01 1.116e+01 1.517e+01\n",
      " 4.290e+00 7.500e+00 2.000e+00 9.830e+00 1.012e+01 2.670e+00 9.160e+00\n",
      " 7.930e+00 1.780e+00 6.100e-01 7.490e+00 7.190e+00 1.420e+00 5.240e+00\n",
      " 2.642e+01 2.448e+01 1.920e+00 4.600e+01 2.960e+00 2.220e+00 8.500e+00\n",
      " 1.255e+01 1.054e+01 3.400e+01 1.914e+01 4.160e+00 8.530e+00 4.800e+00\n",
      " 3.470e+00 5.600e+00 5.519e+01 5.425e+01 1.500e+02 2.993e+01 3.554e+01\n",
      " 1.309e+01 3.379e+01 2.641e+01 2.680e+01 7.500e-01 3.700e+00 8.200e-01\n",
      " 7.300e-01 4.730e+00 1.460e+00 8.700e+00 6.920e+00 7.220e+00 2.900e+00\n",
      " 3.020e+00 3.300e-01 4.310e+00 6.500e-01 4.930e+01 4.900e-01 6.990e+00\n",
      " 1.235e+01 7.340e+00 1.217e+01 3.770e+00 4.540e+00 1.031e+01 1.352e+01\n",
      " 1.471e+01 1.630e+00 2.580e+00 6.680e+00 7.200e-01 3.880e+00 1.720e+00\n",
      " 6.140e+00 6.940e+00 3.031e+01 1.275e+01 1.181e+01 2.440e+00 5.830e+00\n",
      " 1.244e+01 6.200e+01 8.600e-01 1.050e+00 2.920e+00 2.380e+00 4.530e+00\n",
      " 9.770e+00 1.926e+01 1.456e+01 9.520e+00 1.704e+01 1.820e+00 2.760e+00\n",
      " 1.692e+01 1.125e+01 8.970e+00 1.340e+00 5.920e+00 3.828e+01 2.608e+01\n",
      " 1.445e+01 4.230e+00 1.790e+00 7.590e+00 2.431e+01 4.930e+00 6.720e+00\n",
      " 7.810e+00 1.030e+00 4.360e+00 1.286e+01 1.610e+00 1.287e+01 1.801e+01\n",
      " 3.996e+01 3.039e+01 6.750e+00 8.080e+00 8.440e+00 8.700e-01 2.270e+00\n",
      " 1.805e+01 3.550e+01 1.000e+02 1.399e+01 1.029e+01 9.360e+00 8.010e+00\n",
      " 1.712e+01 4.520e+00 3.160e+00 2.838e+01 8.620e+00 4.070e+00 8.900e-01\n",
      " 2.030e+00 1.980e+00 9.890e+00 1.080e+00 4.240e+00 3.000e-01 2.370e+00\n",
      " 3.070e+00 5.709e+01 1.091e+01 2.870e+01 3.080e+01 5.820e+00 4.890e+00\n",
      " 1.350e+01 2.290e+00 3.830e+00 2.710e+00 4.000e-01 4.800e-01 1.150e+00\n",
      " 2.560e+00 2.950e+01 3.350e+01 5.900e-01 1.750e+01 1.361e+01 3.460e+00\n",
      " 6.900e-01 9.720e+00 1.533e+01 2.810e+00 1.978e+01 1.251e+01 1.715e+01\n",
      " 3.780e+00 1.334e+01 1.266e+01 1.570e+00 9.680e+00 1.575e+01 1.848e+01\n",
      " 1.059e+01 8.890e+00 1.872e+01 4.840e+00 1.324e+01 1.279e+01 3.200e+00\n",
      " 4.200e+00 3.760e+00 2.570e+00 3.710e+00 1.520e+00 3.260e+00 2.140e+00\n",
      " 2.231e+01 1.176e+01 3.620e+00 2.196e+01 1.779e+01 2.390e+01 2.903e+01\n",
      " 2.861e+01 6.730e+00 4.020e+00 3.950e+00 2.800e+00 2.670e+01 2.569e+01\n",
      " 2.380e+01 6.420e+00 4.039e+01 8.210e+00 1.650e+00 1.367e+01 6.450e+00\n",
      " 1.366e+01 2.382e+01 1.618e+01 6.100e+00 5.500e-01 1.890e+00 9.570e+00\n",
      " 1.730e+00 9.710e+00 6.430e+00 3.640e+00 1.710e+00 4.570e+00 1.380e+00\n",
      " 1.120e+00 5.950e+00 1.290e+00 1.140e+00 3.488e+01 1.550e+00 1.645e+01\n",
      " 1.162e+01 3.680e+00 6.800e+00 5.100e+00 1.557e+01 1.154e+01 1.020e+01\n",
      " 1.986e+01 2.303e+01 9.610e+00 6.560e+00 1.083e+01 2.117e+01 1.374e+01\n",
      " 2.326e+01 1.514e+01 1.080e+02 7.100e+00 9.500e+00 3.850e+00 1.560e+00\n",
      " 3.490e+00 1.800e+00 3.840e+00 5.050e+01 8.410e+00 2.496e+01 2.308e+01\n",
      " 4.468e+01 1.076e+01 3.330e+00 1.045e+01 8.180e+00 4.148e+01 1.252e+01\n",
      " 1.927e+01 3.232e+01 4.068e+01 8.120e+00 4.470e+00 1.530e+00 6.500e+01\n",
      " 2.690e+00 1.457e+01 6.130e+00 2.263e+01 1.458e+01 4.990e+00 1.085e+01\n",
      " 2.610e+00 9.480e+00 4.390e+00 4.260e+00 1.620e+00 7.420e+00 1.500e+00\n",
      " 2.260e+00 5.410e+00 4.030e+00 5.400e+00 9.400e+00 7.970e+00 4.919e+01\n",
      " 1.847e+01 1.342e+01 5.890e+00 7.540e+00 5.880e+00 1.122e+01 2.200e+00\n",
      " 5.100e+01 1.480e+00 1.598e+01 1.269e+01 9.410e+00 1.607e+01 6.300e+00\n",
      " 2.894e+01 1.864e+01 6.380e+00 7.850e+00 3.336e+01 8.340e+00 3.091e+01\n",
      " 6.870e+00 3.172e+01 9.280e+00 3.042e+01 7.360e+00 7.160e+00 1.382e+01\n",
      " 1.680e+00 2.224e+01 1.893e+01 4.510e+00 1.490e+00 3.170e+00 1.256e+01\n",
      " 2.770e+00 7.660e+00 4.480e+00 4.410e+00 1.040e+00 5.197e+01 4.144e+01\n",
      " 2.247e+01 2.880e+01 6.320e+00 4.204e+01 9.270e+00 3.536e+01 3.371e+01\n",
      " 1.973e+01 1.069e+01 1.151e+01 2.837e+01 7.400e+00 1.430e+00 1.665e+01\n",
      " 3.670e+00 5.310e+00 1.170e+00 6.240e+00 2.520e+00 4.450e+00 1.540e+00\n",
      " 1.089e+01 8.780e+00 1.330e+00 3.560e+00 2.068e+01 1.164e+01 1.412e+01\n",
      " 6.950e+00 2.830e+00 1.353e+01 1.660e+00 3.997e+01 3.403e+01 9.700e-01\n",
      " 5.260e+00 7.260e+00 8.490e+00 8.740e+00 2.517e+01 6.830e+00 2.508e+01\n",
      " 7.960e+00 3.574e+01 3.726e+01 6.570e+00 5.620e+00 3.900e+00 5.700e-01\n",
      " 5.220e+00 2.617e+01 9.500e-01 5.000e-01 1.400e+00 1.419e+01 1.064e+01\n",
      " 1.350e+00 1.357e+01 1.276e+01 3.040e+00 1.010e+00 2.523e+01 4.620e+00\n",
      " 1.438e+01 3.970e+00 9.420e+00 2.992e+01 1.272e+01 8.280e+00 6.260e+00\n",
      " 1.413e+01 2.386e+01 1.830e+00 4.870e+00 3.660e+00 4.670e+00 6.030e+00\n",
      " 1.392e+01 2.590e+02 4.900e+01 6.650e+00 2.490e+00 5.600e+01 2.049e+01\n",
      " 2.048e+01 1.744e+01 1.079e+01 4.635e+01 3.851e+01 3.600e+00 2.089e+01\n",
      " 1.134e+01 1.246e+01 4.765e+01 4.831e+01 8.510e+00 6.440e+00 2.525e+01\n",
      " 1.523e+01 5.570e+00 3.340e+00 6.160e+00 8.250e+00 6.150e+00 5.710e+00\n",
      " 7.600e-01 3.440e+00 2.124e+01 6.162e+01 4.206e+01 1.271e+01 1.858e+01\n",
      " 6.749e+01 7.820e+00 2.090e+00 5.280e+00 2.620e+00 1.075e+01 1.003e+01\n",
      " 9.440e+00 1.100e+02 5.809e+01 1.492e+01 7.940e+00 1.099e+01 1.450e+00\n",
      " 1.811e+01 2.467e+01 3.750e+00 1.237e+01 6.540e+00 2.346e+01 1.486e+01\n",
      " 1.386e+01 5.370e+00 5.250e+00 2.139e+01 2.110e+01 2.321e+01 5.120e+00\n",
      " 9.250e+00 1.467e+01 7.510e+00 2.450e+00 2.680e+00 7.210e+00 3.246e+01\n",
      " 3.932e+01 3.338e+01 5.300e+00 1.783e+01 7.400e-01 1.870e+00 1.041e+01\n",
      " 1.860e+00 4.970e+00 1.370e+00 2.330e+00 1.056e+01 1.910e+00 3.280e+00\n",
      " 6.270e+00 2.640e+00 9.740e+00 2.720e+00 7.000e-01 3.401e+01 6.410e+00\n",
      " 2.200e-01 4.110e+00 2.217e+01 1.323e+01 6.290e+00 5.600e-01 1.270e+00\n",
      " 1.587e+01 4.380e+00 1.614e+01 8.750e+00 2.460e+00 3.823e+01 3.890e+00\n",
      " 1.774e+01 2.107e+01 3.822e+01 8.100e-01 3.700e-01 1.314e+01 1.686e+01\n",
      " 1.468e+01 1.138e+01 6.040e+00 5.960e+00 1.127e+01 2.051e+01 1.184e+01\n",
      " 1.935e+01 5.460e+00 3.630e+00       nan]\n"
     ]
    }
   ],
   "source": [
    "unique_values = benedict['discount_amount'].unique()\n",
    "print(\"Unique values in 'discount_amount':\", unique_values)"
   ]
  },
  {
   "cell_type": "code",
   "execution_count": 42,
   "metadata": {},
   "outputs": [
    {
     "data": {
      "text/plain": [
       "count    65125.000000\n",
       "mean         1.042887\n",
       "std          6.324451\n",
       "min          0.000000\n",
       "25%          0.000000\n",
       "50%          0.000000\n",
       "75%          0.000000\n",
       "max        259.000000\n",
       "Name: discount_amount, dtype: float64"
      ]
     },
     "execution_count": 42,
     "metadata": {},
     "output_type": "execute_result"
    }
   ],
   "source": [
    "benedict['discount_amount'].describe()"
   ]
  },
  {
   "cell_type": "code",
   "execution_count": 43,
   "metadata": {},
   "outputs": [],
   "source": [
    "benedict['discount_amount'] = benedict['discount_amount'].fillna(0.0)"
   ]
  },
  {
   "cell_type": "code",
   "execution_count": 44,
   "metadata": {},
   "outputs": [
    {
     "name": "stdout",
     "output_type": "stream",
     "text": [
      "Unique values in 'discount_amount': [0.000e+00 1.500e+01 3.200e+01 1.300e+01 3.800e+01 5.230e+00 7.700e-01\n",
      " 2.149e+01 3.093e+01 3.580e+00 1.400e+01 5.800e+01 5.770e+00 6.700e+01\n",
      " 1.200e+01 6.800e+01 8.400e-01 4.100e+01 6.810e+00 1.100e+01 1.900e+01\n",
      " 6.000e+00 4.820e+00 6.180e+00 1.101e+01 5.900e+01 6.050e+00 4.220e+00\n",
      " 1.960e+00 2.400e+01 1.810e+00 6.100e+01 2.100e+01 9.820e+00 2.180e+00\n",
      " 7.170e+00 7.300e+01 5.000e+00 8.300e-01 4.400e+01 9.000e+00 1.800e+01\n",
      " 1.318e+01 1.728e+01 7.030e+00 3.900e+01 3.520e+00 2.600e+01 2.548e+01\n",
      " 6.900e+01 3.810e+00 1.600e+01 1.223e+01 1.713e+01 3.590e+00 4.350e+00\n",
      " 1.470e+00 9.200e-01 3.530e+00 5.420e+00 4.080e+00 4.180e+00 1.060e+01\n",
      " 6.250e+00 1.200e+00 1.190e+00 7.900e-01 1.930e+00 1.320e+00 2.880e+00\n",
      " 1.510e+00 6.600e-01 8.500e-01 2.162e+01 7.600e+00 2.630e+00 1.315e+01\n",
      " 1.690e+00 1.220e+01 2.441e+01 9.920e+00 5.949e+01 2.898e+01 4.300e+01\n",
      " 7.690e+00 4.060e+00 1.250e+00 7.800e+01 4.830e+00 1.267e+01 1.967e+01\n",
      " 8.910e+00 8.380e+00 8.480e+00 2.420e+00 1.990e+00 7.040e+00 7.400e+01\n",
      " 1.600e+00 1.028e+01 2.500e+00 1.110e+00 1.934e+01 4.330e+00 4.340e+00\n",
      " 1.970e+00 2.018e+01 1.090e+00 1.580e+00 4.762e+01 2.865e+01 8.730e+00\n",
      " 2.638e+01 2.669e+01 8.700e+01 4.320e+00 7.060e+00 6.170e+00 6.280e+00\n",
      " 5.750e+00 9.300e-01 2.864e+01 2.284e+01 2.950e+00 1.510e+01 5.030e+00\n",
      " 4.000e+00 1.000e+01 2.900e+01 2.439e+01 4.900e+00 4.700e-01 7.100e+01\n",
      " 2.170e+00 5.040e+00 5.910e+00 3.320e+00 3.910e+00 2.780e+00 9.590e+00\n",
      " 9.050e+00 5.140e+00 6.937e+01 6.080e+00 5.630e+00 5.480e+00 4.122e+01\n",
      " 4.680e+00 1.405e+01 7.500e+01 3.500e+01 2.543e+01 2.729e+01 2.728e+01\n",
      " 6.300e+01 7.000e+00 1.410e+00 2.100e-01 1.000e+00 1.210e+00 6.500e+00\n",
      " 3.450e+01 2.050e+01 1.060e+00 9.900e-01 4.690e+00 5.400e+01 2.200e+01\n",
      " 8.600e+01 2.685e+01 4.415e+01 5.300e+01 7.320e+00 1.219e+01 2.230e+00\n",
      " 1.168e+01 1.167e+01 1.039e+01 2.540e+00 1.877e+01 3.300e+00 1.834e+01\n",
      " 1.055e+01 7.200e+01 1.850e+00 4.660e+00 1.139e+01 6.370e+00 5.360e+00\n",
      " 5.860e+00 1.038e+01 2.082e+01 3.290e+00 3.820e+00 1.732e+01 5.907e+01\n",
      " 4.700e+00 2.010e+00 2.300e+01 3.593e+01 2.800e+01 1.480e+01 2.600e+00\n",
      " 6.700e-01 2.320e+00 1.260e+01 3.250e+00 2.960e+01 2.720e+01 4.400e+00\n",
      " 6.400e+00 1.797e+01 5.590e+00 2.956e+01 1.390e+01 1.277e+01 1.278e+01\n",
      " 2.836e+01 2.250e+00 1.183e+01 7.140e+00 1.296e+01 3.010e+00 2.820e+00\n",
      " 2.411e+01 1.401e+01 4.880e+00 5.190e+00 2.163e+01 1.635e+01 1.711e+01\n",
      " 3.270e+00 4.780e+00 1.786e+01 3.000e+00 9.800e+01 5.580e+00 2.980e+00\n",
      " 1.020e+00 2.350e+00 1.065e+01 5.980e+00 2.122e+01 5.990e+00 1.220e+00\n",
      " 4.560e+00 4.500e+01 6.910e+00 1.890e+01 2.940e+00 2.931e+01 5.530e+00\n",
      " 3.016e+01 2.700e+01 1.430e+01 1.166e+01 3.960e+00 1.723e+01 3.390e+00\n",
      " 2.561e+01 1.748e+01 2.365e+01 4.170e+00 7.900e+01 2.985e+01 1.815e+01\n",
      " 4.630e+00 1.049e+01 4.280e+00 6.930e+00 4.270e+00 1.262e+01 6.800e-01\n",
      " 1.130e+00 2.347e+01 1.394e+01 2.990e+00 2.150e+00 9.800e-01 3.050e+00\n",
      " 1.240e+00 2.840e+00 7.290e+00 3.510e+00 8.800e-01 2.415e+01 4.800e+01\n",
      " 1.888e+01 2.190e+00 2.240e+00 5.440e+00 1.861e+01 6.210e+00 1.232e+01\n",
      " 2.310e+00 1.172e+01 1.112e+01 1.950e+00 2.400e+00 4.810e+00 4.760e+00\n",
      " 5.660e+00 6.490e+00 3.120e+00 1.070e+00 1.310e+00 2.234e+01 1.230e+00\n",
      " 9.660e+00 9.000e-01 1.776e+01 5.130e+00 1.462e+01 7.110e+00 2.044e+01\n",
      " 3.234e+01 1.522e+01 8.940e+00 8.330e+00 3.100e+01 1.355e+01 1.433e+01\n",
      " 1.550e+02 3.140e+00 8.840e+00 7.920e+00 1.710e+01 2.629e+01 1.293e+01\n",
      " 8.000e+00 5.780e+00 1.440e+00 2.970e+00 1.360e+00 1.180e+00 3.240e+00\n",
      " 7.740e+00 7.010e+00 7.640e+00 7.120e+00 1.260e+00 1.670e+00 7.440e+00\n",
      " 3.310e+00 1.880e+00 3.350e+00 9.400e-01 6.710e+00 6.300e-01 6.620e+00\n",
      " 3.720e+00 1.258e+01 3.800e+00 1.726e+01 5.560e+00 1.182e+01 4.038e+01\n",
      " 1.477e+01 3.940e+00 3.000e+01 6.890e+00 1.583e+01 5.713e+01 4.235e+01\n",
      " 4.920e+00 9.850e+00 1.280e+01 3.230e+00 1.435e+01 1.395e+01 1.700e+01\n",
      " 6.470e+00 9.540e+00 5.390e+00 5.670e+00 3.180e+00 5.940e+01 6.110e+00\n",
      " 5.154e+01 1.398e+01 1.397e+01 1.917e+01 2.261e+01 1.116e+01 1.517e+01\n",
      " 4.290e+00 7.500e+00 2.000e+00 9.830e+00 1.012e+01 2.670e+00 9.160e+00\n",
      " 7.930e+00 1.780e+00 6.100e-01 7.490e+00 7.190e+00 1.420e+00 5.240e+00\n",
      " 2.642e+01 2.448e+01 1.920e+00 4.600e+01 2.960e+00 2.220e+00 8.500e+00\n",
      " 1.255e+01 1.054e+01 3.400e+01 1.914e+01 4.160e+00 8.530e+00 4.800e+00\n",
      " 3.470e+00 5.600e+00 5.519e+01 5.425e+01 1.500e+02 2.993e+01 3.554e+01\n",
      " 1.309e+01 3.379e+01 2.641e+01 2.680e+01 7.500e-01 3.700e+00 8.200e-01\n",
      " 7.300e-01 4.730e+00 1.460e+00 8.700e+00 6.920e+00 7.220e+00 2.900e+00\n",
      " 3.020e+00 3.300e-01 4.310e+00 6.500e-01 4.930e+01 4.900e-01 6.990e+00\n",
      " 1.235e+01 7.340e+00 1.217e+01 3.770e+00 4.540e+00 1.031e+01 1.352e+01\n",
      " 1.471e+01 1.630e+00 2.580e+00 6.680e+00 7.200e-01 3.880e+00 1.720e+00\n",
      " 6.140e+00 6.940e+00 3.031e+01 1.275e+01 1.181e+01 2.440e+00 5.830e+00\n",
      " 1.244e+01 6.200e+01 8.600e-01 1.050e+00 2.920e+00 2.380e+00 4.530e+00\n",
      " 9.770e+00 1.926e+01 1.456e+01 9.520e+00 1.704e+01 1.820e+00 2.760e+00\n",
      " 1.692e+01 1.125e+01 8.970e+00 1.340e+00 5.920e+00 3.828e+01 2.608e+01\n",
      " 1.445e+01 4.230e+00 1.790e+00 7.590e+00 2.431e+01 4.930e+00 6.720e+00\n",
      " 7.810e+00 1.030e+00 4.360e+00 1.286e+01 1.610e+00 1.287e+01 1.801e+01\n",
      " 3.996e+01 3.039e+01 6.750e+00 8.080e+00 8.440e+00 8.700e-01 2.270e+00\n",
      " 1.805e+01 3.550e+01 1.000e+02 1.399e+01 1.029e+01 9.360e+00 8.010e+00\n",
      " 1.712e+01 4.520e+00 3.160e+00 2.838e+01 8.620e+00 4.070e+00 8.900e-01\n",
      " 2.030e+00 1.980e+00 9.890e+00 1.080e+00 4.240e+00 3.000e-01 2.370e+00\n",
      " 3.070e+00 5.709e+01 1.091e+01 2.870e+01 3.080e+01 5.820e+00 4.890e+00\n",
      " 1.350e+01 2.290e+00 3.830e+00 2.710e+00 4.000e-01 4.800e-01 1.150e+00\n",
      " 2.560e+00 2.950e+01 3.350e+01 5.900e-01 1.750e+01 1.361e+01 3.460e+00\n",
      " 6.900e-01 9.720e+00 1.533e+01 2.810e+00 1.978e+01 1.251e+01 1.715e+01\n",
      " 3.780e+00 1.334e+01 1.266e+01 1.570e+00 9.680e+00 1.575e+01 1.848e+01\n",
      " 1.059e+01 8.890e+00 1.872e+01 4.840e+00 1.324e+01 1.279e+01 3.200e+00\n",
      " 4.200e+00 3.760e+00 2.570e+00 3.710e+00 1.520e+00 3.260e+00 2.140e+00\n",
      " 2.231e+01 1.176e+01 3.620e+00 2.196e+01 1.779e+01 2.390e+01 2.903e+01\n",
      " 2.861e+01 6.730e+00 4.020e+00 3.950e+00 2.800e+00 2.670e+01 2.569e+01\n",
      " 2.380e+01 6.420e+00 4.039e+01 8.210e+00 1.650e+00 1.367e+01 6.450e+00\n",
      " 1.366e+01 2.382e+01 1.618e+01 6.100e+00 5.500e-01 1.890e+00 9.570e+00\n",
      " 1.730e+00 9.710e+00 6.430e+00 3.640e+00 1.710e+00 4.570e+00 1.380e+00\n",
      " 1.120e+00 5.950e+00 1.290e+00 1.140e+00 3.488e+01 1.550e+00 1.645e+01\n",
      " 1.162e+01 3.680e+00 6.800e+00 5.100e+00 1.557e+01 1.154e+01 1.020e+01\n",
      " 1.986e+01 2.303e+01 9.610e+00 6.560e+00 1.083e+01 2.117e+01 1.374e+01\n",
      " 2.326e+01 1.514e+01 1.080e+02 7.100e+00 9.500e+00 3.850e+00 1.560e+00\n",
      " 3.490e+00 1.800e+00 3.840e+00 5.050e+01 8.410e+00 2.496e+01 2.308e+01\n",
      " 4.468e+01 1.076e+01 3.330e+00 1.045e+01 8.180e+00 4.148e+01 1.252e+01\n",
      " 1.927e+01 3.232e+01 4.068e+01 8.120e+00 4.470e+00 1.530e+00 6.500e+01\n",
      " 2.690e+00 1.457e+01 6.130e+00 2.263e+01 1.458e+01 4.990e+00 1.085e+01\n",
      " 2.610e+00 9.480e+00 4.390e+00 4.260e+00 1.620e+00 7.420e+00 1.500e+00\n",
      " 2.260e+00 5.410e+00 4.030e+00 5.400e+00 9.400e+00 7.970e+00 4.919e+01\n",
      " 1.847e+01 1.342e+01 5.890e+00 7.540e+00 5.880e+00 1.122e+01 2.200e+00\n",
      " 5.100e+01 1.480e+00 1.598e+01 1.269e+01 9.410e+00 1.607e+01 6.300e+00\n",
      " 2.894e+01 1.864e+01 6.380e+00 7.850e+00 3.336e+01 8.340e+00 3.091e+01\n",
      " 6.870e+00 3.172e+01 9.280e+00 3.042e+01 7.360e+00 7.160e+00 1.382e+01\n",
      " 1.680e+00 2.224e+01 1.893e+01 4.510e+00 1.490e+00 3.170e+00 1.256e+01\n",
      " 2.770e+00 7.660e+00 4.480e+00 4.410e+00 1.040e+00 5.197e+01 4.144e+01\n",
      " 2.247e+01 2.880e+01 6.320e+00 4.204e+01 9.270e+00 3.536e+01 3.371e+01\n",
      " 1.973e+01 1.069e+01 1.151e+01 2.837e+01 7.400e+00 1.430e+00 1.665e+01\n",
      " 3.670e+00 5.310e+00 1.170e+00 6.240e+00 2.520e+00 4.450e+00 1.540e+00\n",
      " 1.089e+01 8.780e+00 1.330e+00 3.560e+00 2.068e+01 1.164e+01 1.412e+01\n",
      " 6.950e+00 2.830e+00 1.353e+01 1.660e+00 3.997e+01 3.403e+01 9.700e-01\n",
      " 5.260e+00 7.260e+00 8.490e+00 8.740e+00 2.517e+01 6.830e+00 2.508e+01\n",
      " 7.960e+00 3.574e+01 3.726e+01 6.570e+00 5.620e+00 3.900e+00 5.700e-01\n",
      " 5.220e+00 2.617e+01 9.500e-01 5.000e-01 1.400e+00 1.419e+01 1.064e+01\n",
      " 1.350e+00 1.357e+01 1.276e+01 3.040e+00 1.010e+00 2.523e+01 4.620e+00\n",
      " 1.438e+01 3.970e+00 9.420e+00 2.992e+01 1.272e+01 8.280e+00 6.260e+00\n",
      " 1.413e+01 2.386e+01 1.830e+00 4.870e+00 3.660e+00 4.670e+00 6.030e+00\n",
      " 1.392e+01 2.590e+02 4.900e+01 6.650e+00 2.490e+00 5.600e+01 2.049e+01\n",
      " 2.048e+01 1.744e+01 1.079e+01 4.635e+01 3.851e+01 3.600e+00 2.089e+01\n",
      " 1.134e+01 1.246e+01 4.765e+01 4.831e+01 8.510e+00 6.440e+00 2.525e+01\n",
      " 1.523e+01 5.570e+00 3.340e+00 6.160e+00 8.250e+00 6.150e+00 5.710e+00\n",
      " 7.600e-01 3.440e+00 2.124e+01 6.162e+01 4.206e+01 1.271e+01 1.858e+01\n",
      " 6.749e+01 7.820e+00 2.090e+00 5.280e+00 2.620e+00 1.075e+01 1.003e+01\n",
      " 9.440e+00 1.100e+02 5.809e+01 1.492e+01 7.940e+00 1.099e+01 1.450e+00\n",
      " 1.811e+01 2.467e+01 3.750e+00 1.237e+01 6.540e+00 2.346e+01 1.486e+01\n",
      " 1.386e+01 5.370e+00 5.250e+00 2.139e+01 2.110e+01 2.321e+01 5.120e+00\n",
      " 9.250e+00 1.467e+01 7.510e+00 2.450e+00 2.680e+00 7.210e+00 3.246e+01\n",
      " 3.932e+01 3.338e+01 5.300e+00 1.783e+01 7.400e-01 1.870e+00 1.041e+01\n",
      " 1.860e+00 4.970e+00 1.370e+00 2.330e+00 1.056e+01 1.910e+00 3.280e+00\n",
      " 6.270e+00 2.640e+00 9.740e+00 2.720e+00 7.000e-01 3.401e+01 6.410e+00\n",
      " 2.200e-01 4.110e+00 2.217e+01 1.323e+01 6.290e+00 5.600e-01 1.270e+00\n",
      " 1.587e+01 4.380e+00 1.614e+01 8.750e+00 2.460e+00 3.823e+01 3.890e+00\n",
      " 1.774e+01 2.107e+01 3.822e+01 8.100e-01 3.700e-01 1.314e+01 1.686e+01\n",
      " 1.468e+01 1.138e+01 6.040e+00 5.960e+00 1.127e+01 2.051e+01 1.184e+01\n",
      " 1.935e+01 5.460e+00 3.630e+00]\n"
     ]
    }
   ],
   "source": [
    "unique_values = benedict['discount_amount'].unique()\n",
    "print(\"Unique values in 'discount_amount':\", unique_values)"
   ]
  },
  {
   "cell_type": "code",
   "execution_count": 45,
   "metadata": {},
   "outputs": [
    {
     "name": "stdout",
     "output_type": "stream",
     "text": [
      "Unique values in 'net_amount_with_vat': [15.    0.   41.   ... 62.66 15.26   nan]\n"
     ]
    }
   ],
   "source": [
    "unique_values = benedict['net_amount_with_vat'].unique()\n",
    "print(\"Unique values in 'net_amount_with_vat':\", unique_values)"
   ]
  },
  {
   "cell_type": "code",
   "execution_count": 46,
   "metadata": {},
   "outputs": [],
   "source": [
    "# Fill NaN values with the median\n",
    "median_value = benedict['net_amount_with_vat'].median()\n",
    "benedict['net_amount_with_vat'] = benedict['net_amount_with_vat'].fillna(median_value)"
   ]
  },
  {
   "cell_type": "code",
   "execution_count": null,
   "metadata": {},
   "outputs": [
    {
     "name": "stdout",
     "output_type": "stream",
     "text": [
      "Unique values in 'net_amount_with_vat': [15.    0.   41.   ... 14.77 62.66 15.26]\n"
     ]
    }
   ],
   "source": [
    "unique_values = benedict['net_amount_with_vat'].unique()\n",
    "print(\"Unique values in 'net_amount_with_vat':\", unique_values)"
   ]
  },
  {
   "cell_type": "code",
   "execution_count": 48,
   "metadata": {},
   "outputs": [
    {
     "name": "stdout",
     "output_type": "stream",
     "text": [
      "Unique values in 'net_amount_without_vat': [12.82  0.   35.04 ... 53.56 13.04   nan]\n"
     ]
    }
   ],
   "source": [
    "unique_values = benedict['net_amount_without_vat'].unique()\n",
    "print(\"Unique values in 'net_amount_without_vat':\", unique_values)"
   ]
  },
  {
   "cell_type": "code",
   "execution_count": 49,
   "metadata": {},
   "outputs": [],
   "source": [
    "# Fill NaN values with the median\n",
    "median_value = benedict['net_amount_without_vat'].median()\n",
    "benedict['net_amount_without_vat'] = benedict['net_amount_without_vat'].fillna(median_value)"
   ]
  },
  {
   "cell_type": "code",
   "execution_count": 50,
   "metadata": {},
   "outputs": [
    {
     "name": "stdout",
     "output_type": "stream",
     "text": [
      "Unique values in 'net_amount_without_vat': [12.82  0.   35.04 ... 12.62 53.56 13.04]\n"
     ]
    }
   ],
   "source": [
    "unique_values = benedict['net_amount_without_vat'].unique()\n",
    "print(\"Unique values in 'net_amount_without_vat':\", unique_values)"
   ]
  },
  {
   "cell_type": "code",
   "execution_count": 51,
   "metadata": {},
   "outputs": [
    {
     "name": "stdout",
     "output_type": "stream",
     "text": [
      "Unique values in 'sales_vat_amount': [ 2.180e+00  0.000e+00  5.960e+00  3.350e+00  1.310e+00  1.003e+01\n",
      "  9.150e+00  9.880e+00  4.650e+00  4.660e+00  6.250e+00  2.320e+00\n",
      "  8.700e-01  2.170e+00  1.450e+00  2.760e+00  2.620e+00  1.148e+01\n",
      "  1.900e+00  1.264e+01  1.890e+00  1.020e+00  6.680e+00  7.300e-01\n",
      "  8.570e+00  8.430e+00  1.740e+00  3.050e+00  2.030e+00  2.040e+00\n",
      "  5.520e+00  5.530e+00  6.540e+00  6.390e+00  3.200e+00  8.860e+00\n",
      "  3.490e+00  5.670e+00  8.280e+00  5.660e+00  3.480e+00  1.160e+00\n",
      "  1.424e+01  1.061e+01  5.200e+00  7.600e-01  1.750e+00  5.090e+00\n",
      "  1.250e+01  7.410e+00  2.830e+00  1.880e+00  4.940e+00  4.080e+00\n",
      "  9.360e+00  9.740e+00  5.950e+00  6.970e+00  2.770e+00  1.600e+00\n",
      "  1.032e+01  4.070e+00  2.106e+01  2.200e+00  2.610e+00  4.930e+00\n",
      "  1.133e+01  9.000e-01  1.002e+01  1.031e+01  5.680e+00  4.210e+00\n",
      "  4.500e+00  3.950e+00  2.330e+00  5.050e+00  9.010e+00  8.140e+00\n",
      "  1.365e+01  3.460e+00  5.230e+00  7.850e+00  1.075e+01  8.420e+00\n",
      "  5.800e-01  5.240e+00  1.480e+00  8.130e+00  1.590e+00  3.060e+00\n",
      "  8.560e+00  6.400e+00  3.340e+00  3.330e+00  8.580e+00  6.420e+00\n",
      "  1.430e+00  8.980e+00  2.470e+00  1.040e+00  7.700e+00  5.940e+00\n",
      "  4.620e+00  6.060e+00  7.400e+00  8.290e+00  1.230e+00  9.160e+00\n",
      "  8.940e+00  2.190e+00  1.030e+00  1.340e+00  2.900e-01  4.344e+01\n",
      "  7.840e+00  5.980e+00  3.909e+01  1.500e-01  4.760e+00  1.060e+01\n",
      "  2.750e+00  5.510e+00  6.660e+00  3.780e+00  6.890e+00  1.690e+00\n",
      "  2.110e+00  1.760e+00  1.380e+00  7.790e+00  1.580e+00  9.420e+00\n",
      "  4.130e+00  8.970e+00  1.710e+00  1.720e+00  1.770e+00  4.370e+00\n",
      "  1.840e+00  1.190e+00  1.460e+00  9.200e-01  1.180e+00  7.610e+00\n",
      "  2.670e+00  9.300e-01  4.630e+00  3.240e+00  5.500e-01  1.100e+00\n",
      "  4.500e-01  2.690e+00  2.340e+00  9.630e+00  5.080e+00  3.763e+01\n",
      "  1.570e+00  9.440e+00  1.134e+01  3.680e+00  5.710e+00  9.890e+00\n",
      "  7.280e+00  8.810e+00  8.790e+00  1.970e+00  1.660e+00  9.260e+00\n",
      "  2.250e+00  1.000e+00  5.620e+00  1.260e+00 -3.780e+00  7.820e+00\n",
      "  4.200e-01  1.170e+00  1.046e+01  1.530e+00  3.830e+00  6.440e+00\n",
      "  3.380e+00  2.130e+00  6.000e+00  9.700e-01  7.720e+00  7.200e-01\n",
      "  9.860e+00  1.076e+01  1.420e+00  9.920e+00  1.610e+00  6.590e+00\n",
      "  5.250e+00  3.470e+00  5.610e+00  8.440e+00  8.000e-01  1.910e+00\n",
      "  8.840e+00  1.010e+00  9.020e+00  5.040e+00  2.050e+00  4.250e+00\n",
      "  1.730e+00  8.920e+00  4.770e+00  6.700e-01  6.000e-02  8.360e+00\n",
      "  4.780e+00  5.970e+00  1.045e+01  1.090e+01  8.610e+00  4.000e-01\n",
      "  5.000e-02  1.400e-01  3.500e+00  6.330e+00  1.033e+01  6.790e+00\n",
      "  8.800e-01  9.730e+00  5.750e+00  8.400e-01  4.910e+00  4.640e+00\n",
      "  1.300e+00  9.400e-01  5.010e+00  2.980e+00  1.630e+00  6.690e+00\n",
      "  2.640e+00  4.330e+00  4.600e+00  8.550e+00  1.560e+00  8.180e+00\n",
      "  8.190e+00  9.870e+00  4.450e+00  1.080e+00  2.350e+00  8.020e+00\n",
      "  5.540e+00  5.910e+00  7.620e+00  1.330e+00  1.500e+00  4.880e+00\n",
      "  3.870e+00  4.230e+00  7.290e+00  1.410e+00  1.200e+00  1.240e+00\n",
      "  1.640e+00  1.320e+00  6.960e+00  2.360e+00  3.440e+00  8.600e+00\n",
      "  1.520e+00  2.210e+00  1.790e+00  6.200e+00  7.320e+00  8.680e+00\n",
      "  2.070e+00  6.450e+00  5.930e+00  9.600e-01  1.390e+00  3.930e+00\n",
      "  6.460e+00  8.600e-01  8.730e+00  2.790e+00  2.310e+00  1.400e+00\n",
      "  7.430e+00  4.480e+00  7.250e+00  1.470e+00  1.130e+00  9.350e+00\n",
      "  7.070e+00  7.390e+00  2.600e+00  1.147e+01  4.400e-01  1.870e+00\n",
      "  9.510e+00  9.240e+00  3.190e+00  1.526e+01  1.598e+01  1.482e+01\n",
      "  8.330e+00  2.630e+00  3.600e+00  5.070e+00  5.880e+00  7.040e+00\n",
      "  3.210e+00  4.510e+00  3.790e+00  9.790e+00  5.770e+00  4.220e+00\n",
      "  1.300e-01  1.090e+00  6.830e+00  2.480e+00  3.630e+00  7.370e+00\n",
      "  6.010e+00  1.810e+00  7.400e-01  5.900e-01  7.380e+00  8.100e-01\n",
      "  6.160e+00  7.490e+00  2.590e+00  2.906e+02  9.450e+00  5.500e+00\n",
      "  1.140e+00  1.030e+01 -1.162e+01  6.410e+00  3.910e+00  2.020e+00\n",
      "  5.280e+00  7.050e+00  4.900e+00  2.870e+00  8.480e+00  7.700e-01\n",
      "  6.190e+00  1.280e+00  6.620e+00  7.990e+00  2.450e+00  1.680e+00\n",
      "  4.890e+00  9.370e+00  6.810e+00  4.180e+00  7.180e+00  1.159e+01\n",
      "  4.750e+00  4.310e+00  9.140e+00  7.740e+00  9.200e+00  1.054e+01\n",
      "  7.510e+00  2.000e+00  6.920e+00  3.960e+00  3.280e+00  5.180e+00\n",
      "  2.440e+00 -2.180e+00  9.170e+00  9.310e+00  8.670e+00  1.290e+00\n",
      "  6.760e+00  8.060e+00  8.520e+00  1.001e+01  5.330e+00  7.120e+00\n",
      " -6.540e+00  8.410e+00  4.345e+01  7.100e+00  9.040e+00  2.260e+00\n",
      "  6.380e+00  2.010e+00  5.490e+00  8.720e+00  9.500e+00  8.850e+00\n",
      "  2.080e+00  5.190e+00  4.160e+00  9.780e+00  3.170e+00  9.640e+00\n",
      "  5.420e+00  3.180e+00  4.420e+00  1.950e+00  3.000e-02  1.000e-02\n",
      "  9.000e-02  2.000e-02  1.860e+00  8.230e+00  4.000e-02  8.000e+00\n",
      "  3.700e+00  8.640e+00  5.130e+00  1.440e+00  2.880e+00  2.890e+00\n",
      "  1.250e+00  6.950e+00  4.050e+00  1.350e+00 -4.650e+00  5.450e+00\n",
      "  3.510e+00  7.140e+00  9.280e+00  1.940e+00  8.400e+00  4.390e+00\n",
      "  7.800e-01  9.660e+00  9.270e+00  1.830e+00  6.040e+00  5.600e+00\n",
      "  7.420e+00  8.870e+00  8.270e+00  4.520e+00  1.540e+00  9.520e+00\n",
      "  9.180e+00  3.990e+00  7.240e+00  1.135e+01  3.410e+00  1.700e+00\n",
      "  1.920e+00  2.240e+00  5.110e+00  5.400e-01  2.165e+01  3.000e-01\n",
      "  3.600e-01  7.730e+00  6.140e+00  1.078e+01  1.490e+00  7.310e+00\n",
      "  1.620e+00  9.100e-01  2.100e+00  9.340e+00  1.820e+00  1.007e+01\n",
      "  4.800e-01  2.090e+00  1.110e+00  9.250e+00  2.230e+00  2.720e+00\n",
      "  1.670e+00  8.110e+00  8.050e+00  1.960e+00  4.460e+00  5.160e+00\n",
      "  7.920e+00  2.380e+00  1.510e+00  1.060e+00  2.510e+00  1.850e+00\n",
      "  8.990e+00  4.680e+00  7.330e+00  7.710e+00  6.930e+00  8.030e+00\n",
      "  7.440e+00  2.840e+00  6.260e+00  2.060e+00  6.530e+00  1.074e+01\n",
      "  1.263e+01  8.070e+00  7.950e+00  6.310e+00  4.140e+00  7.500e-01\n",
      "  1.150e+00  6.990e+00  9.120e+00  7.270e+00  1.550e+00  6.840e+00\n",
      "  3.860e+00  8.780e+00  6.490e+00  8.750e+00  1.930e+00  4.860e+00\n",
      "  8.010e+00  1.800e+00  8.590e+00  3.430e+00  9.580e+00  9.500e-01\n",
      "  5.690e+00  1.425e+01 -3.095e+01  5.590e+00  9.840e+00  8.960e+00\n",
      "  7.830e+00  8.500e+00  4.010e+00  1.220e+00  4.060e+00  8.900e-01\n",
      "  7.960e+00  1.249e+01  8.470e+00  2.270e+00 -5.071e+01  5.812e+01\n",
      "  6.130e+00  3.940e+00  2.460e+00  7.870e+00  5.560e+00  8.300e-01\n",
      "  2.370e+00  6.020e+00  9.930e+00  5.100e+00  4.340e+00  9.650e+00\n",
      "  4.290e+00  4.870e+00  3.360e+00  2.540e+00  1.370e+00  8.250e+00\n",
      "  8.090e+00  7.010e+00  4.430e+00  6.080e+00  6.240e+00  9.400e+00\n",
      "  8.910e+00  7.200e+00  4.110e+00  4.030e+00  1.093e+01  7.470e+00\n",
      "  1.079e+01  5.260e+00  9.410e+00  6.230e+00  5.990e+00  5.810e+00\n",
      "  5.720e+00  5.550e+00  1.569e+01  6.150e+00  5.700e+00  2.700e+00\n",
      "  1.149e+01  3.970e+00  9.670e+00  5.350e+00  9.560e+00  7.100e-01\n",
      " -2.620e+00  3.920e+00  5.360e+00  8.340e+00  1.990e+00  1.095e+01\n",
      "  1.049e+01  2.120e+00  6.900e-01  2.390e+00  4.270e+00  2.500e+00\n",
      "  1.980e+00  6.170e+00  4.570e+00  4.040e+00  7.760e+00  9.900e-01\n",
      "  5.290e+00  8.740e+00  6.800e+00  7.880e+00  1.423e+01  3.760e+00\n",
      "  7.540e+00  1.010e+01  4.090e+00  1.525e+01  3.710e+00  3.530e+00\n",
      "  9.990e+00  1.780e+00  4.810e+00  9.620e+00  2.710e+00  8.510e+00\n",
      "  1.062e+01  5.100e-01  5.600e-01  3.730e+00  4.700e+00  8.040e+00\n",
      "  9.130e+00  7.000e-01  6.300e-01  3.400e+00  9.900e+00  8.650e+00\n",
      "  3.890e+00  6.770e+00  5.630e+00  1.345e+01  8.100e+00  5.200e-01\n",
      "  2.730e+00  3.270e+00  8.660e+00  3.800e+00  7.230e+00  1.360e+00\n",
      "  5.300e-01  3.300e+00  2.810e+00  5.030e+00  1.438e+01  1.439e+01\n",
      "  2.107e+01  3.900e-01  5.460e+00 -1.293e+01  7.520e+00  4.170e+00\n",
      "  8.770e+00  2.400e+00  9.460e+00  9.540e+00  2.910e+00  2.550e+00\n",
      " -2.320e+00  3.770e+00 -9.150e+00  6.200e-01  3.400e-01  6.630e+00\n",
      "  7.860e+00  5.300e+00  7.460e+00  1.650e+00  9.110e+00  6.030e+00\n",
      "  9.810e+00  1.057e+01  4.280e+00  1.266e+01  1.020e+01  9.060e+00\n",
      "  4.200e+00  1.270e+00  1.053e+01  7.220e+00  9.800e-01  9.080e+00\n",
      "  9.850e+00  9.050e+00  4.920e+00  6.550e+00  5.120e+00  9.960e+00\n",
      "  5.340e+00  9.070e+00  5.390e+00  7.900e-01  2.560e+00  7.300e+00\n",
      "  6.650e+00  1.210e+00  6.340e+00  6.980e+00  4.150e+00  1.120e+00\n",
      " -1.890e+00  6.100e-01  7.170e+00 -2.107e+01  2.290e+00  7.770e+00\n",
      "  7.780e+00  4.100e+00  3.580e+00 -3.051e+01  4.730e+00  6.500e-01\n",
      "  6.600e-01  9.090e+00  8.830e+00  6.210e+00  3.750e+00  7.680e+00\n",
      "  1.028e+01  9.720e+00  9.710e+00  2.000e-01  7.080e+00  2.200e-01\n",
      "  9.550e+00  7.930e+00  9.940e+00  2.160e+00  9.190e+00  1.964e+01\n",
      "  5.800e+00  7.890e+00  1.004e+01  4.720e+00  7.340e+00  2.900e+00\n",
      "  3.720e+00  5.020e+00  7.660e+00  9.380e+00  7.640e+00  3.000e+00\n",
      "  6.510e+00  4.120e+00  8.800e+00  6.780e+00  5.760e+00  3.070e+00\n",
      "  2.650e+00  8.220e+00  8.350e+00  4.610e+00  7.550e+00  7.160e+00\n",
      "  5.740e+00  5.270e+00  7.980e+00  3.320e+00  8.390e+00  8.160e+00\n",
      "  6.480e+00  8.310e+00  2.530e+00  1.568e+01  6.120e+00  4.470e+00\n",
      "  9.950e+00  8.200e-01  7.110e+00  5.650e+00  5.790e+00  6.290e+00\n",
      "  2.780e+00  2.150e+00  9.750e+00  4.240e+00  1.047e+01  7.750e+00\n",
      "  9.100e+00  2.220e+00        nan]\n"
     ]
    }
   ],
   "source": [
    "unique_values = benedict['sales_vat_amount'].unique()\n",
    "print(\"Unique values in 'sales_vat_amount':\", unique_values)"
   ]
  },
  {
   "cell_type": "code",
   "execution_count": 52,
   "metadata": {},
   "outputs": [],
   "source": [
    "# Fill NaN values with the median\n",
    "median_value = benedict['sales_vat_amount'].median()\n",
    "benedict['sales_vat_amount'] = benedict['sales_vat_amount'].fillna(median_value)"
   ]
  },
  {
   "cell_type": "code",
   "execution_count": 53,
   "metadata": {},
   "outputs": [
    {
     "name": "stdout",
     "output_type": "stream",
     "text": [
      "Unique values in 'sales_vat_amount': [ 2.180e+00  0.000e+00  5.960e+00  3.350e+00  1.310e+00  1.003e+01\n",
      "  9.150e+00  9.880e+00  4.650e+00  4.660e+00  6.250e+00  2.320e+00\n",
      "  8.700e-01  2.170e+00  1.450e+00  2.760e+00  2.620e+00  1.148e+01\n",
      "  1.900e+00  1.264e+01  1.890e+00  1.020e+00  6.680e+00  7.300e-01\n",
      "  8.570e+00  8.430e+00  1.740e+00  3.050e+00  2.030e+00  2.040e+00\n",
      "  5.520e+00  5.530e+00  6.540e+00  6.390e+00  3.200e+00  8.860e+00\n",
      "  3.490e+00  5.670e+00  8.280e+00  5.660e+00  3.480e+00  1.160e+00\n",
      "  1.424e+01  1.061e+01  5.200e+00  7.600e-01  1.750e+00  5.090e+00\n",
      "  1.250e+01  7.410e+00  2.830e+00  1.880e+00  4.940e+00  4.080e+00\n",
      "  9.360e+00  9.740e+00  5.950e+00  6.970e+00  2.770e+00  1.600e+00\n",
      "  1.032e+01  4.070e+00  2.106e+01  2.200e+00  2.610e+00  4.930e+00\n",
      "  1.133e+01  9.000e-01  1.002e+01  1.031e+01  5.680e+00  4.210e+00\n",
      "  4.500e+00  3.950e+00  2.330e+00  5.050e+00  9.010e+00  8.140e+00\n",
      "  1.365e+01  3.460e+00  5.230e+00  7.850e+00  1.075e+01  8.420e+00\n",
      "  5.800e-01  5.240e+00  1.480e+00  8.130e+00  1.590e+00  3.060e+00\n",
      "  8.560e+00  6.400e+00  3.340e+00  3.330e+00  8.580e+00  6.420e+00\n",
      "  1.430e+00  8.980e+00  2.470e+00  1.040e+00  7.700e+00  5.940e+00\n",
      "  4.620e+00  6.060e+00  7.400e+00  8.290e+00  1.230e+00  9.160e+00\n",
      "  8.940e+00  2.190e+00  1.030e+00  1.340e+00  2.900e-01  4.344e+01\n",
      "  7.840e+00  5.980e+00  3.909e+01  1.500e-01  4.760e+00  1.060e+01\n",
      "  2.750e+00  5.510e+00  6.660e+00  3.780e+00  6.890e+00  1.690e+00\n",
      "  2.110e+00  1.760e+00  1.380e+00  7.790e+00  1.580e+00  9.420e+00\n",
      "  4.130e+00  8.970e+00  1.710e+00  1.720e+00  1.770e+00  4.370e+00\n",
      "  1.840e+00  1.190e+00  1.460e+00  9.200e-01  1.180e+00  7.610e+00\n",
      "  2.670e+00  9.300e-01  4.630e+00  3.240e+00  5.500e-01  1.100e+00\n",
      "  4.500e-01  2.690e+00  2.340e+00  9.630e+00  5.080e+00  3.763e+01\n",
      "  1.570e+00  9.440e+00  1.134e+01  3.680e+00  5.710e+00  9.890e+00\n",
      "  7.280e+00  8.810e+00  8.790e+00  1.970e+00  1.660e+00  9.260e+00\n",
      "  2.250e+00  1.000e+00  5.620e+00  1.260e+00 -3.780e+00  7.820e+00\n",
      "  4.200e-01  1.170e+00  1.046e+01  1.530e+00  3.830e+00  6.440e+00\n",
      "  3.380e+00  2.130e+00  6.000e+00  9.700e-01  7.720e+00  7.200e-01\n",
      "  9.860e+00  1.076e+01  1.420e+00  9.920e+00  1.610e+00  6.590e+00\n",
      "  5.250e+00  3.470e+00  5.610e+00  8.440e+00  8.000e-01  1.910e+00\n",
      "  8.840e+00  1.010e+00  9.020e+00  5.040e+00  2.050e+00  4.250e+00\n",
      "  1.730e+00  8.920e+00  4.770e+00  6.700e-01  6.000e-02  8.360e+00\n",
      "  4.780e+00  5.970e+00  1.045e+01  1.090e+01  8.610e+00  4.000e-01\n",
      "  5.000e-02  1.400e-01  3.500e+00  6.330e+00  1.033e+01  6.790e+00\n",
      "  8.800e-01  9.730e+00  5.750e+00  8.400e-01  4.910e+00  4.640e+00\n",
      "  1.300e+00  9.400e-01  5.010e+00  2.980e+00  1.630e+00  6.690e+00\n",
      "  2.640e+00  4.330e+00  4.600e+00  8.550e+00  1.560e+00  8.180e+00\n",
      "  8.190e+00  9.870e+00  4.450e+00  1.080e+00  2.350e+00  8.020e+00\n",
      "  5.540e+00  5.910e+00  7.620e+00  1.330e+00  1.500e+00  4.880e+00\n",
      "  3.870e+00  4.230e+00  7.290e+00  1.410e+00  1.200e+00  1.240e+00\n",
      "  1.640e+00  1.320e+00  6.960e+00  2.360e+00  3.440e+00  8.600e+00\n",
      "  1.520e+00  2.210e+00  1.790e+00  6.200e+00  7.320e+00  8.680e+00\n",
      "  2.070e+00  6.450e+00  5.930e+00  9.600e-01  1.390e+00  3.930e+00\n",
      "  6.460e+00  8.600e-01  8.730e+00  2.790e+00  2.310e+00  1.400e+00\n",
      "  7.430e+00  4.480e+00  7.250e+00  1.470e+00  1.130e+00  9.350e+00\n",
      "  7.070e+00  7.390e+00  2.600e+00  1.147e+01  4.400e-01  1.870e+00\n",
      "  9.510e+00  9.240e+00  3.190e+00  1.526e+01  1.598e+01  1.482e+01\n",
      "  8.330e+00  2.630e+00  3.600e+00  5.070e+00  5.880e+00  7.040e+00\n",
      "  3.210e+00  4.510e+00  3.790e+00  9.790e+00  5.770e+00  4.220e+00\n",
      "  1.300e-01  1.090e+00  6.830e+00  2.480e+00  3.630e+00  7.370e+00\n",
      "  6.010e+00  1.810e+00  7.400e-01  5.900e-01  7.380e+00  8.100e-01\n",
      "  6.160e+00  7.490e+00  2.590e+00  2.906e+02  9.450e+00  5.500e+00\n",
      "  1.140e+00  1.030e+01 -1.162e+01  6.410e+00  3.910e+00  2.020e+00\n",
      "  5.280e+00  7.050e+00  4.900e+00  2.870e+00  8.480e+00  7.700e-01\n",
      "  6.190e+00  1.280e+00  6.620e+00  7.990e+00  2.450e+00  1.680e+00\n",
      "  4.890e+00  9.370e+00  6.810e+00  4.180e+00  7.180e+00  1.159e+01\n",
      "  4.750e+00  4.310e+00  9.140e+00  7.740e+00  9.200e+00  1.054e+01\n",
      "  7.510e+00  2.000e+00  6.920e+00  3.960e+00  3.280e+00  5.180e+00\n",
      "  2.440e+00 -2.180e+00  9.170e+00  9.310e+00  8.670e+00  1.290e+00\n",
      "  6.760e+00  8.060e+00  8.520e+00  1.001e+01  5.330e+00  7.120e+00\n",
      " -6.540e+00  8.410e+00  4.345e+01  7.100e+00  9.040e+00  2.260e+00\n",
      "  6.380e+00  2.010e+00  5.490e+00  8.720e+00  9.500e+00  8.850e+00\n",
      "  2.080e+00  5.190e+00  4.160e+00  9.780e+00  3.170e+00  9.640e+00\n",
      "  5.420e+00  3.180e+00  4.420e+00  1.950e+00  3.000e-02  1.000e-02\n",
      "  9.000e-02  2.000e-02  1.860e+00  8.230e+00  4.000e-02  8.000e+00\n",
      "  3.700e+00  8.640e+00  5.130e+00  1.440e+00  2.880e+00  2.890e+00\n",
      "  1.250e+00  6.950e+00  4.050e+00  1.350e+00 -4.650e+00  5.450e+00\n",
      "  3.510e+00  7.140e+00  9.280e+00  1.940e+00  8.400e+00  4.390e+00\n",
      "  7.800e-01  9.660e+00  9.270e+00  1.830e+00  6.040e+00  5.600e+00\n",
      "  7.420e+00  8.870e+00  8.270e+00  4.520e+00  1.540e+00  9.520e+00\n",
      "  9.180e+00  3.990e+00  7.240e+00  1.135e+01  3.410e+00  1.700e+00\n",
      "  1.920e+00  2.240e+00  5.110e+00  5.400e-01  2.165e+01  3.000e-01\n",
      "  3.600e-01  7.730e+00  6.140e+00  1.078e+01  1.490e+00  7.310e+00\n",
      "  1.620e+00  9.100e-01  2.100e+00  9.340e+00  1.820e+00  1.007e+01\n",
      "  4.800e-01  2.090e+00  1.110e+00  9.250e+00  2.230e+00  2.720e+00\n",
      "  1.670e+00  8.110e+00  8.050e+00  1.960e+00  4.460e+00  5.160e+00\n",
      "  7.920e+00  2.380e+00  1.510e+00  1.060e+00  2.510e+00  1.850e+00\n",
      "  8.990e+00  4.680e+00  7.330e+00  7.710e+00  6.930e+00  8.030e+00\n",
      "  7.440e+00  2.840e+00  6.260e+00  2.060e+00  6.530e+00  1.074e+01\n",
      "  1.263e+01  8.070e+00  7.950e+00  6.310e+00  4.140e+00  7.500e-01\n",
      "  1.150e+00  6.990e+00  9.120e+00  7.270e+00  1.550e+00  6.840e+00\n",
      "  3.860e+00  8.780e+00  6.490e+00  8.750e+00  1.930e+00  4.860e+00\n",
      "  8.010e+00  1.800e+00  8.590e+00  3.430e+00  9.580e+00  9.500e-01\n",
      "  5.690e+00  1.425e+01 -3.095e+01  5.590e+00  9.840e+00  8.960e+00\n",
      "  7.830e+00  8.500e+00  4.010e+00  1.220e+00  4.060e+00  8.900e-01\n",
      "  7.960e+00  1.249e+01  8.470e+00  2.270e+00 -5.071e+01  5.812e+01\n",
      "  6.130e+00  3.940e+00  2.460e+00  7.870e+00  5.560e+00  8.300e-01\n",
      "  2.370e+00  6.020e+00  9.930e+00  5.100e+00  4.340e+00  9.650e+00\n",
      "  4.290e+00  4.870e+00  3.360e+00  2.540e+00  1.370e+00  8.250e+00\n",
      "  8.090e+00  7.010e+00  4.430e+00  6.080e+00  6.240e+00  9.400e+00\n",
      "  8.910e+00  7.200e+00  4.110e+00  4.030e+00  1.093e+01  7.470e+00\n",
      "  1.079e+01  5.260e+00  9.410e+00  6.230e+00  5.990e+00  5.810e+00\n",
      "  5.720e+00  5.550e+00  1.569e+01  6.150e+00  5.700e+00  2.700e+00\n",
      "  1.149e+01  3.970e+00  9.670e+00  5.350e+00  9.560e+00  7.100e-01\n",
      " -2.620e+00  3.920e+00  5.360e+00  8.340e+00  1.990e+00  1.095e+01\n",
      "  1.049e+01  2.120e+00  6.900e-01  2.390e+00  4.270e+00  2.500e+00\n",
      "  1.980e+00  6.170e+00  4.570e+00  4.040e+00  7.760e+00  9.900e-01\n",
      "  5.290e+00  8.740e+00  6.800e+00  7.880e+00  1.423e+01  3.760e+00\n",
      "  7.540e+00  1.010e+01  4.090e+00  1.525e+01  3.710e+00  3.530e+00\n",
      "  9.990e+00  1.780e+00  4.810e+00  9.620e+00  2.710e+00  8.510e+00\n",
      "  1.062e+01  5.100e-01  5.600e-01  3.730e+00  4.700e+00  8.040e+00\n",
      "  9.130e+00  7.000e-01  6.300e-01  3.400e+00  9.900e+00  8.650e+00\n",
      "  3.890e+00  6.770e+00  5.630e+00  1.345e+01  8.100e+00  5.200e-01\n",
      "  2.730e+00  3.270e+00  8.660e+00  3.800e+00  7.230e+00  1.360e+00\n",
      "  5.300e-01  3.300e+00  2.810e+00  5.030e+00  1.438e+01  1.439e+01\n",
      "  2.107e+01  3.900e-01  5.460e+00 -1.293e+01  7.520e+00  4.170e+00\n",
      "  8.770e+00  2.400e+00  9.460e+00  9.540e+00  2.910e+00  2.550e+00\n",
      " -2.320e+00  3.770e+00 -9.150e+00  6.200e-01  3.400e-01  6.630e+00\n",
      "  7.860e+00  5.300e+00  7.460e+00  1.650e+00  9.110e+00  6.030e+00\n",
      "  9.810e+00  1.057e+01  4.280e+00  1.266e+01  1.020e+01  9.060e+00\n",
      "  4.200e+00  1.270e+00  1.053e+01  7.220e+00  9.800e-01  9.080e+00\n",
      "  9.850e+00  9.050e+00  4.920e+00  6.550e+00  5.120e+00  9.960e+00\n",
      "  5.340e+00  9.070e+00  5.390e+00  7.900e-01  2.560e+00  7.300e+00\n",
      "  6.650e+00  1.210e+00  6.340e+00  6.980e+00  4.150e+00  1.120e+00\n",
      " -1.890e+00  6.100e-01  7.170e+00 -2.107e+01  2.290e+00  7.770e+00\n",
      "  7.780e+00  4.100e+00  3.580e+00 -3.051e+01  4.730e+00  6.500e-01\n",
      "  6.600e-01  9.090e+00  8.830e+00  6.210e+00  3.750e+00  7.680e+00\n",
      "  1.028e+01  9.720e+00  9.710e+00  2.000e-01  7.080e+00  2.200e-01\n",
      "  9.550e+00  7.930e+00  9.940e+00  2.160e+00  9.190e+00  1.964e+01\n",
      "  5.800e+00  7.890e+00  1.004e+01  4.720e+00  7.340e+00  2.900e+00\n",
      "  3.720e+00  5.020e+00  7.660e+00  9.380e+00  7.640e+00  3.000e+00\n",
      "  6.510e+00  4.120e+00  8.800e+00  6.780e+00  5.760e+00  3.070e+00\n",
      "  2.650e+00  8.220e+00  8.350e+00  4.610e+00  7.550e+00  7.160e+00\n",
      "  5.740e+00  5.270e+00  7.980e+00  3.320e+00  8.390e+00  8.160e+00\n",
      "  6.480e+00  8.310e+00  2.530e+00  1.568e+01  6.120e+00  4.470e+00\n",
      "  9.950e+00  8.200e-01  7.110e+00  5.650e+00  5.790e+00  6.290e+00\n",
      "  2.780e+00  2.150e+00  9.750e+00  4.240e+00  1.047e+01  7.750e+00\n",
      "  9.100e+00  2.220e+00]\n"
     ]
    }
   ],
   "source": [
    "unique_values = benedict['sales_vat_amount'].unique()\n",
    "print(\"Unique values in 'sales_vat_amount':\", unique_values)"
   ]
  },
  {
   "cell_type": "code",
   "execution_count": 54,
   "metadata": {},
   "outputs": [
    {
     "name": "stdout",
     "output_type": "stream",
     "text": [
      "Unique values in 'gross_amount': [ 1.50e+01  0.00e+00  4.10e+01  2.30e+01  9.00e+00  6.90e+01  6.30e+01\n",
      "  6.80e+01  3.20e+01  4.30e+01  1.60e+01  6.00e+00  1.00e+01  1.90e+01\n",
      "  1.80e+01  7.90e+01  1.30e+01  8.70e+01  7.00e+00  4.60e+01  5.00e+00\n",
      "  5.90e+01  5.80e+01  1.20e+01  2.10e+01  1.40e+01  3.80e+01  4.50e+01\n",
      "  4.40e+01  2.20e+01  6.10e+01  2.40e+01  3.90e+01  5.70e+01  8.00e+00\n",
      "  9.80e+01  7.30e+01  3.50e+01  8.60e+01  5.10e+01  3.40e+01  6.70e+01\n",
      "  4.80e+01  1.10e+01  7.10e+01  2.80e+01  1.45e+02  7.80e+01  2.90e+01\n",
      "  3.10e+01  5.60e+01  1.00e+02  3.60e+01  5.40e+01  7.40e+01  4.00e+00\n",
      "  6.20e+01  1.70e+01  5.30e+01  2.00e+00  2.99e+02  2.69e+02  1.00e+00\n",
      "  2.60e+01  2.59e+02  6.50e+01 -2.60e+01  7.20e+01  7.50e+01  1.05e+02\n",
      "  1.10e+02  1.02e+02  2.00e+03 -8.00e+01 -1.50e+01  1.55e+02  4.90e+01\n",
      " -4.50e+01 -3.20e+01 -2.13e+02 -3.49e+02  4.00e+02  1.08e+02 -1.80e+01\n",
      "  2.70e+01  9.90e+01 -8.90e+01  2.00e+01 -1.60e+01 -6.30e+01 -1.30e+01\n",
      " -1.45e+02 -2.10e+02  1.35e+02       nan]\n"
     ]
    }
   ],
   "source": [
    "unique_values = benedict['gross_amount'].unique()\n",
    "print(\"Unique values in 'gross_amount':\", unique_values)"
   ]
  },
  {
   "cell_type": "code",
   "execution_count": 55,
   "metadata": {},
   "outputs": [],
   "source": [
    "# Fill NaN values with the median\n",
    "median_value = benedict['gross_amount'].median()\n",
    "benedict['gross_amount'] = benedict['gross_amount'].fillna(median_value)"
   ]
  },
  {
   "cell_type": "code",
   "execution_count": 56,
   "metadata": {},
   "outputs": [
    {
     "name": "stdout",
     "output_type": "stream",
     "text": [
      "Unique values in 'gross_amount': [ 1.50e+01  0.00e+00  4.10e+01  2.30e+01  9.00e+00  6.90e+01  6.30e+01\n",
      "  6.80e+01  3.20e+01  4.30e+01  1.60e+01  6.00e+00  1.00e+01  1.90e+01\n",
      "  1.80e+01  7.90e+01  1.30e+01  8.70e+01  7.00e+00  4.60e+01  5.00e+00\n",
      "  5.90e+01  5.80e+01  1.20e+01  2.10e+01  1.40e+01  3.80e+01  4.50e+01\n",
      "  4.40e+01  2.20e+01  6.10e+01  2.40e+01  3.90e+01  5.70e+01  8.00e+00\n",
      "  9.80e+01  7.30e+01  3.50e+01  8.60e+01  5.10e+01  3.40e+01  6.70e+01\n",
      "  4.80e+01  1.10e+01  7.10e+01  2.80e+01  1.45e+02  7.80e+01  2.90e+01\n",
      "  3.10e+01  5.60e+01  1.00e+02  3.60e+01  5.40e+01  7.40e+01  4.00e+00\n",
      "  6.20e+01  1.70e+01  5.30e+01  2.00e+00  2.99e+02  2.69e+02  1.00e+00\n",
      "  2.60e+01  2.59e+02  6.50e+01 -2.60e+01  7.20e+01  7.50e+01  1.05e+02\n",
      "  1.10e+02  1.02e+02  2.00e+03 -8.00e+01 -1.50e+01  1.55e+02  4.90e+01\n",
      " -4.50e+01 -3.20e+01 -2.13e+02 -3.49e+02  4.00e+02  1.08e+02 -1.80e+01\n",
      "  2.70e+01  9.90e+01 -8.90e+01  2.00e+01 -1.60e+01 -6.30e+01 -1.30e+01\n",
      " -1.45e+02 -2.10e+02  1.35e+02]\n"
     ]
    }
   ],
   "source": [
    "unique_values = benedict['gross_amount'].unique()\n",
    "print(\"Unique values in 'gross_amount':\", unique_values)"
   ]
  },
  {
   "cell_type": "code",
   "execution_count": 57,
   "metadata": {},
   "outputs": [
    {
     "name": "stdout",
     "output_type": "stream",
     "text": [
      "Unique values in 'base_price': [ 15.    0.   41.   23.    9.   69.   63.    5.   68.   32.   43.    4.9\n",
      "  16.    6.   10.   19.   18.   79.   13.   87.    7.   46.   59.   58.\n",
      "  21.   14.   38.   45.   12.   44.   22.   61.   24.   39.    8.   98.\n",
      "  73.   35.   86.   62.   34.   71.   67.   56.   48.   11.   28.  145.\n",
      "  78.   29.   31.   10.9  51.  100.   36.   54.   74.    4.   17.   53.\n",
      "  26.    1.    2.  299.    3.  279.   12.9 259.   65.   72.   75.  105.\n",
      " 110.  102.  155.   49.  108.   27.   99.   20.    nan]\n"
     ]
    }
   ],
   "source": [
    "unique_values = benedict['base_price'].unique()\n",
    "print(\"Unique values in 'base_price':\", unique_values)"
   ]
  },
  {
   "cell_type": "code",
   "execution_count": 58,
   "metadata": {},
   "outputs": [],
   "source": [
    "# Fill NaN values with the median\n",
    "median_value = benedict['base_price'].median()\n",
    "benedict['base_price'] = benedict['base_price'].fillna(median_value)"
   ]
  },
  {
   "cell_type": "code",
   "execution_count": 59,
   "metadata": {},
   "outputs": [
    {
     "name": "stdout",
     "output_type": "stream",
     "text": [
      "Unique values in 'base_price': [ 15.    0.   41.   23.    9.   69.   63.    5.   68.   32.   43.    4.9\n",
      "  16.    6.   10.   19.   18.   79.   13.   87.    7.   46.   59.   58.\n",
      "  21.   14.   38.   45.   12.   44.   22.   61.   24.   39.    8.   98.\n",
      "  73.   35.   86.   62.   34.   71.   67.   56.   48.   11.   28.  145.\n",
      "  78.   29.   31.   10.9  51.  100.   36.   54.   74.    4.   17.   53.\n",
      "  26.    1.    2.  299.    3.  279.   12.9 259.   65.   72.   75.  105.\n",
      " 110.  102.  155.   49.  108.   27.   99.   20. ]\n"
     ]
    }
   ],
   "source": [
    "unique_values = benedict['base_price'].unique()\n",
    "print(\"Unique values in 'base_price':\", unique_values)"
   ]
  },
  {
   "cell_type": "code",
   "execution_count": 60,
   "metadata": {},
   "outputs": [
    {
     "name": "stdout",
     "output_type": "stream",
     "text": [
      "Unique values in 'refund_without_vat': [   nan  22.22  68.38  12.82  38.46  27.35 182.05 298.29  15.38  76.07\n",
      "  13.68  53.85  11.11 123.93 179.49]\n"
     ]
    }
   ],
   "source": [
    "unique_values = benedict['refund_without_vat'].unique()\n",
    "print(\"Unique values in 'refund_without_vat':\", unique_values)"
   ]
  },
  {
   "cell_type": "code",
   "execution_count": 61,
   "metadata": {},
   "outputs": [
    {
     "data": {
      "text/plain": [
       "count     15.000000\n",
       "mean      76.695333\n",
       "std       84.093709\n",
       "min       11.110000\n",
       "25%       18.800000\n",
       "50%       38.460000\n",
       "75%      100.000000\n",
       "max      298.290000\n",
       "Name: refund_without_vat, dtype: float64"
      ]
     },
     "execution_count": 61,
     "metadata": {},
     "output_type": "execute_result"
    }
   ],
   "source": [
    "benedict['refund_without_vat'].describe()"
   ]
  },
  {
   "cell_type": "code",
   "execution_count": 62,
   "metadata": {},
   "outputs": [],
   "source": [
    "# Fill NaN values with the median\n",
    "median_value = benedict['refund_without_vat'].median()\n",
    "benedict['refund_without_vat'] = benedict['refund_without_vat'].fillna(median_value)"
   ]
  },
  {
   "cell_type": "code",
   "execution_count": 63,
   "metadata": {},
   "outputs": [
    {
     "name": "stdout",
     "output_type": "stream",
     "text": [
      "Unique values in 'refund_without_vat': [ 38.46  22.22  68.38  12.82  27.35 182.05 298.29  15.38  76.07  13.68\n",
      "  53.85  11.11 123.93 179.49]\n"
     ]
    }
   ],
   "source": [
    "unique_values = benedict['refund_without_vat'].unique()\n",
    "print(\"Unique values in 'refund_without_vat':\", unique_values)"
   ]
  },
  {
   "cell_type": "code",
   "execution_count": 64,
   "metadata": {},
   "outputs": [
    {
     "name": "stdout",
     "output_type": "stream",
     "text": [
      "Unique values in 'refund_vat_amount': [  nan  3.78 11.62  2.18  6.54  4.65 30.95 50.71  2.62 12.93  2.32  9.15\n",
      "  1.89 21.07 30.51]\n"
     ]
    }
   ],
   "source": [
    "unique_values = benedict['refund_vat_amount'].unique()\n",
    "print(\"Unique values in 'refund_vat_amount':\", unique_values)"
   ]
  },
  {
   "cell_type": "code",
   "execution_count": null,
   "metadata": {},
   "outputs": [
    {
     "data": {
      "text/plain": [
       "count    15.000000\n",
       "mean     13.038000\n",
       "std      14.295799\n",
       "min       1.890000\n",
       "25%       3.200000\n",
       "50%       6.540000\n",
       "75%      17.000000\n",
       "max      50.710000\n",
       "Name: refund_vat_amount, dtype: float64"
      ]
     },
     "execution_count": 65,
     "metadata": {},
     "output_type": "execute_result"
    }
   ],
   "source": [
    "benedict['refund_vat_amount'].describe()"
   ]
  },
  {
   "cell_type": "code",
   "execution_count": 66,
   "metadata": {},
   "outputs": [],
   "source": [
    "# Fill NaN values with the median\n",
    "median_value = benedict['refund_vat_amount'].median()\n",
    "benedict['refund_vat_amount'] = benedict['refund_vat_amount'].fillna(median_value)"
   ]
  },
  {
   "cell_type": "code",
   "execution_count": 67,
   "metadata": {},
   "outputs": [
    {
     "name": "stdout",
     "output_type": "stream",
     "text": [
      "Unique values in 'refund_vat_amount': [ 6.54  3.78 11.62  2.18  4.65 30.95 50.71  2.62 12.93  2.32  9.15  1.89\n",
      " 21.07 30.51]\n"
     ]
    }
   ],
   "source": [
    "unique_values = benedict['refund_vat_amount'].unique()\n",
    "print(\"Unique values in 'refund_vat_amount':\", unique_values)"
   ]
  },
  {
   "cell_type": "code",
   "execution_count": 68,
   "metadata": {},
   "outputs": [
    {
     "name": "stdout",
     "output_type": "stream",
     "text": [
      "Unique values in 'operator_amount': ['positiveSales' 'negativeSales' nan]\n"
     ]
    }
   ],
   "source": [
    "unique_values = benedict['operator_amount'].unique()\n",
    "print(\"Unique values in 'operator_amount':\", unique_values)"
   ]
  },
  {
   "cell_type": "code",
   "execution_count": 69,
   "metadata": {},
   "outputs": [],
   "source": [
    "benedict['operator_amount'] = benedict['operator_amount'].fillna('unknown')"
   ]
  },
  {
   "cell_type": "code",
   "execution_count": 70,
   "metadata": {},
   "outputs": [
    {
     "data": {
      "text/plain": [
       "array(['positiveSales', 'negativeSales', 'unknown'], dtype=object)"
      ]
     },
     "execution_count": 70,
     "metadata": {},
     "output_type": "execute_result"
    }
   ],
   "source": [
    "benedict['operator_amount'].unique()"
   ]
  },
  {
   "cell_type": "code",
   "execution_count": 71,
   "metadata": {},
   "outputs": [],
   "source": [
    "benedict['operator_amount'] = benedict['operator_amount'].astype('category')"
   ]
  },
  {
   "cell_type": "code",
   "execution_count": 72,
   "metadata": {},
   "outputs": [
    {
     "name": "stdout",
     "output_type": "stream",
     "text": [
      "Unique values in 'final_item_price': [ 15.  41.   0.  23.   9.  69.  63.  68.  32.  43.  16.   6.  10.  19.\n",
      "  18.  79.  13.  87.   7.  46.  59.  58.  21.  14.  38.  45.  12.  44.\n",
      "  22.  61.  24.  39.  57.  98.  73.  35.  86.  51.  34.  67.  48.  11.\n",
      "  71.  28. 145.  78.  29.  31.  74.  56. 100.  36.  54.  53.   5.  26.\n",
      "   2. 299. 279.  72.   8. 259.  65.  nan  75.   1. 105. 110. 102.   4.\n",
      " 155.  49.  17. 108.  27.  99.  20.]\n"
     ]
    }
   ],
   "source": [
    "unique_values = benedict['final_item_price'].unique()\n",
    "print(\"Unique values in 'final_item_price':\", unique_values)"
   ]
  },
  {
   "cell_type": "code",
   "execution_count": 73,
   "metadata": {},
   "outputs": [],
   "source": [
    "# Fill NaN values with the median\n",
    "median_value = benedict['final_item_price'].median()\n",
    "benedict['final_item_price'] = benedict['final_item_price'].fillna(median_value)"
   ]
  },
  {
   "cell_type": "code",
   "execution_count": 74,
   "metadata": {},
   "outputs": [
    {
     "name": "stdout",
     "output_type": "stream",
     "text": [
      "Unique values in 'final_item_price': [ 15.  41.   0.  23.   9.  69.  63.  68.  32.  43.  16.   6.  10.  19.\n",
      "  18.  79.  13.  87.   7.  46.  59.  58.  21.  14.  38.  45.  12.  44.\n",
      "  22.  61.  24.  39.  57.  98.  73.  35.  86.  51.  34.  67.  48.  11.\n",
      "  71.  28. 145.  78.  29.  31.  74.  56. 100.  36.  54.  53.   5.  26.\n",
      "   2. 299. 279.  72.   8. 259.  65.  75.   1. 105. 110. 102.   4. 155.\n",
      "  49.  17. 108.  27.  99.  20.]\n"
     ]
    }
   ],
   "source": [
    "unique_values = benedict['final_item_price'].unique()\n",
    "print(\"Unique values in 'final_item_price':\", unique_values)"
   ]
  },
  {
   "cell_type": "code",
   "execution_count": 75,
   "metadata": {},
   "outputs": [
    {
     "data": {
      "text/plain": [
       "array([nan, 'הרצליה עיר', 'פיתוח וכפ\"ש', 'רעננה'], dtype=object)"
      ]
     },
     "execution_count": 75,
     "metadata": {},
     "output_type": "execute_result"
    }
   ],
   "source": [
    "benedict['customer_region'].unique()"
   ]
  },
  {
   "cell_type": "code",
   "execution_count": 76,
   "metadata": {},
   "outputs": [],
   "source": [
    "benedict['customer_region'] = benedict['customer_region'].fillna('none')"
   ]
  },
  {
   "cell_type": "code",
   "execution_count": 77,
   "metadata": {},
   "outputs": [
    {
     "data": {
      "text/plain": [
       "array(['none', 'הרצליה עיר', 'פיתוח וכפ\"ש', 'רעננה'], dtype=object)"
      ]
     },
     "execution_count": 77,
     "metadata": {},
     "output_type": "execute_result"
    }
   ],
   "source": [
    "benedict['customer_region'].unique()"
   ]
  },
  {
   "cell_type": "code",
   "execution_count": 78,
   "metadata": {},
   "outputs": [],
   "source": [
    "benedict['customer_region'] = benedict['customer_region'].astype('category')"
   ]
  },
  {
   "cell_type": "code",
   "execution_count": 79,
   "metadata": {},
   "outputs": [
    {
     "data": {
      "text/plain": [
       "array(['בר', 'בפנים', 'עמדה צפונית', 'עמדה דרומית', 'חוץ חדש', nan,\n",
       "       'TA | משלוחים', 'עמדת בר', 'עמדה בייקרי'], dtype=object)"
      ]
     },
     "execution_count": 79,
     "metadata": {},
     "output_type": "execute_result"
    }
   ],
   "source": [
    "benedict['workflow_profile_name'].unique()"
   ]
  },
  {
   "cell_type": "code",
   "execution_count": 80,
   "metadata": {},
   "outputs": [],
   "source": [
    "benedict['workflow_profile_name'] = benedict['workflow_profile_name'].fillna('none')"
   ]
  },
  {
   "cell_type": "code",
   "execution_count": 81,
   "metadata": {},
   "outputs": [],
   "source": [
    "benedict['workflow_profile_name'] = benedict['workflow_profile_name'].astype('category')"
   ]
  },
  {
   "cell_type": "code",
   "execution_count": 82,
   "metadata": {},
   "outputs": [
    {
     "data": {
      "text/plain": [
       "array(['WProfile', 'OTCProfile', nan, 'TDProfile', 'BProfile'],\n",
       "      dtype=object)"
      ]
     },
     "execution_count": 82,
     "metadata": {},
     "output_type": "execute_result"
    }
   ],
   "source": [
    "benedict['workflow_profile_type'].unique()"
   ]
  },
  {
   "cell_type": "code",
   "execution_count": 83,
   "metadata": {},
   "outputs": [],
   "source": [
    "benedict['workflow_profile_type'] = benedict['workflow_profile_type'].fillna('none')"
   ]
  },
  {
   "cell_type": "code",
   "execution_count": 84,
   "metadata": {},
   "outputs": [],
   "source": [
    "benedict['workflow_profile_type'] = benedict['workflow_profile_type'].astype('category')"
   ]
  },
  {
   "cell_type": "code",
   "execution_count": 85,
   "metadata": {},
   "outputs": [
    {
     "data": {
      "text/plain": [
       "array(['bar', 'restaurant', nan], dtype=object)"
      ]
     },
     "execution_count": 85,
     "metadata": {},
     "output_type": "execute_result"
    }
   ],
   "source": [
    "benedict['restaurant_table_area'].unique()"
   ]
  },
  {
   "cell_type": "code",
   "execution_count": 86,
   "metadata": {},
   "outputs": [],
   "source": [
    "benedict['restaurant_table_area'] = benedict['restaurant_table_area'].fillna('none')"
   ]
  },
  {
   "cell_type": "code",
   "execution_count": 87,
   "metadata": {},
   "outputs": [],
   "source": [
    "benedict['restaurant_table_area'] = benedict['restaurant_table_area'].astype('category')"
   ]
  },
  {
   "cell_type": "code",
   "execution_count": 88,
   "metadata": {},
   "outputs": [
    {
     "data": {
      "text/plain": [
       "array(['5c5c152d8906156c08681fe6', '5fe19a5c381027c4c3d70b56',\n",
       "       '5c5c15568906156c086822c3', '5db7dbacd5a6a1db8db55363',\n",
       "       '5c5c154f8906156c08682268', '5eae8379af1e062a369baf72',\n",
       "       '62039ee42be1c81b82a45bd5', '5c5c151b8906156c08681e3e',\n",
       "       '5c5c15468906156c086821cc', '5fe19aa91f4e8970d0f915e3',\n",
       "       '5dafdf963c87b5314cfd4e8d', '5c5c15208906156c08681e9d',\n",
       "       '5c5c15438906156c086821a1', '61793f9577cbc36cfd41067b',\n",
       "       '5fc60587bc584ab164771223', '5f4b6977b6d42a4c58b75fe3',\n",
       "       '5c5c156b8906156c08682460', '5e255282c5be9c3a7572fef9',\n",
       "       '61e40572c154156578e1bb44', '629374789547e340ccac9086',\n",
       "       '5c5c15678906156c08682422', '5c5c151b8906156c08681e3c',\n",
       "       '5e987ca964c39c1a94cfe1b4', '5c5c15298906156c08681f72',\n",
       "       '5c5c154f8906156c08682263', '5c5c154b8906156c0868222b',\n",
       "       '629374a925e10fc31be2f8ef', '5c7bf93c5aa87addbe99cb1d',\n",
       "       '5d761fd74b98f4b88b3d6ffe', '5c5c15178906156c08681e03',\n",
       "       '5db7dc45d5a6a184b2b55369', '5c5c15178906156c08681df9',\n",
       "       '63a9c3040555f622894810a4', '5dafdf843c87b55325fd4e8a',\n",
       "       '5c5c152b8906156c08681fb3', '5c5c15288906156c08681f69',\n",
       "       '5c5c156c8906156c08682487', '5eae5babaf1e064d3799dc0b',\n",
       "       '5c5c152d8906156c08681fdf', '5fe19a89fc27305c396f1e30',\n",
       "       '62937446c03f7c0ee7b6fefc', '5e0d833434804439c99c4c7a',\n",
       "       '5c5c15478906156c086821d5', '5c5c151a8906156c08681e2b',\n",
       "       '5c5c15248906156c08681efe', '5e982b5f4293e041f4f807bf',\n",
       "       '5c5c15538906156c08682297', '5c5c151f8906156c08681e7d',\n",
       "       '5d2da955d554d4307f06f15b', '5c5c151f8906156c08681e87',\n",
       "       '5c5c151c8906156c08681e40', '5c5c156a8906156c08682455',\n",
       "       '5c5c152e8906156c08682012', '5c5c15318906156c08682035',\n",
       "       '5c5c15258906156c08681f35', '5c5c15268906156c08681f44',\n",
       "       '5c5c15268906156c08681f42', '5c5c152b8906156c08681fbd',\n",
       "       '5fe19a72a1747b1cb005285d', '62936425923afa9adf3b61e4',\n",
       "       '5c5c154b8906156c08682233', '641ad5ef57d92533eff06165',\n",
       "       '5c5c15308906156c0868202f', '5c5c155e8906156c0868239c',\n",
       "       '5c5c156d8906156c086824a3', '5c5c15248906156c08681ef8',\n",
       "       '5c5c15268906156c08681f48', '5c5c156c8906156c0868248e',\n",
       "       '5c5c15418906156c08682173', '5c5c15228906156c08681ecd',\n",
       "       '5c5c156e8906156c086824b6', '5c5c15438906156c08682199',\n",
       "       '5c5c15448906156c086821ab', '5c5c156a8906156c08682459',\n",
       "       '5c5c15258906156c08681f1d', '629359e2c9252e79fffb1ec8',\n",
       "       '641ae40169329e64c032a79e', '5eae52600c7f98c8cddaaf3f',\n",
       "       '5c5c152a8906156c08681f82', '62935c4c7a2aad6aca60e529',\n",
       "       '5c5c151f8906156c08681e77', '5c5c151d8906156c08681e56',\n",
       "       '5d67804ed36672df8cda3723', '5e983b30f54c965661109a61',\n",
       "       '5eae5c00af1e06716799de0f', '5fe19ad5a1747b72d4052867',\n",
       "       '5c5c154a8906156c08682213', '5c5c152a8906156c08681f96',\n",
       "       '62936e80c9252e9235fb8072', '5c5c15658906156c0868240c',\n",
       "       '63a87786a18d3c34e8493c09', '5c5c15728906156c0868251d',\n",
       "       '63aaa08d1b8ff962b0102e68', '5c5c15538906156c08682299',\n",
       "       '5c5c15398906156c086820ff', '5c5c15708906156c086824dd',\n",
       "       '5c5c152e8906156c08681ffb', '5c5c156f8906156c086824db',\n",
       "       '5c5c15158906156c08681dd8', '5c5c15568906156c086822ce',\n",
       "       '5c5c15258906156c08681f23', '5c5c154b8906156c08682235',\n",
       "       '5c5c151f8906156c08681e6e', '60c27414b9e62be3f1e3535e',\n",
       "       '6410e1b39b813fff8a11f61c', '5c5c15548906156c086822a9',\n",
       "       '5c5c153b8906156c0868211c', '6410edee1599f3bbc39f708b',\n",
       "       '5e983addd8aedc87a8ff6752', '5c5c156b8906156c08682470',\n",
       "       '60e7fd1d724ccaef2d9f6bca', '5db03e9f17f322a4bdf5dcb1',\n",
       "       '5c5c151e8906156c08681e66', '629603fc3dead77ebe9e371d',\n",
       "       '6465c6baba9f8410665a16fe', '5c5c15598906156c0868230e',\n",
       "       '63518d0fa73de17a741acdb9', '5c5c15248906156c08681f10',\n",
       "       '5c5c15408906156c0868215c', '5c5c151e8906156c08681e5c',\n",
       "       '5dafdf393c87b53387fd4e83', '5dafdf50089aba09578baf3a',\n",
       "       '5dafdf6e3c87b54e77fd4e87', '5dafdfb6089aba77308baf3f',\n",
       "       '5c5c153e8906156c08682144', '5c5c152b8906156c08681fa8',\n",
       "       '629369e17a2aadfbb361377c', '5c5c152c8906156c08681fc7',\n",
       "       '6465c654aae91630f8abac96', '5c5c153f8906156c08682148',\n",
       "       '62828d873898466d354c6f2f', '5c5c153a8906156c08682103',\n",
       "       '5ecbb2907d2ff36f755a8134', '5c5c152a8906156c08681fa2',\n",
       "       '5c5c151e8906156c08681e6a', '5c5c15208906156c08681e8d',\n",
       "       '5c5c15168906156c08681de4', '5c5c152e8906156c08682008',\n",
       "       '5c5c15708906156c086824e1', '6410ec209b813f9caf120dc9',\n",
       "       '5e6674957ae7db7c00c4fc5d', '5e983d4cd8aedc81a1ff6c5c',\n",
       "       '5c5c15688906156c0868243f', '6465c677ba9f840eda5a16d3',\n",
       "       '5e9c0452bbc671262beeb000', '5c5c152a8906156c08681f9c',\n",
       "       '5c5c152a8906156c08681f8a', '5c5c152d8906156c08681ff0',\n",
       "       '5c5c15658906156c08682409', '5c5c156b8906156c0868247b',\n",
       "       '5c5c151d8906156c08681e50', '5c5c15168906156c08681ded',\n",
       "       '6410eaf9a8b6f51eb055da41', '5c5c15418906156c0868216e',\n",
       "       '5c5c15388906156c086820ed', '5c5c15388906156c086820ef',\n",
       "       '5d761fe24b98f43e7c3d7000', '5c5c155b8906156c0868233c',\n",
       "       '5c5c15238906156c08681ee3', '5e987c8c64c39c855fcfe125',\n",
       "       '5c5c153e8906156c0868213b', '5c5c15718906156c086824f6',\n",
       "       '5c5c15508906156c08682273', '641ad85d79d9b67ae32c04b5',\n",
       "       '6097bd24a5e4b2ab82b49ee0', '5c5c15748906156c08682535',\n",
       "       '5c5c15298906156c08681f7a', '5c5c15168906156c08681df1',\n",
       "       '5c5c15398906156c086820f7', '5c9b38d3f1f5fe1498574991',\n",
       "       '61c033b0d1acf4229260438d', '641ad3e779d9b6dd012becd4',\n",
       "       '5c5c15438906156c0868219b', '5d2da9844315b65f5510465c',\n",
       "       '5c5c15458906156c086821b9', '5c5c151e8906156c08681e61',\n",
       "       '60c1b463fdae272650720a5d', '641187a894fc8e35598d3ddd',\n",
       "       '6411881bfbf07631a6c580ec', '5c5c15408906156c08682164',\n",
       "       '5c5c151d8906156c08681e54', '5c5c152d8906156c08681ff7',\n",
       "       '5c5c151c8906156c08681e4a', '641184c3bb60aa4c257c7442',\n",
       "       '5ce3a90bb40edd424ce65bf2', '5c5c15468906156c086821c7',\n",
       "       '63ad8226e4c8a7fc3bb76a1a', '6465c6a1ba9f841c935a16f5',\n",
       "       '5f4b6901cc5f756ea93e2cc7', '5d678003dbc28d03e364220f',\n",
       "       '5c5c152a8906156c08681f90', '5c5c15708906156c086824eb',\n",
       "       '5f38d7554a1be083d02f1126', '5c5c151c8906156c08681e46',\n",
       "       '5d67838f01c41633f98829cc', '5e982b7b64c39c2083cf1842',\n",
       "       '5c5c15178906156c08681dff', '5c5c156d8906156c086824ad',\n",
       "       '5db03e8f17f3220533f5dc96', '5db03edec5f4682e42232b07',\n",
       "       '5c5c15188906156c08681e12', '5c5c152d8906156c08681fed',\n",
       "       '5c5c153a8906156c08682101', '5c5c151a8906156c08681e29',\n",
       "       '5d677ff6dbc28d6e8964220d', '5eaea1a6af1e0683719d0a07',\n",
       "       '5c5c15628906156c086823de', '5eb0288bc20497ecbf696fd4',\n",
       "       '5c5c15348906156c08682072', '5c5c152e8906156c0868200f',\n",
       "       '5c5c151a8906156c08681e31', '629364c79547e37305ac17c6',\n",
       "       '6411848f94fc8ee5408d2d75', '5c5c15298906156c08681f76',\n",
       "       '62937211a72e93e382e3013f', '5e1f1c944ecb9d2d86975d40',\n",
       "       '6049e7b35fba9fd8b57f0cc9', '61f2597374e745b915ca7308',\n",
       "       '5e9827cf4293e0cd37f7fb48', '5c5c151d8906156c08681e4c',\n",
       "       '5c5c153b8906156c0868211e', '5e98388664c39c2f9dcf4f0d',\n",
       "       '5ebbd28dc667fca76a823041', '5fe09d1de3ad4226a1a118a0',\n",
       "       '5c5c154f8906156c08682260', '5fdb4b8b3810270f56cc23ba',\n",
       "       '5fe0935ee3ad42a8efa0fca3', '5c5c15418906156c08682178',\n",
       "       '5eae5070c204978f1a6032be', '5d678531d366727701da8cb4',\n",
       "       '5d678722d36672210ada934c', '5fb516dd272cd9cc351075e9',\n",
       "       '5d67873bd366721f03da9353', '5d6780ffd366723d79da3a94',\n",
       "       '5d6780d501c41664fc880b36', '5e982b6e4293e01591f807d7',\n",
       "       '5d678519d366727c93da8c61', '5d6780c3dbc28d27ea642edf',\n",
       "       '5c5c151c8906156c08681e48', '5d677fe301c416095187fc30',\n",
       "       '5c5c15668906156c0868241e', '5c5c15708906156c086824f1',\n",
       "       '5c5c15488906156c086821e7', '5eae5205c2049765e6603c42',\n",
       "       '5f561736901b41a43336082c', '629372d488219e1ce32ba39f',\n",
       "       '5c5c15488906156c086821ec', '5c5c154e8906156c08682259',\n",
       "       '5d7e1a35600b81808ea58aae', '5d7e19e8c086c50523c983ff',\n",
       "       '5eb0295a0c7f987924e3f60b', '5c5c153b8906156c08682118',\n",
       "       '5c5c153b8906156c08682120', '5c5c15528906156c08682287',\n",
       "       '6465c6d5ceb5b9ef9f2651f5', '5c5c154a8906156c08682217',\n",
       "       '5c5c154a8906156c0868221b', '5ed78993fb177143c44a5d5c',\n",
       "       '5e9bfd09d8aedc4fbd03d5d5', '6293605e9547e304c0ac01d8',\n",
       "       '5c5c154a8906156c08682227', '5c5c15178906156c08681e01',\n",
       "       '5c5c153d8906156c08682131', '5c5c15498906156c086821f1',\n",
       "       '5e98294e4293e0406df80288', '6293665b7a2aad25996125ea',\n",
       "       '60588f2f995d8727cc4db938', '5f96c4fd2e1e8f9d5b05c380',\n",
       "       '5c5c151e8906156c08681e5a', '6141e4b22d3efbcca5905dc0',\n",
       "       '62937425c03f7c8933b6fe96', '5c5c15418906156c0868217d',\n",
       "       '5c5c154a8906156c0868221f', '5c5c15498906156c08682205', 'general',\n",
       "       '6141e290ced8bf85df4ce41a', '5c5c15328906156c0868205a',\n",
       "       '5c5c15398906156c086820fa', '6293596483b11d28ea32e8a0',\n",
       "       '61cda62c5fcd7419fba85694', '628269e16462057d351c06b0',\n",
       "       '5c5c152e8906156c08682001', '5c5c153c8906156c08682122',\n",
       "       '629492e4d45c7f03d08c6d5a', '5c5c152c8906156c08681fd7',\n",
       "       '5c5c154e8906156c08682253', '5c5c15418906156c08682169',\n",
       "       '5eaea223c20497d1b76402df', '5c5c154c8906156c08682241',\n",
       "       '6270da6b54fdaa89d782b5c3', '5eaea3770c7f989888de4bbd',\n",
       "       '643bc12b810e8977a03c72c2', '5c5c15198906156c08681e1d',\n",
       "       '5c5c156f8906156c086824d5', '5c5c15548906156c086822ae',\n",
       "       '62bd8baeeb7a11831a6f9b7d', '5e9829244293e075b1f80257',\n",
       "       '5c5c15498906156c086821f6', '5c5c15418906156c08682182',\n",
       "       '5c5c152e8906156c08682019', '617a9b478f97cff18b07a51c',\n",
       "       '5c5c15268906156c08681f40', '5c5c15478906156c086821d7',\n",
       "       '5c5c151b8906156c08681e36', '60d9b022fc64003e6dfe0380',\n",
       "       '5c9b3717fbb0853c01c8a93f', '5eb0278faf1e062245a27042',\n",
       "       '5c5c15318906156c08682042', '5c5c155d8906156c0868236f',\n",
       "       '5c5c155d8906156c08682378', '5c5c15338906156c0868206c',\n",
       "       '5c5c15438906156c08682197', '5c5c153a8906156c08682110',\n",
       "       '5c5c156a8906156c0868245b', '5c5c15498906156c08682200',\n",
       "       '61c032df3a0e7d3f57f5f14c', '5db7dc60382c936151d44153',\n",
       "       '5eae8330c2049762cd6283c2', '5d678548d3667265e3da8cc4',\n",
       "       '5d677f6fd36672692fda36f6', '5d677f78d366723875da36f8',\n",
       "       '5d677f5fd3667201beda36f0', '5e982b9064c39cf6c8cf186e',\n",
       "       '6410ee4e9b813f717f1210bd', '5c5c151d8906156c08681e52',\n",
       "       '61c0334b9b04170e158ba3c7', '5c5c15658906156c08682403',\n",
       "       '5e9c0527f2974d520fd8adf8', '5c5c15288906156c08681f5b',\n",
       "       '5c5c15258906156c08681f3c', '5c5c151a8906156c08681e2d',\n",
       "       '5eaea3160c7f98dbfcde4b27', '5ea51c27fc0a3123ef3258e7',\n",
       "       '5eae93a50c7f984a22dd6012', '5c5c15208906156c08681ea4',\n",
       "       '5c5c151b8906156c08681e33', '60e03c57812bd480e002c13a',\n",
       "       '5eae8303af1e0638e09ba458', '5e36c9c52f2d101f11fcbfb5',\n",
       "       '5c5c153b8906156c08682114', '5c5c152d8906156c08681ff4',\n",
       "       '5c5c15488906156c086821e5', '5c5c15658906156c0868240e',\n",
       "       '5eb0298dc204971dd06973a7', '5d776f1c600b81d82a974890',\n",
       "       '5c9b3797fbb0855d52c8aa44', '5c5c15318906156c08682039',\n",
       "       '5c5c15558906156c086822b5', '5c5c15528906156c08682295',\n",
       "       '5c5c15728906156c0868251b', '5fba39afba19180bdf92c288',\n",
       "       '5ead9e170c7f98c072d5c1e5', '5e983de264c39cfd26cf5a2a',\n",
       "       '5e982b84d8aedc786fff2d04', '5e98389664c39c675ecf502b',\n",
       "       '620df9335f3ae233960a5013', '5c5c155b8906156c08682342',\n",
       "       '60d417f62cdf52793a005e2a', '5c5c154a8906156c08682223',\n",
       "       '5c5c153d8906156c08682139', '5c5c15268906156c08681f3e',\n",
       "       '5c7bf6e3aebc958ffc9539f6', '5c5c151a8906156c08681e2f',\n",
       "       '5eae5bd0c20497261c608856', '5eb0276e0c7f9833bee3e5f7',\n",
       "       '5c5c155f8906156c086823a2', '62c2d82672fcff772c0fa939',\n",
       "       '601952c17eccba3bc91e68b6', '5db7dbd9d5a6a1e5f5b55365',\n",
       "       '5ecbb5cbaf870c96a975a6f6', '5c5c153b8906156c08682116',\n",
       "       '5c5c154f8906156c0868226d', '629602687fd76282ae343e32',\n",
       "       '5c5c154b8906156c0868222f', '5c5c15458906156c086821b5',\n",
       "       '5c5c15558906156c086822b9', '5c5c155b8906156c08682339',\n",
       "       '5c5c155e8906156c08682393', '5c5c15358906156c086820ad',\n",
       "       '5eaea1efc20497190d6401af', '5c5c153a8906156c08682112',\n",
       "       '5c5c151b8906156c08681e3a', '61c0327dfa6d8c9be61f9571',\n",
       "       '5c5c15188906156c08681e0a', '5d5da89436b59183feaa164a',\n",
       "       '5c5c15278906156c08681f4e', '5fe0931238102739bad57481',\n",
       "       '5d6781dddbc28d5cbf64347b', '5fe09d78fc273038066dac3d',\n",
       "       '5c5c15368906156c086820b3', '5d677fecdbc28dc89064220b',\n",
       "       '5c5c15218906156c08681ebe', '5c5c15378906156c086820c5',\n",
       "       '61938cf83a8eac2caebe882f', '62c28788c4ae679dc16a2e32',\n",
       "       '5e3269ae7bb17c4ec8df28cc', '648970e2de11c10a0d88ee84',\n",
       "       '5c5c155c8906156c08682360', '5c5c15288906156c08681f60',\n",
       "       '6464867d0c21af109927a050', '648970bb140a7660da94a123',\n",
       "       '647f26e4517c8663cd3c0f5a', '6464865b4c1931f8d71b12a5',\n",
       "       '5fd9dfb9490a6f521f8ddd75', '60e6acd4a2060579484d5023',\n",
       "       '5c5c15428906156c08682187', '609cc1169e90570a61d668b8',\n",
       "       '5fe42ff162417d3cd2f5b5eb', '5c5c153d8906156c0868212f',\n",
       "       '5c5c152c8906156c08681fd3', '62c28cf64719aa3e5e2d2c20',\n",
       "       '648aef29c2216cf0bab8be24', '6244384a5fdd77ad2c7ca8fb',\n",
       "       '5c5c15268906156c08681f46', '5c5c15368906156c086820b9',\n",
       "       '64589a8890b509126955d9f5', '5eb028a50c7f98ad0ce3f309',\n",
       "       '5eaea24caf1e06ba919d0ede', '5f39eb7ec2c52734b1c53e80',\n",
       "       '63c0536cc61b26b4af5e0f2c', '647f27a430319c711036a4fe',\n",
       "       '5c5c153c8906156c0868212b', '5eae823c0c7f98c151dc9514',\n",
       "       '5fbf94c08248e8bc4d6c9ba8', '6282687a3898461fb44bbc07',\n",
       "       '6282619fa258d73b14a8f2b6', '5c5c15498906156c0868220a',\n",
       "       '647f2719517c8614663c0fe5', '62826239d341632b9024bf54',\n",
       "       '5fbf93ed3701ac1603ae126e', '5c5c153d8906156c08682133', nan],\n",
       "      dtype=object)"
      ]
     },
     "execution_count": 88,
     "metadata": {},
     "output_type": "execute_result"
    }
   ],
   "source": [
    "benedict['item_id'].unique()"
   ]
  },
  {
   "cell_type": "code",
   "execution_count": 89,
   "metadata": {},
   "outputs": [],
   "source": [
    "benedict['item_id'] = benedict['item_id'].fillna('unknown')"
   ]
  },
  {
   "cell_type": "code",
   "execution_count": 90,
   "metadata": {},
   "outputs": [
    {
     "data": {
      "text/plain": [
       "array(['5c5c15c78906156c086828ad', '619b9faf82d9b4febd5b2dd2',\n",
       "       '5db7dbacb573995ba60133db', '5c5c16088906156c08682b4e',\n",
       "       '5eae8379c20497805f628dbd', '62039ee63c24aeac34e164e4',\n",
       "       '5c5c15858906156c0868259f', '5c5c15838906156c0868257f',\n",
       "       '6293747b7c740139bc276053', '5c5c162e8906156c08682cdc',\n",
       "       '5c5c15c28906156c0868287d', '5c5c15ff8906156c08682ad6',\n",
       "       '629374acc8a5842732b3cd05', '5c7bf93c24daa9995f00cebd',\n",
       "       '5c5c15ae8906156c086827b1', '5db7dc45b573990ad50133e7',\n",
       "       '5c5c15ad8906156c086827ab', '63a9c3058055d003e4d77ce4',\n",
       "       '5c5c15c58906156c08682897', '5c5c15c18906156c08682877',\n",
       "       '641ae28f57d9256c22f07abf', '5c5c15c78906156c086828ab',\n",
       "       '62937448c8a58481fbb3cc22', '5c5c15858906156c0868259b',\n",
       "       '5c5c15b28906156c086827d2', '5c5c15878906156c086825bc',\n",
       "       '641ad9217fe127baf9f7c717', '641ad77279d9b635c32c0407',\n",
       "       '5c5c15ae8906156c086827af', '5c5c15c98906156c086828bf',\n",
       "       '5c5c15cc8906156c086828d9', '619b9f002245d331855b29a8',\n",
       "       '5c5c15c58906156c0868289b', '62936427923afa146b3b61e9',\n",
       "       '5c5c15fa8906156c08682aa7', '641ad5f079d9b677102c009f',\n",
       "       '5c5c15cc8906156c086828d3', '5c5c16228906156c08682c66',\n",
       "       '5c5c158e8906156c08682615', '619ba17a66b9332e029dced6',\n",
       "       '5c5c15be8906156c0868285d', '5c5c158a8906156c086825da',\n",
       "       '5c5c15868906156c086825b3', '5c5c15838906156c08682573',\n",
       "       '5fc6058869f80b310c8beb4b', '5c5c15888906156c086825c6',\n",
       "       '629359e483b11d2f4632e975', '5e622d187622af1c6ac0694f',\n",
       "       '5c5c15c38906156c08682885', '62935c4e9547e37dddabf4f7',\n",
       "       '641ae3247fe1273092f7dd9c', '5c5c15c48906156c0868288d',\n",
       "       '6293706d2b2e79fe2ff9ac01', '5c5c162d8906156c08682cce',\n",
       "       '63a877873bed79117fd55a19', '63aaa08f950f4978d44a8b84',\n",
       "       '5c5c15da8906156c0868295b', '5c5c15948906156c08682659',\n",
       "       '5c5c15c88906156c086828b7', '5c5c15b98906156c0868281c',\n",
       "       '5c5c15b88906156c08682814', '5c5c15938906156c08682656',\n",
       "       '5c5c15ac8906156c086827a3', '619b9e042245d37c455b2977',\n",
       "       '5c5c15b88906156c08682810', '5c5c15848906156c0868258b',\n",
       "       '60c274152423e88cc63a8934', '5c5c158d8906156c08682605',\n",
       "       '6429e793c6ab8bf776f61e63', '5d6780dfdbc28d31d0642ee5',\n",
       "       '62936e82c03f7c8805b6c00e', '5c5c15dd8906156c08682973',\n",
       "       '6410edf0a8b6f5697e55de94', '619ba2422245d35d1e5b4c45',\n",
       "       '5e983ade64c39c7755cf5472', '641ae3d67fe1271fa9f7de98',\n",
       "       '60e7fd1e8eb6cffe66905fcd', '5c5c15b88906156c08682806',\n",
       "       '6465c6c0ceb5b9355a2651bd', '5c5c15888906156c086825c8',\n",
       "       '63518d1160a7260492f467f4', '5c5c15878906156c086825c2',\n",
       "       '5c5c15e98906156c086829f9', '5c5c15b78906156c08682802',\n",
       "       '5c5c15c48906156c08682893', '5c5c15898906156c086825ce',\n",
       "       '5c5c15848906156c08682587', '62936cff9547e30872ac4296',\n",
       "       '5c5c15c68906156c0868289f', '6465c658aae916d6aeabacca',\n",
       "       '62828d8a0bf028106b38cf7a', '5c5c15db8906156c08682961',\n",
       "       '629369e388219ec1ee2b2e43', '5ecbb2902b37e676cbe8015b',\n",
       "       '5c5c15c48906156c08682891', '5c5c15838906156c08682577',\n",
       "       '641ae7ca7fe12734a0f7e62e', '5c5c15818906156c08682567',\n",
       "       '5c5c15c98906156c086828bb', '5c5c15948906156c0868265f',\n",
       "       '6410ec229b813f492f120dcb', '5c5c16328906156c08682d04',\n",
       "       '6465c67eaae916b15cabace6', '5c5c15b98906156c08682820',\n",
       "       '5c5c15c48906156c0868288f', '5c5c15c38906156c08682889',\n",
       "       '5c5c15c88906156c086828b1', '5c5c162c8906156c08682ccc',\n",
       "       '5c5c15858906156c08682593', '5c5c15818906156c08682569',\n",
       "       '6410eafa9b813f4690120ae3', '60c1b4641bf0cfb0a5226c81',\n",
       "       '5c5c161d8906156c08682c3c', '5c5c15bc8906156c0868284c',\n",
       "       '5c5c15e08906156c08682990', '5c5c15958906156c0868266e',\n",
       "       '5c5c16098906156c08682b58', '5e622d74a02281dcc215790f',\n",
       "       '641ad85f57d9257128f065c2', '6097bd25087c30aba223cd6b',\n",
       "       '5c5c15c28906156c08682881', '5c5c15828906156c0868256b',\n",
       "       '5c5c15d98906156c08682955', '5c9b38d4fbb085550dc8b636',\n",
       "       '61c033b3fa6d8c1a971f9c61', '641ad3e979d9b6514b2becd6',\n",
       "       '5c5c159a8906156c086826b2', '5c5c15b78906156c08682804',\n",
       "       '5c5c15bd8906156c08682859', '5c5c15c88906156c086828b5',\n",
       "       '6410e1b4a8b6f5422755c8ae', '5c5c158c8906156c086825f6',\n",
       "       '619ba0502245d3304e5b47b0', '63ad8227e4c8a7fd94b76a41',\n",
       "       '6465c6a3aae916c2bcabad20', '5d67800301c41659dc87fc36',\n",
       "       '5c5c15c38906156c0868288b', '6465c6ddceb5b917d4265211',\n",
       "       '5c5c15958906156c08682666', '5d6780f4dbc28dcff5642ee8',\n",
       "       '641ae2c069329e3fe232a605', '5f38d755632cd769f41a80fd',\n",
       "       '5c5c162e8906156c08682cda', '5d67839001c416793c8829ce',\n",
       "       '5c5c15828906156c0868256f', '5c5c15908906156c08682628',\n",
       "       '5c5c15af8906156c086827b9', '5c5c15c78906156c086828af',\n",
       "       '5c5c15da8906156c0868295f', '5c5c15a18906156c0868271f',\n",
       "       '5d677ff701c41650ac87fc34', '5eaea1a90c7f9810c8de3aef',\n",
       "       '5c5c16298906156c08682cae', '5eb0288b0c7f9817cde3f2d3',\n",
       "       '5c5c15d08906156c086828fd', '5c5c15c98906156c086828bd',\n",
       "       '5c5c15b28906156c086827d8', '629364cd7a2aad416b6117cc',\n",
       "       '641184929d1fb10911a21456', '5c5c16138906156c08682bcb',\n",
       "       '5c5c15c28906156c0868287f', '62937213bbce3eb3b515f123',\n",
       "       '5d678119d366725fccda3aa3', '5d678184d366725e4ada4c18',\n",
       "       '6049e7b608560c1020ccc65e', '61f2597574e7453a00ca730a',\n",
       "       '5e9827cfd8aedc86c0ff221d', '5c5c15dd8906156c08682975',\n",
       "       '5e983888d8aedc50f3ff631e', '5ebbd2915bb74d37ff70198b',\n",
       "       '5c5c15ff8906156c08682ad3', '5d67810ed3667241d1da3a9c',\n",
       "       '5d678531dbc28d113f645867', '5d678156d366720fffda3e7b',\n",
       "       '5d67872201c4166fac88378c', '5fb516de272cd9d4631075ef',\n",
       "       '5d6780b9d36672c037da3a58', '5c5c158c8906156c086825fd',\n",
       "       '5d67873bdbc28d0e55645c2a', '5d6780ffdbc28d45bb642eeb',\n",
       "       '5d6780d5d36672ead5da3a60', '5d67851ad366728383da8c63',\n",
       "       '5d6780c301c4166626880b34', '5d677fe3d366720612da3701',\n",
       "       '5c5c15958906156c0868266a', '629372dac03f7c2c0eb6e9d9',\n",
       "       '5c5c15fe8906156c08682acd', '5eb0295e0c7f987c6ee3f60d',\n",
       "       '6141e291ced8bfa8494ce41c', '5c5c160c8906156c08682b76',\n",
       "       '5c5c15dd8906156c08682977', '6141e4b399623d6126ba2761',\n",
       "       '5ed7899371935325ec0761fb', '62936064c9252e0511fb3cf2',\n",
       "       '5e983b30d8aedc28fcff6876', '5c5c15ed8906156c08682a21',\n",
       "       '5c5c15828906156c08682571', '5c5c15e08906156c08682987',\n",
       "       '5f4b6902e396124ce45a18e8', '619b9f64c6a7c7ebb81b7a36',\n",
       "       '60588fc0a69465edabfaec56', '6293665d9547e35d53ac1c8c',\n",
       "       '5c5c15d58906156c08682925', '62937428c9252e21f0fbc179', 'general',\n",
       "       '5c5c15cf8906156c086828ed', '5c5c15da8906156c08682957',\n",
       "       '6293596688219ef6df2ae258', '61cda62e8bb7147f088ad45d',\n",
       "       '628269e61ecea71850a717ed', '5c5c15c98906156c086828b9',\n",
       "       '619ba33f96d18d1ff84627ef', '5c5c15918906156c08682631',\n",
       "       '5c5c15dd8906156c08682979', '5eaea2230c7f98cffbde3e95',\n",
       "       '5f4b697ab6d42a90deb75fe5', 'item', '6270da6efbb6645e4bbdc040',\n",
       "       '5eaea37a0c7f987992de4bdf', '5c5c15938906156c08682650',\n",
       "       '5c5c16108906156c08682ba2', '5c5c15b08906156c086827c4',\n",
       "       '5c5c15b38906156c086827e2', '5eb0295eaf1e06ce7aa275a6',\n",
       "       '5c5c15ca8906156c086828c1', '617a9b4bd97ae05999ed7f30',\n",
       "       '641187aabb60aa18cb7c7c76', '5c5c15898906156c086825d4',\n",
       "       '5c5c160d8906156c08682b87', '6411881c94fc8e51828d3ef8',\n",
       "       '5c5c15f38906156c08682a4f', '5c5c15b38906156c086827dc',\n",
       "       '5c5c15e18906156c08682992', '5c5c159a8906156c086826b0',\n",
       "       '60d9b0236b4f0a68abaa1e3e', '629492e83fe4fccbe756a0cb',\n",
       "       '5c5c15dc8906156c0868296f', '5c9b37173b99e2fdac57dd79',\n",
       "       '5f97d6b3ee8064b02a5fef85', '5c5c15cd8906156c086828e3',\n",
       "       '5c5c161f8906156c08682c52', '5c5c16208906156c08682c56',\n",
       "       '5c5c15d08906156c086828f9', '5c5c15ec8906156c08682a17',\n",
       "       '5c5c15d58906156c08682921', '5c5c15db8906156c08682967',\n",
       "       '5c5c15c78906156c086828a7', '5c5c15838906156c08682575',\n",
       "       '61c032e23a0e7d087cf5f14e', '5db7dc60d5a6a198a9b55374',\n",
       "       '5eae8337af1e066c6f9badab', '5d67854801c4165e978831ad',\n",
       "       '5d677f6f01c41689b787fc25', '5d677f78dbc28d6d98642206',\n",
       "       '5d677f5f01c4161eb987fc23', '5e1f1c944ecb9da474975d42',\n",
       "       '6410ee50a8b6f53edd55dee4', '61c0335405bbab280868106d',\n",
       "       '5c5c162c8906156c08682cc8', '5e9c0527bbc671d9cbeec126',\n",
       "       '5c5c15c08906156c0868286d', '5c5c159c8906156c086826d6',\n",
       "       '5c5c15898906156c086825d0', '5c5c159b8906156c086826ca',\n",
       "       '5e983d4cf54c96c5da109d9e', '635fa3c0030355bde7cb4c0f',\n",
       "       '5eaea319c204972074640eaa', '5c5c15a38906156c0868273d',\n",
       "       '5c5c159e8906156c086826f5', '5ea51c27609a1918b2343bed',\n",
       "       '5c5c159e8906156c086826ef', '5eae93a80c7f98859ddd601d',\n",
       "       '5c5c16038906156c08682b0e', '610ba67e467b20837ed11e02',\n",
       "       '5c5c15a48906156c08682749', '5d21b91ed554d4cd55ea1b20',\n",
       "       '5e6227453f0bf46577a4d85b', '5e982b5fd8aedca474ff2ce6',\n",
       "       '5c5c15b38906156c086827da', '5eae8304c204978698628141',\n",
       "       '5e36c9c57bb17c0357f40614', '5c5c159e8906156c086826f2',\n",
       "       '5c5c15dc8906156c0868296b', '5c5c15c88906156c086828b3',\n",
       "       '5c5c158c8906156c086825f8', '5c5c162d8906156c08682cd0',\n",
       "       '647a17330fa3f8c603d63b00', '5c5c16118906156c08682bb9',\n",
       "       '5eb029920c7f98cb9be3f8bd', '5d67804e01c416f0bf8803ae',\n",
       "       '5c9b3797fbb0850580c8aa46', '5c5c15cd8906156c086828dd',\n",
       "       '5c5c15f18906156c08682a43', '62a9d98b86c4ce58c9043657',\n",
       "       '5d67816301c416c7df880e63', '630201abadc4f689c5dfb0f8',\n",
       "       '5c5c160d8906156c08682b85', '5fba39b0edaaba45f045554d',\n",
       "       '5ead9e18c2049732fd5b337f', '5e983de3f54c963c03109efc',\n",
       "       '5e98294ed8aedc5e37ff2633', '5c5c15a28906156c08682729',\n",
       "       '5e983896f54c96ab001093ec', '5c5c15988906156c0868269c',\n",
       "       '5c5c15a68906156c08682761', '5c5c15a78906156c0868276d',\n",
       "       '5c5c15a48906156c08682747', '5ce4d7643024146bc8321f70',\n",
       "       '5c5c159c8906156c086826d9', '63691baaa04f740aa66df2f3',\n",
       "       '620df9385f3ae2aad20a5021', '5c5c161d8906156c08682c3e',\n",
       "       '60d417f793aef347a97c57c2', '62cbe342ee49e9a33f6e306a',\n",
       "       '5c5c15ea8906156c086829ff', '632828af7f8ad01518929719',\n",
       "       '5d21b6954315b61e7af184b8', '5c5c15a08906156c08682715',\n",
       "       '5c5c15a28906156c08682731', '5c5c15898906156c086825d2',\n",
       "       '5c7bf6e324daa9c41900ccd1', '5c5c15b58906156c086827ee',\n",
       "       '5c5c15b28906156c086827d6', '5f97d6a72e1e8f1a2d0773e9',\n",
       "       '5c5c16248906156c08682c7c', '5c5c159f8906156c08682705',\n",
       "       '62cbe2135fbfff5d7127e515', '62c459c20aa053a93b731028',\n",
       "       '5db7dbd9b5739954060133dd', '5c5c15a28906156c0868272f',\n",
       "       '5ecbb5ce7d2ff34c8a5a8d31', '5d21b9564315b674f3f1864d',\n",
       "       '5c5c15dc8906156c0868296d', '61e405773c17378fa56b0267',\n",
       "       '5c5c16128906156c08682bc5', '5eae93a8af1e061afe9c7291',\n",
       "       '5c5c15f68906156c08682a85', '5c5c15ea8906156c08682a01',\n",
       "       '641184c494fc8e91308d2e21', '5c5c161c8906156c08682c3a',\n",
       "       '5c5c15a28906156c0868272d', '5c5c15ed8906156c08682a1b',\n",
       "       '5c5c16218906156c08682c62', '5c5c15a28906156c08682727',\n",
       "       '5eaea1f20c7f98d32ade3d3e', '5c5c15db8906156c08682969',\n",
       "       '61c032803a0e7dfa54f5d676', '5c5c15b28906156c086827d4',\n",
       "       '5c5c15ae8906156c086827b5', '5d5da89529b34f4f270ea7a5',\n",
       "       '5c5c15bf8906156c08682863', '5f97d5224ab7ad7d20b1ec00',\n",
       "       '5d6781dd01c4160fef880f47', '5c5c158a8906156c086825d6',\n",
       "       '5c5c15d38906156c08682917', '5d677fed01c416777387fc32',\n",
       "       '62b9a7368e89407d7e1682cb', '5c5c158c8906156c086825fa',\n",
       "       '610ba30664a7753a575fd1ea', '5c5c15a38906156c08682733',\n",
       "       '62c287a63a29ffc865d40e9d', '5e3269aef3ecad8031354750',\n",
       "       '5c5c161f8906156c08682c4c', '5c5c15c08906156c08682871',\n",
       "       '6464867f2ad43ad44ff358f0', '5c5c15a38906156c08682737',\n",
       "       '647f26e630319c1a9b36a3d3', '6464865d4c193116991b12ac',\n",
       "       '5fd9dfbaa1747bbec6f70965', '60e6acd45b36337c38d986b7',\n",
       "       '64579dfac691a2a9f64d4a31', '5fe42ff1ded03b664bb0d17d',\n",
       "       '5c5c15df8906156c08682985', '5c5c15c68906156c086828a3',\n",
       "       '5c5c158a8906156c086825d8', '62c28d115dcb05e054584ba0',\n",
       "       '648aef2cc2216cc57fb8be2e', '5c5c15d48906156c0868291d',\n",
       "       '647f2b8ed4131664bc6c96c1', '5eb028a60c7f98da70e3f30b',\n",
       "       '5eaea24faf1e0604ba9d0ee4', '5c5c15a48906156c0868274b',\n",
       "       '5d6ca9256b5b796a050c9459', '6301efd5adc4f6da66df0614',\n",
       "       '63c0536dbf455cfaaed0b893', '647f27a730319c65de36a50a',\n",
       "       '5c5c15df8906156c08682981', '5eae823faf1e0603bc9b91e8',\n",
       "       '648970e4140a7642f494a1b9', '5fbf94c03701ac6be8ae1b03',\n",
       "       '648970bcd79a234bf6168e98', '628268803898461eaf4bbc1a',\n",
       "       '628261a1a258d730baa8f2b8', '5eae52050c7f987283daad27',\n",
       "       '5d6cacbe01c4161947930093', '5eaea3190c7f9867d5de4b2c',\n",
       "       '647f271b517c8654a53c0fee', '6282623b38984639fe4b9baf',\n",
       "       '5fbf93eeb78b6462b1baf0f5', '62cbd78aee49e9717b6dedbe',\n",
       "       '5c5c15e08906156c08682989', nan], dtype=object)"
      ]
     },
     "execution_count": 90,
     "metadata": {},
     "output_type": "execute_result"
    }
   ],
   "source": [
    "benedict['ordered_item_id'].unique()"
   ]
  },
  {
   "cell_type": "code",
   "execution_count": 91,
   "metadata": {},
   "outputs": [],
   "source": [
    "benedict['ordered_item_id'] = benedict['ordered_item_id'].fillna('unknown')"
   ]
  },
  {
   "cell_type": "code",
   "execution_count": 92,
   "metadata": {},
   "outputs": [
    {
     "data": {
      "text/plain": [
       "array(['item', 'general', nan], dtype=object)"
      ]
     },
     "execution_count": 92,
     "metadata": {},
     "output_type": "execute_result"
    }
   ],
   "source": [
    "benedict['item_type'].unique()"
   ]
  },
  {
   "cell_type": "code",
   "execution_count": 93,
   "metadata": {},
   "outputs": [],
   "source": [
    "benedict['item_type'] = benedict['item_type'].fillna('unknown')"
   ]
  },
  {
   "cell_type": "code",
   "execution_count": 94,
   "metadata": {},
   "outputs": [],
   "source": [
    "benedict['item_type'] = benedict['item_type'].astype('category')"
   ]
  },
  {
   "cell_type": "code",
   "execution_count": 95,
   "metadata": {},
   "outputs": [
    {
     "data": {
      "text/plain": [
       "array(['6477bb3e77ff6b0907a40459', '6477bb3e77ff6b0907a4045a',\n",
       "       '6477a2656966d4f3007c3e50', ..., '648c3e1f601195c91f728283',\n",
       "       '648cbd7e28566f7304d63d9c', '648c2e17b5b9abbd19b7b594'],\n",
       "      dtype=object)"
      ]
     },
     "execution_count": 95,
     "metadata": {},
     "output_type": "execute_result"
    }
   ],
   "source": [
    "benedict['ordered_offer_id'].unique()"
   ]
  },
  {
   "cell_type": "code",
   "execution_count": 96,
   "metadata": {},
   "outputs": [],
   "source": [
    "benedict['ordered_offer_id'] = benedict['ordered_offer_id'].fillna('unknown')"
   ]
  },
  {
   "cell_type": "code",
   "execution_count": 97,
   "metadata": {},
   "outputs": [
    {
     "data": {
      "text/plain": [
       "array(['הפוך גדול', 'מיני פנקייק קינדר.', 'ריפיל ר. קינדר', 'כוס קאווה',\n",
       "       'אספרסו קצר', \"בייקון צ'דר פנקייק\", 'ב. סלט ירוק',\n",
       "       'שקשוקה לפי הספר', 'ללא תוספות', 'ב. סלט שוק', 'אגז בנדיקט בייקון',\n",
       "       'ללא תוספת', \"מימוזה פרנץ' 75\", 'כרובית קיסר', 'תפוזים',\n",
       "       'ביצה לבחירה', 'ביצים עלומות לבחירה', 'מימוזה רד', 'בייגל אמריקאי',\n",
       "       \"צ'יפס\", 'ריפיל לבן מומס', 'תרד בשמנת', 'בוקר טקסס', 'שוקו קר',\n",
       "       'פרוסקו קאווה', 'בראנץ בורגר', 'הפוך', 'מימוזה קולדה', \"ב. צ'יפס\",\n",
       "       'בומ. גבינת שמנת', 'פנקייק אוכמניות ושוקולד לבן',\n",
       "       'בומצית בננות חתוכות', 'קרוק מאדאם', 'אבוקדו בייגל ברקפסט',\n",
       "       'קרעי תפוח אדמה', 'שוקו חם', 'בלאדי מארי', 'מיני פנקייק בננות.',\n",
       "       'קפה קר', 'אומלט שרימפס', 'אפרול קאריבי', 'בוקר קיסר נייט',\n",
       "       'בנדיקט סמאש', 'אפרול שפריץ', 'פרללה', 'פנקייק רגיל.',\n",
       "       '1/3 טובורג', 'תה', 'עין ישראלי', 'ישראלי נייט', 'סלסלת לחמים',\n",
       "       'מיני פנקייק רגיל', 'בוקר חלומי', 'עלי רוקט',\n",
       "       'ת. חצילים וגבינת פטה', 'לימונדה', 'סטייק&אגז', 'פילי סטייל',\n",
       "       'סלט ירוק', 'אומלט לבחירה', 'זירו',\n",
       "       'מיני פנקייק בייגלה וקרמל מלוח.', 'תפוח', 'אבוקדו טוסט טבעוני',\n",
       "       'לקט פטריות', 'חצי לימון', 'בריוש ממולא שוקולד', 'אמריקנו',\n",
       "       'בריוש ממולא שקדים', 'מגדל בבל', 'ת. קרעי תפוח אדמה',\n",
       "       'מיני אוכמניות ושוקולד לבן.', 'ללא סלט', 'אגז בנדיקט פלורנטין',\n",
       "       'בוקר סקנדינבי', 'מיני פנקייק קינדר', 'סלט מקסיקני', 'בייגל סלמון',\n",
       "       'מיני פנקייק בייגלה וקרמל מלוח', 'תוס. חלב קר', 'כוס לימניונה',\n",
       "       'פנקייק אוכמניות ושוקולד לבן.', 'אגז בנדיקט רויאל',\n",
       "       'לימונדה ורודה', 'אג בולז תרד וגבינת עיזים', 'בנדיקט קפרזה',\n",
       "       'מיני אוכמניות ושוקולד לבן', '1/3 אסטרייה', 'פנקייק בננות',\n",
       "       'תפוגזר', 'בוקר יווני', 'מים מינרלים', 'מיני פנקייק בננות',\n",
       "       'מיני פנקייק פיסטוק ושוקולד לבן.', 'אמריקנו קר',\n",
       "       'בנדיקט לונדון קלאסי', 'בקבוק שקמה', 'הערה לבר',\n",
       "       'מיני פנקייק פיסטוק ושוקולד לבן', 'בייקון 50 גרם', 'ספרייט זירו',\n",
       "       'אג בולז ערמונים', 'בוקר אנגלי', 'לביבות', 'נס על חלב',\n",
       "       'אגז בנדיקט אבוקדו', 'בקבוק שאבלי', 'מיץ סחוט',\n",
       "       'בנדיקט קווין סלמון', 'ספרייט', 'קולה', 'אספרסו כפול',\n",
       "       'סלק גזר גינגר', 'אגז בנדיקט טלה', 'ת. תרד בשמנת', 'סלמון מעושן',\n",
       "       'כוס רוזה', 'מקושקשת ישראלי', \"ג'וני ווקר בלאק\", \"פרנץ' טוסט\",\n",
       "       'שרקוטרי עגל', 'מיני פנקייק לוטוס', 'קרואסון חמאה',\n",
       "       'אבוקדו טוסט נייט', 'קממבר', 'גזר', 'שרקוטרי פרנקפורטר',\n",
       "       'אספרסו ארוך', 'שקית קפה', \"כוס פינו גריג'יו\",\n",
       "       'סלסלת לחמים ישראלית', 'בוקר קיסר', 'ישראלי קלאסי פיילוט',\n",
       "       'פנקייק רגיל', 'אומלט ישראלי', 'מקיאטו כפול', 'ללא ריפיל',\n",
       "       'בומציות ללא תשלום', 'מיני פנקייק רגיל.', \"ג'ינג'ר - למון - האני\",\n",
       "       'בומצית קוקוס קלוי', 'בנדיקט ים תיכוני', 'דיאט קולה',\n",
       "       'בנדיקט מקסיקני', 'סלמון בייגל ברקפסט', 'פרללה גדול', 'קינג סלמון',\n",
       "       'ת. סלמון מעושן', 'מיני פנקייקס קינדר', 'רוטב שוקולד לבן',\n",
       "       'רוטב חלב ממותק', 'ת. גבינת פטה', 'בייקון 100 גרם', 'בודהה בול',\n",
       "       '3 ביצים לבחירה', 'הערה למטבח', 'פררלה', 'פריט מטבח', 'גורדון',\n",
       "       'ת. בייקון', 'קפה שחור', 'לחמנייה ללא גלוטן', 'אומלט פלורנטין',\n",
       "       'ריפיל ישראלי', 'תפוזים סחוט בקבוק',\n",
       "       'מיני פנקייקס פיסטוק ושוקולד לבן', 'שקשוקה טבעונית',\n",
       "       'כרטיס ברכה בנדיקט', 'תוס. חלב חם', 'רושטי',\n",
       "       'בנדיקט פיקניק - סלסלה רב פעמית ומפה', '2 ביצים לבחירה',\n",
       "       'סכו\"ם וצלחות', 'עין הפוכה ישראלי', 'ת. טלה', 'מיני פנקייקס רגיל',\n",
       "       'בריוש שוקולד ונוטלה', 'פיקניק BOX ושושנות בריוש', 'בריוש שקדים',\n",
       "       'רוטב גנאש שוקולד לבן', 'מיני פנקייקס אוכמניות ושוקולד לבן',\n",
       "       \"בראנץ' בורגר\", 'צלוחית קצפת', 'ת. גאודה', 'ת. ביצה',\n",
       "       'בוקר לקטנטנים', 'מקושקשת ילדים', 'ת. נקניקיית עגל',\n",
       "       'סלט שוק בלי בצל', 'מיני פנקייקס בייגלה וקרמל מלוח', 'אומלט ילדים',\n",
       "       'תוספות לביצה בנפרד', 'עוגת גבינה', 'תוס. תמצית אספרסו',\n",
       "       'שקשוקה יו אג', 'מקושקשת לבחירה', 'עין לבחירה', 'סלט קצוץ',\n",
       "       'אגז בנדיקט שרימפס', 'טחינה רגילה', 'ביצים קשות לבחירה',\n",
       "       'טלה 100 גרם', 'טחינה בתשלום', 'סלט שוק', 'מיני פנקייק לוטוס.',\n",
       "       'ת. חלומי', 'עין ילדים', 'בנדיקט פיקניק BOX',\n",
       "       'פריטטה בטטה תרד וגבינות', '[shop] קיט BOX', 'מפה משובצת',\n",
       "       'הולנדייז', 'מימוזה קלאסית', 'ביצים עלומות ישראלי',\n",
       "       'עין הפוכה לבחירה', 'ביצים קשות ילדים',\n",
       "       'פריט זיכוי - חביתה חוייבה פעמיים', 'קלאסי טבעוני', \"צ'ייסר קמפרי\",\n",
       "       'מקיאטו ארוך', 'עוגת גבינה וריבת אוכמניות', 'ביצה יו אג',\n",
       "       'עוגת גבינה לוטוס', 'נס קפה', 'פנקייק בננות.', 'ב. אבוקדו',\n",
       "       'עוד על האש', 'מימוזה ישראלי', 'לימונענע', 'אומלט חלבון ישראלי',\n",
       "       'מקיאטו קצר', 'נמסיס שוקולד', 'חלה', 'קורטדו', 'ת. עגל',\n",
       "       'עין הפוכה ילדים', 'בומ. סלט טונה', 'רוטב קיסר',\n",
       "       'ביצים קשות ישראלי', 'כוס חלב', \"שקשוקה אמטריצ'יאנה\",\n",
       "       'סלט קינואה אדומה', 'בומצית ריבת אוכמניות', 'גוואקמולי עגבניות',\n",
       "       'חיוב הצטרפות למועדון', 'ויניגרט', 'קפה קר בייליס',\n",
       "       'תוס. מים חמים', 'רוטב לוטוס', 'קטל וואן', \"צ'ייסר אוזו 12\",\n",
       "       \"צ'ייסר ערק אוריינטל\", \"צ'ייסר טקילה אספלון\", 'ב. גבינת פטה',\n",
       "       'כוס קרח', 'שעועית אדומה', 'ביצים עלומות ילדים', 'כוס מאלבק רזרב',\n",
       "       'ריפיל חלב ממותק', 'מיני פנקייקס בננות', 'קולה זירו', 'קולה דיאט',\n",
       "       'קוקה קולה', 'ריבת אוכמניות', 'סכו\"ם TA', 'בקבוק למניונה',\n",
       "       \"בקבוק פינו גריג'יו\", 'תפוח סלק גזר גינגר', 'בקבוק רוזה',\n",
       "       'כוס גוורצטרמינר', 'בומצית שוקולד מריר', 'בירה  טובורג',\n",
       "       'קפה הפוך', 'שקשוקה חצילים פטה', 'תוספת לחמניה', 'ת. חצילים',\n",
       "       'ת. פרצל', 'פריט כללי - ארוחה עסקית 16 איש', 'תוס. מי סוכר',\n",
       "       'פריט זיכוי - זיכוי חיוב', 'בומצית לבן מומס', 'מיץ אגסים',\n",
       "       'פריט זיכוי - טעות הקלדה. ', 'בומצית רוטב קינדר',\n",
       "       \"צ'ייסר קטל וואן\", 'הייטקזון', 'שקשוקה', 'בומ. גבינת עזים',\n",
       "       'תרמוס שוקו', 'מיני פנקייקס לוטוס', 'תרמוס אמריקנו', 'קוקוס קלוי',\n",
       "       'גזר סחוט בקבוק', \"צ'ייסר ג'וני ווקר גולד\", 'דמי משלוח.',\n",
       "       'אומלט חלבון לבחירה', 'פריט כללי - בייקון', 'בומצית שוקולד לבן',\n",
       "       'פריט זיכוי - לא אכלו סלמון ', 'אצבע קינדר', \"בומ. פרמז'ן\",\n",
       "       'מיץ ענבים', 'ריפיל ר. בייגלה', 'ריפיל ר. לוטוס', 'טלה 50 גרם',\n",
       "       'תוס. לימון', 'ביצים רכות לבחירה', 'שמנת חמוצה',\n",
       "       'פריט זיכוי - חשבון נסגר בטעות נתי ', \"צ'ייסר ג'וני ווקר בלאק\",\n",
       "       'ב. גוואקמולי', 'פריט זיכוי - זיכוי', 'פריט כללי - טעות חשבון',\n",
       "       \"צ'ייסר בייליס\", 'כוס ריקה', 'בקבוק מאלבק רזרב', 'בומ. זיתים',\n",
       "       'סלט ירוק גדול', 'בעיות יבוא תן ביס', 'פריט זיכוי - חיוב לא נכון',\n",
       "       'כוס קברנה סובניון אלאמוס', 'פנקייקס בננות', 'בומצית חלב ממותק',\n",
       "       'תוספת טוניק', 'ישראלי קלאסי', 'אומלט לייט',\n",
       "       'סלט ירוק בלי ויניגרט', 'בומצית רוטב פיסטוק', 'ת. בייליס למשקה',\n",
       "       'ווילד טרקי 81', 'בקבוק גוורצטרמינר',\n",
       "       'פריט זיכוי - טעות בחבשבון יחוייב מחדש ', 'מיני רוגלך פיסטוק',\n",
       "       'ביס פרעצל סלמון', 'מיני רוגלך', 'סלסלת לחמים לאפייה ביתית',\n",
       "       'כוס פירות פארק', 'ביצים רכות ישראלי', 'כדור שוקולד סוכריות',\n",
       "       'מארז רוגלך 5 יחידות', 'דמי חליצה', 'אייס קפה',\n",
       "       'פריט זיכוי - זיכוי בריוש', 'פריט זיכוי - שקשוקה זיכוי',\n",
       "       'בומצית רוטב בייגלה', 'לימונדה בקבוק', 'תוספת סודה', 'חצי בורקס',\n",
       "       'קרואסון שוקולד', 'פריט זיכוי - קם. קר.  ',\n",
       "       'פריט זיכוי - טעות חיוב באישור אילן', 'סלסילה רב פעמית ממותגת',\n",
       "       'פריט זיכוי - החזר על חיוב כפול אישור נתנאל ', 'פריט כללי בייקרי',\n",
       "       \"בורקס סנדוויץ'\", 'בלי לחם', 'לפתנית חציל יוגורט', 'מארז בייגלים',\n",
       "       'לפתנית שעועית לימה', 'פריט כללי - 3 קנקני תפוזים', 'בורקס תרד',\n",
       "       'פריט זיכוי - זיכוי על מימוזה קולדה שלא קיבלו ',\n",
       "       'ביצים רכות ילדים', 'ביס סחוג גבינת עיזים', 'בורקס פינוקים',\n",
       "       'ת. רצועות טלה', 'מארז פרעצל', 'קוראסון', 'ת. עשבי תיבול',\n",
       "       'ת. בצל מטוגן', 'ת. פלפל אדום', nan], dtype=object)"
      ]
     },
     "execution_count": 97,
     "metadata": {},
     "output_type": "execute_result"
    }
   ],
   "source": [
    "benedict['item_name'].unique()"
   ]
  },
  {
   "cell_type": "code",
   "execution_count": 98,
   "metadata": {},
   "outputs": [],
   "source": [
    "benedict['item_name'] = benedict['item_name'].fillna('unknown')"
   ]
  },
  {
   "cell_type": "code",
   "execution_count": 99,
   "metadata": {},
   "outputs": [
    {
     "data": {
      "text/plain": [
       "array(['הפוך גדול', 'מיני קינדר', 'רוטב קינדר', 'כוס קאווה', 'אספרסו קצר',\n",
       "       \"בייקון צ'דר פנקייק\", 'שקשוקה', 'אגז בנדיקט בייקון',\n",
       "       \"מימוזה פרנץ' 75\", 'כרובית קיסר', 'תפוזים', 'ביצה לבחירה',\n",
       "       'מימוזה רד', 'בייגל אמריקאי', \"צ'יפס\", 'רוטב לבן מומס',\n",
       "       'תרד בשמנת', 'בוקר טקסס', 'שוקו קר', 'פרוסקו קאווה',\n",
       "       'בראנץ בורגר נייט', 'הפוך', 'מימוזה קולדה', 'בראנץ בורגר',\n",
       "       'גבינת שמנת', 'פנקייק אוכמניות גדול', 'קרוק מאדאם נייט',\n",
       "       'אבוקדו בייגל ברקפסט נייט', 'קרעי תפוח אדמה', 'שוקו חם',\n",
       "       'בלאדי מארי', 'מיני בננות.', 'קפה קר', 'אומלט שרימפס',\n",
       "       'אפרול קאריבי', 'בוקר קיסר נייט', 'בנדיקט סמאש', 'אפרול שפריץ',\n",
       "       'פרללה', 'פנקייק רגיל', 'טובורג', 'תה', 'ישראלי נייט',\n",
       "       'סלסלת לחמים', 'ללא תוספות', 'בוקר חלומי',\n",
       "       'אגז בנדיקט בייקון נייט', 'לימונדה', 'סטייק&אגז',\n",
       "       'פילי סטייל נייט', 'זירו', 'מיני בייגלה וקרמל מלוח.', 'תפוח',\n",
       "       'אבוקדו טוסט', 'לקט פטריות', 'חצי לימון', 'בריוש ממולא שוקולד',\n",
       "       'אמריקנו', 'אבוקדו בייגל', 'קרוק מאדאם', 'בריוש ממולא שקדים',\n",
       "       'מגדל בבל', 'מיני אוכמניות ושוקולד לבן.', 'פילי סטייל',\n",
       "       'אגז בנדיקט פלורנטין', 'בוקר סקנדינבי', 'פנקייק קינדר',\n",
       "       'סלט מקסיקני נייט', 'בייגל סלמון', 'מיני בייגלה וקרמל מלוח',\n",
       "       'תוס. חלב קר', 'כוס לימניונה', 'פנקייק אוכמניות ושוקולד לבן.',\n",
       "       'אגז בנדיקט רויאל נייט', 'לימונדה ורודה', 'אג בולז תרד',\n",
       "       'בנדיקט קפרזה', 'פנקייק אוכמניות', '1/3 אסטרייה',\n",
       "       'פנקייק בננות גדול', 'תפוגזר', 'בוקר יווני', 'מים מינרלים',\n",
       "       'פנקייק בננות', 'אגז בנדיקט רויאל', 'מיני פיסטוק ושוקולד לבן.',\n",
       "       'אמריקנו קר', 'בנדיקט לונדון קלאסי', 'בקבוק שקמה', 'הערה לבר',\n",
       "       'מיני פיסטוק ושוקולד לבן', 'תוספת קריספי בייקון', 'ספרייט זירו',\n",
       "       'אג בולז ערמונים', 'בוקר אנגלי נייט', 'לביבות', 'נס על חלב',\n",
       "       'אגז בנדיקט אבוקדו', 'בקבוק שאבלי', 'מיץ סחוט',\n",
       "       'בנדיקט קווין סלמון', 'בוקר אנגלי', 'ספרייט', 'קולה',\n",
       "       'אספרסו כפול', 'סלק גזר גינגר', 'אגז בנדיקט טלה', 'סלמון מעושן',\n",
       "       'כוס רוזה', 'ישראלי קלאסי פיילוט', \"ג'וני ווקר בלאק\", \"פרנץ' טוסט\",\n",
       "       'שרקוטרי עגל', 'פנקייק לוטוס', 'קרואסון חמאה',\n",
       "       'אגז בנדיקט פלורנטין נייט', 'אבוקדו טוסט נייט', 'קממבר', 'גזר',\n",
       "       'שרקוטרי פרנקפורטר', 'אספרסו ארוך', 'שקית קפה', \"כוס פינו גריג'יו\",\n",
       "       'סלסלת לחמים ישראלית', 'ע. קרוק מאדאם', 'בוקר קיסר', 'פנקייק גדול',\n",
       "       'מקיאטו כפול', 'סלט מקסיקני', 'בומציות ללא תשלום', 'מיני רגיל',\n",
       "       \"ג'ינג'ר - למון - האני\", 'בנדיקט ים תיכוני', 'דיאט קולה',\n",
       "       'בנדיקט מקסיקני', 'סלמון בייגל', 'בוקר טקסס נייט', 'פרללה גדול',\n",
       "       'קינג סלמון', 'מיני פנקייק קינדר', 'רצועות קריספי בייקון',\n",
       "       'בודהה בול', '3 ביצים לבחירה', 'הערה למטבח', 'ע. מים מינרלים',\n",
       "       'פררלה', 'פריט מטבח', 'גורדון', 'קפה שחור', 'לחמנייה ללא גלוטן',\n",
       "       'אומלט פלורנטין', 'ריפיל ישראלי', 'אנגלי עובדים', 'תפוזים סחוט',\n",
       "       'מיני פנקייק פיסטוק ושוקולד לבן', 'אג בולז תרד וגבינת עיזים',\n",
       "       'שקשוקה טבעונית', 'כרטיס ברכה בנדיקט', 'אבוקדו בייגל ברקפסט',\n",
       "       'תוס. חלב חם', 'רושטי', 'בנדיקט פיקניק - סלסלה רב פעמית ומפה',\n",
       "       '2 ביצים לבחירה', 'מיני פנקייק רגיל', 'בריוש שוקולד ונוטלה',\n",
       "       'פיקניק BOX ושושנות בריוש', 'בננות חתוכות', 'בריוש שקדים',\n",
       "       'מיני פנקייק אוכמניות ושוקולד לבן', \"בראנץ' בורגר\",\n",
       "       'בוקר לקטנטנים', 'מיני פנקייק בייגלה וקרמל מלוח', 'תוספות לביצה',\n",
       "       'קלאסי טבעוני', 'עוגת גבינה', 'תוס. תמצית אספרסו', 'שקשוקה יו אג',\n",
       "       'סלט קצוץ', 'אגז בנדיקט שרימפס', 'סלט ירוק', 'ב. טחינה רגילה',\n",
       "       'רצועות טלה', 'טחינה בתשלום', 'סלט שוק', 'מיני לוטוס',\n",
       "       'בנדיקט פיקניק BOX', 'פריטטה', 'הולנדייז', 'מימוזה קלאסית',\n",
       "       'פריט זיכוי - חביתה חוייבה פעמיים', \"צ'ייסר קמפרי\", 'מקיאטו ארוך',\n",
       "       'עוגת גבינה וריבת אוכמניות', 'ביצה יו אג', 'עוגת גבינה לוטוס',\n",
       "       'נס קפה', 'פנקייק בננות.', 'ב. אבוקדו', 'עוד על האש', 'מקיאטו קצר',\n",
       "       'ב. סלט שוק', nan, 'נמסיס שוקולד', 'חלה', 'קורטדו', 'סלט טונה',\n",
       "       'רוטב קיסר', 'ע. קפה קר העתק', 'כוס חלב', \"אמטריצ'יאנה\",\n",
       "       'סלט קינואה אדומה', 'ריבת אוכמניות', 'קצפת', 'גוואקמולי עגבניות',\n",
       "       'חיוב הצטרפות למועדון', 'ויניגרט', \"פרנץ' טוסט לתור\",\n",
       "       'ע. קינג סלמון', 'קפה קר בייליס', 'מימוזה ישראלי', 'תוס. מים חמים',\n",
       "       'רוטב לוטוס', 'קטל וואן', \"צ'ייסר אוזו 12\", \"צ'ייסר ערק אוריינטל\",\n",
       "       \"צ'ייסר טקילה אספלון\", 'ב. גבינת פטה', 'ריפיל לחמנייה ללא גלוטן',\n",
       "       'כוס קרח', 'לימונענע', 'שעועית', 'כוס מאלבק רזרב',\n",
       "       'רוטב חלב ממותק', 'מיני פנקייק בננות', 'קולה זירו', 'קולה דיאט',\n",
       "       'קוקה קולה', 'סכו\"ם TA', 'בקבוק למניונה', \"בקבוק פינו גריג'יו\",\n",
       "       'תפוח סלק גזר גינגר', 'בקבוק רוזה', 'כוס גוורצטרמינר',\n",
       "       'ע. בוקר קיסר', 'שוקולד מריר', 'ע. בוקר יווני', 'ע. אוכמניות גדול',\n",
       "       'ע. קפה שחור העתק', 'ע. שוקו קר', 'ע. בראנץ בורגר', 'בירה טובורג',\n",
       "       'ע. אגז בנדיקט פלורנטין', 'ע. הפוך העתק', 'שקשוקה עובדים',\n",
       "       'ע. שקשוקה חצילים', 'ע. אספרסו כפול', 'עוב. פנקייק רגיל',\n",
       "       'אגז בנדיקט אבוקדו נייט', 'רוטב שוקולד לבן', 'תוספת לחמניה',\n",
       "       'ת. פרצל', 'פריט כללי - ארוחה עסקית 16 איש', 'ע. אגז בנדיקט רויאל',\n",
       "       'תוס. מי סוכר', 'פריט זיכוי - זיכוי חיוב', 'שוקולד לבן מומס',\n",
       "       'מיץ אגסים', \"ב. צ'יפס\", 'הייטקזון', 'פריט זיכוי - טעות הקלדה. ',\n",
       "       \"צ'ייסר קטל וואן\", 'ב. סלט ירוק', 'פילי סטייל עובדים',\n",
       "       'ע.בייקון 50 גרם', 'בומ. גבינת עזים', 'תרמוס שוקו',\n",
       "       'מיני פנקייק לוטוס', 'תרמוס אמריקנו', 'ע. דיאט קולה', \"ע. צ'יפס\",\n",
       "       'ע. שוקו חם', 'ע. אספרסו ארוך', 'מגדל בבל עובדים בילו',\n",
       "       'ע. בוקר לקטנטנים', 'קממבר עובדים', 'גזר סחוט',\n",
       "       \"צ'ייסר ג'וני ווקר גולד\", 'דמי משלוח.', 'ע.אגז בנדיקט טלה',\n",
       "       'אומלט חלבון ישראלי', 'בוקר חלומי עובדים', 'עוב. הום פרייז',\n",
       "       'ע. מיני פנקייק לוטוס', 'ע. קולה', 'פריט כללי - בייקון',\n",
       "       'שוקולד לבן', 'פריט זיכוי - לא אכלו סלמון ', 'אצבע קינדר',\n",
       "       'תוספת ביצה', \"פרמז'ן\", 'מיץ ענבים', 'ע. מיני פנקייק קינדר',\n",
       "       'ע.אגז בנדיקט בייקון', 'ריפיל ר. בייגלה', 'ע. פרללה',\n",
       "       'תוספת רצועות טלה', 'עוב. פנקייק בננות', 'תוס. לימון',\n",
       "       'שמנת חמוצה', 'קפה הפוך', 'מקושקשת ילדים', 'מקושקשת ישראלי',\n",
       "       'ללא ריפיל', 'פריט זיכוי - חשבון נסגר בטעות נתי ',\n",
       "       \"צ'ייסר ג'וני ווקר בלאק\", 'ע. ספרייט', 'ב. גוואקמולי',\n",
       "       'פריט זיכוי - זיכוי', 'פריט כללי - טעות חשבון', \"צ'ייסר בייליס\",\n",
       "       'ע. ספרייט זירו', 'כוס ריקה', 'בקבוק מאלבק רזרב', 'זיתים',\n",
       "       'סלט ירוק גדול', 'בעיות יבוא תן ביס', 'פריט זיכוי - חיוב לא נכון',\n",
       "       'כוס קברנה סובניון אלאמוס', 'קוראסון חמאה', 'פנקייקס בננות גדול',\n",
       "       'תוספת טוניק', \"ע. בייקון צ'דר פנקייק\", 'ישראלי קלאסי עובדים',\n",
       "       'ע. בייגל סלמון', 'ע. אמריקנו קר', 'רוטב פיסטוק',\n",
       "       'ת. בייליס למשקה', 'ישראלי קלאסי', 'ווילד טרקי 81',\n",
       "       'בקבוק גוורצטרמינר', 'פריט זיכוי - טעות בחבשבון יחוייב מחדש ',\n",
       "       'unassigned', 'מיני רוגלך פיסטוק', 'ע. מיץ ענבים',\n",
       "       'ביס פרעצל סלמון', 'מיני רוגלך', 'סלסלת לחמים לאפייה ביתית',\n",
       "       'כוס פירות פארק', 'כדור שוקולד', 'מארז רוגלך 5 יחידות',\n",
       "       'דמי חליצה', 'אייס קפה', 'קוקוס קלוי', 'פריט זיכוי - זיכוי בריוש',\n",
       "       'פריט זיכוי - שקשוקה זיכוי', 'רוטב בייגלה', 'לימונדה בקבוק',\n",
       "       'תוספת סודה', 'בורקס חצי', 'קרואסון שוקולד',\n",
       "       'פריט זיכוי - קם. קר.  ', 'ע. אספרסו קצר',\n",
       "       'ראשונות ללא עלות עובדים', 'ע.אומלט פלורנטין',\n",
       "       'פריט זיכוי - טעות חיוב באישור אילן',\n",
       "       'פריט זיכוי - החזר על חיוב כפול אישור נתנאל ', 'פריט כללי בייקרי',\n",
       "       \"בורקס סנדוויץ'\", 'בלי לחם', 'לפתנית חציל יוגורט', 'מארז בייגלים',\n",
       "       'פריט כללי - 3 קנקני תפוזים', 'לפתנית שעועית לימה', 'בורקס תרד',\n",
       "       'פריט זיכוי - זיכוי על מימוזה קולדה שלא קיבלו ', 'ת. נקניקיית עגל',\n",
       "       'עיקריות ללא עלות עובדים', 'ביס סחוג גבינת עיזים', 'בורקס פינוקים',\n",
       "       'מארז פרעצל', \"ע.שקשוקה אמטריצ'יאנה\", 'קוראסון'], dtype=object)"
      ]
     },
     "execution_count": 99,
     "metadata": {},
     "output_type": "execute_result"
    }
   ],
   "source": [
    "benedict['offer_name'].unique()"
   ]
  },
  {
   "cell_type": "code",
   "execution_count": 100,
   "metadata": {},
   "outputs": [],
   "source": [
    "benedict['offer_name'] = benedict['offer_name'].replace('', 'none').fillna('none')"
   ]
  },
  {
   "cell_type": "code",
   "execution_count": 101,
   "metadata": {},
   "outputs": [
    {
     "data": {
      "text/plain": [
       "array([ 0.,  1., nan])"
      ]
     },
     "execution_count": 101,
     "metadata": {},
     "output_type": "execute_result"
    }
   ],
   "source": [
    "benedict['is_item_modifier'].unique()"
   ]
  },
  {
   "cell_type": "code",
   "execution_count": 102,
   "metadata": {},
   "outputs": [],
   "source": [
    "benedict['is_item_modifier'] = benedict['is_item_modifier'].fillna('unknown')"
   ]
  },
  {
   "cell_type": "code",
   "execution_count": 103,
   "metadata": {},
   "outputs": [
    {
     "data": {
      "text/plain": [
       "array([ 1.,  0., nan])"
      ]
     },
     "execution_count": 103,
     "metadata": {},
     "output_type": "execute_result"
    }
   ],
   "source": [
    "benedict['is_prepared'].unique()"
   ]
  },
  {
   "cell_type": "code",
   "execution_count": 104,
   "metadata": {},
   "outputs": [],
   "source": [
    "benedict['is_prepared'] = benedict['is_prepared'].fillna('unknown')"
   ]
  },
  {
   "cell_type": "code",
   "execution_count": 105,
   "metadata": {},
   "outputs": [
    {
     "data": {
      "text/plain": [
       "array([ 0.,  1., nan])"
      ]
     },
     "execution_count": 105,
     "metadata": {},
     "output_type": "execute_result"
    }
   ],
   "source": [
    "benedict['is_returned'].unique()"
   ]
  },
  {
   "cell_type": "code",
   "execution_count": 106,
   "metadata": {},
   "outputs": [],
   "source": [
    "benedict['is_returned'] = benedict['is_returned'].fillna('unknown')"
   ]
  },
  {
   "cell_type": "code",
   "execution_count": 107,
   "metadata": {},
   "outputs": [
    {
     "data": {
      "text/plain": [
       "array([ 0.,  1., nan])"
      ]
     },
     "execution_count": 107,
     "metadata": {},
     "output_type": "execute_result"
    }
   ],
   "source": [
    "benedict['is_cancelled'].unique()"
   ]
  },
  {
   "cell_type": "code",
   "execution_count": 108,
   "metadata": {},
   "outputs": [],
   "source": [
    "benedict['is_cancelled'] = benedict['is_cancelled'].fillna('unknown')"
   ]
  },
  {
   "cell_type": "code",
   "execution_count": 109,
   "metadata": {},
   "outputs": [
    {
     "data": {
      "text/plain": [
       "array([ 1.,  0., nan])"
      ]
     },
     "execution_count": 109,
     "metadata": {},
     "output_type": "execute_result"
    }
   ],
   "source": [
    "benedict['is_sold'].unique()"
   ]
  },
  {
   "cell_type": "code",
   "execution_count": 110,
   "metadata": {},
   "outputs": [],
   "source": [
    "benedict['is_sold'] = benedict['is_sold'].fillna('unknown')"
   ]
  },
  {
   "cell_type": "code",
   "execution_count": 111,
   "metadata": {},
   "outputs": [
    {
     "data": {
      "text/plain": [
       "array([ 0.,  1., nan])"
      ]
     },
     "execution_count": 111,
     "metadata": {},
     "output_type": "execute_result"
    }
   ],
   "source": [
    "benedict['is_credit'].unique()"
   ]
  },
  {
   "cell_type": "code",
   "execution_count": 112,
   "metadata": {},
   "outputs": [],
   "source": [
    "benedict['is_credit'] = benedict['is_credit'].fillna('unknown')"
   ]
  },
  {
   "cell_type": "code",
   "execution_count": 113,
   "metadata": {},
   "outputs": [
    {
     "data": {
      "text/plain": [
       "array([ 0.,  1., nan])"
      ]
     },
     "execution_count": 113,
     "metadata": {},
     "output_type": "execute_result"
    }
   ],
   "source": [
    "benedict['modifiers_sold'].unique()"
   ]
  },
  {
   "cell_type": "code",
   "execution_count": 114,
   "metadata": {},
   "outputs": [],
   "source": [
    "benedict['modifiers_sold'] = benedict['modifiers_sold'].fillna('unknown')"
   ]
  },
  {
   "cell_type": "code",
   "execution_count": 115,
   "metadata": {},
   "outputs": [
    {
     "data": {
      "text/plain": [
       "array([ 0.,  1., nan])"
      ]
     },
     "execution_count": 115,
     "metadata": {},
     "output_type": "execute_result"
    }
   ],
   "source": [
    "benedict['modifiers_prepared'].unique()"
   ]
  },
  {
   "cell_type": "code",
   "execution_count": 116,
   "metadata": {},
   "outputs": [],
   "source": [
    "benedict['modifiers_prepared'] = benedict['modifiers_prepared'].fillna('unknown')"
   ]
  },
  {
   "cell_type": "code",
   "execution_count": 117,
   "metadata": {},
   "outputs": [
    {
     "data": {
      "text/plain": [
       "array([15.  ,  0.  , 41.  , ..., 14.77, 62.66, 15.26])"
      ]
     },
     "execution_count": 117,
     "metadata": {},
     "output_type": "execute_result"
    }
   ],
   "source": [
    "benedict['total_sales_with_vat'].unique()"
   ]
  },
  {
   "cell_type": "code",
   "execution_count": 118,
   "metadata": {},
   "outputs": [],
   "source": [
    "benedict['total_sales_with_vat'] = benedict['total_sales_with_vat'].replace('', 'none').fillna('none')"
   ]
  },
  {
   "cell_type": "code",
   "execution_count": 119,
   "metadata": {},
   "outputs": [
    {
     "data": {
      "text/plain": [
       "array([12.82,  0.  , 35.04, ..., 12.62, 53.56, 13.04])"
      ]
     },
     "execution_count": 119,
     "metadata": {},
     "output_type": "execute_result"
    }
   ],
   "source": [
    "benedict['total_sales_without_vat'].unique()"
   ]
  },
  {
   "cell_type": "code",
   "execution_count": 120,
   "metadata": {},
   "outputs": [],
   "source": [
    "benedict['total_sales_without_vat'] = benedict['total_sales_without_vat'].replace('', 'none').fillna('none')"
   ]
  },
  {
   "cell_type": "code",
   "execution_count": 121,
   "metadata": {},
   "outputs": [
    {
     "data": {
      "text/plain": [
       "['positiveSales', 'negativeSales', 'unknown']\n",
       "Categories (3, object): ['negativeSales', 'positiveSales', 'unknown']"
      ]
     },
     "execution_count": 121,
     "metadata": {},
     "output_type": "execute_result"
    }
   ],
   "source": [
    "benedict['operator_amount'].unique()"
   ]
  },
  {
   "cell_type": "code",
   "execution_count": 122,
   "metadata": {},
   "outputs": [],
   "source": [
    "benedict['operator_amount'] = benedict['operator_amount'].fillna('unknown')"
   ]
  },
  {
   "cell_type": "code",
   "execution_count": 123,
   "metadata": {},
   "outputs": [
    {
     "data": {
      "text/plain": [
       "array(['שתיה', 'אוכל', 'Online', 'המכולת של בנדיקט', 'עובדים', nan,\n",
       "       'Bakery'], dtype=object)"
      ]
     },
     "execution_count": 123,
     "metadata": {},
     "output_type": "execute_result"
    }
   ],
   "source": [
    "benedict['menu_section'].unique()"
   ]
  },
  {
   "cell_type": "code",
   "execution_count": 124,
   "metadata": {},
   "outputs": [],
   "source": [
    "benedict['menu_section'] = benedict['menu_section'].fillna('unknown')"
   ]
  },
  {
   "cell_type": "code",
   "execution_count": 125,
   "metadata": {},
   "outputs": [
    {
     "data": {
      "text/plain": [
       "array(['שתיה חמה', 'פנקייקס', 'תוספות', 'מימוזה', 'קלאסיקות',\n",
       "       'אגז בנדיקט', 'מנות ראשונות', 'מיצים סחוטים', 'צלחות קטנות',\n",
       "       'מאפים', 'Grill&Eggs', 'שתיה קלה', 'מבעבעים', 'Breakfast in Bread',\n",
       "       'ביייגלים', 'קוקטיילים', 'אומלטים', 'בוקר מהשדה',\n",
       "       'שתיה מוגזת/בקבוק', 'בירות', 'בוקר ישראלי/טבעוני', 'פריטי אונליין',\n",
       "       'בוקר מתוק', 'הערות לשתיה', 'יינות', 'מעדניה', 'אג בולז',\n",
       "       'ספיישלים', 'שתיה חריפה', 'אוכל עובדים', 'הערות', 'שתיה עובדים',\n",
       "       'ילדים', 'הרצליה אונליין', nan, 'עוגות', 'מועדון',\n",
       "       'bundel section', 'אלכוהול', 'default section', 'סוגי ביצים',\n",
       "       'תוספות לשתיה', 'ביסים', 'עוגיות', 'מלוחים', 'כללי', 'כריכים'],\n",
       "      dtype=object)"
      ]
     },
     "execution_count": 125,
     "metadata": {},
     "output_type": "execute_result"
    }
   ],
   "source": [
    "benedict['menu_subcategory'].unique()"
   ]
  },
  {
   "cell_type": "code",
   "execution_count": 126,
   "metadata": {},
   "outputs": [],
   "source": [
    "benedict['menu_subcategory'] = benedict['menu_subcategory'].fillna('unknown')"
   ]
  },
  {
   "cell_type": "code",
   "execution_count": 127,
   "metadata": {},
   "outputs": [],
   "source": [
    "benedict['menu_subcategory'] = benedict['menu_subcategory'].astype('category')"
   ]
  },
  {
   "cell_type": "code",
   "execution_count": 128,
   "metadata": {},
   "outputs": [
    {
     "data": {
      "text/plain": [
       "array(['הפוך גדול', 'מיני קינדר', 'רוטב קינדר', 'כוס קאווה', 'אספרסו קצר',\n",
       "       \"בייקון צ'דר פנקייק\", 'שקשוקה', 'אגז בנדיקט בייקון',\n",
       "       \"מימוזה פרנץ' 75\", 'כרובית קיסר', 'תפוזים', 'ביצה לבחירה',\n",
       "       'מימוזה רד', 'בייגל אמריקאי', \"צ'יפס\", 'רוטב לבן מומס',\n",
       "       'תרד בשמנת', 'בוקר טקסס', 'שוקו קר', 'פרוסקו קאווה',\n",
       "       'בראנץ בורגר נייט', 'הפוך', 'מימוזה קולדה', 'בראנץ בורגר',\n",
       "       'גבינת שמנת', 'פנקייק אוכמניות גדול', 'קרוק מאדאם נייט',\n",
       "       'אבוקדו בייגל ברקפסט נייט', 'קרעי תפוח אדמה', 'שוקו חם',\n",
       "       'בלאדי מארי', 'מיני בננות.', 'קפה קר', 'אומלט שרימפס',\n",
       "       'אפרול קאריבי', 'בוקר קיסר נייט', 'בנדיקט סמאש', 'אפרול שפריץ',\n",
       "       'פרללה', 'פנקייק רגיל', 'טובורג', 'תה', 'ישראלי נייט',\n",
       "       'סלסלת לחמים', 'ללא תוספות', 'בוקר חלומי',\n",
       "       'אגז בנדיקט בייקון נייט', 'לימונדה', 'סטייק&אגז',\n",
       "       'פילי סטייל נייט', 'זירו', 'מיני בייגלה וקרמל מלוח.', 'תפוח',\n",
       "       'אבוקדו טוסט', 'לקט פטריות', 'חצי לימון', 'בריוש ממולא שוקולד',\n",
       "       'אמריקנו', 'אבוקדו בייגל', 'קרוק מאדאם', 'בריוש ממולא שקדים',\n",
       "       'מגדל בבל', 'מיני אוכמניות ושוקולד לבן.', 'פילי סטייל',\n",
       "       'אגז בנדיקט פלורנטין', 'בוקר סקנדינבי', 'פנקייק קינדר',\n",
       "       'סלט קייצי נייט', 'בייגל סלמון', 'מיני בייגלה וקרמל מלוח',\n",
       "       'תוס. חלב קר', 'כוס לימניונה', 'פנקייק אוכמניות ושוקולד לבן.',\n",
       "       'אגז בנדיקט רויאל נייט', 'לימונדה ורודה', 'אג בולז תרד',\n",
       "       'בנדיקט קפרזה', 'פנקייק אוכמניות', '1/3 אסטרייה',\n",
       "       'פנקייק בננות גדול', 'תפוגזר', 'בוקר יווני', 'מים מינרלים',\n",
       "       'פנקייק בננות', 'אגז בנדיקט רויאל', 'מיני פיסטוק ושוקולד לבן.',\n",
       "       'אמריקנו קר', 'בנדיקט לונדון קלאסי', 'בקבוק שקמה', 'הערה לבר',\n",
       "       'מיני פיסטוק ושוקולד לבן', 'תוספת קריספי בייקון', 'ספרייט זירו',\n",
       "       'אג בולז ערמונים', 'בוקר אנגלי נייט', 'לביבות', 'נס על חלב',\n",
       "       'אגז בנדיקט אבוקדו', 'בקבוק שאבלי', 'מיץ סחוט',\n",
       "       'בנדיקט קווין סלמון', 'בוקר אנגלי', 'ספרייט', 'קולה',\n",
       "       'אספרסו כפול', 'סלק גזר גינגר', 'אגז בנדיקט טלה', 'סלמון מעושן',\n",
       "       'כוס רוזה', 'ישראלי קלאסי', \"ג'וני ווקר בלאק\", \"פרנץ' טוסט\",\n",
       "       'שרקוטרי עגל', 'פנקייק לוטוס', 'קרואסון חמאה',\n",
       "       'אגז בנדיקט פלורנטין נייט', 'אבוקדו טוסט נייט', 'קממבר', 'גזר',\n",
       "       'שרקוטרי פרנקפורטר', 'אספרסו ארוך', 'שקית קפה', \"כוס פינו גריג'יו\",\n",
       "       'סלסלת לחמים ישראלית', 'ע. קרוק מאדאם', 'בוקר קיסר', 'פנקייק גדול',\n",
       "       'מקיאטו כפול', 'סלט קייצי', 'בומציות ללא תשלום', 'מיני רגיל',\n",
       "       \"ג'ינג'ר - למון - האני\", 'בנדיקט ים תיכוני', 'דיאט קולה',\n",
       "       'בנדיקט מקסיקני', 'סלמון בייגל', 'בוקר טקסס נייט', 'פרללה גדול',\n",
       "       'קינג סלמון', 'מיני פנקייק קינדר', 'רצועות קריספי בייקון',\n",
       "       'בודהה בול', '3 ביצים לבחירה', 'הערה למטבח', 'ע. מים מינרלים',\n",
       "       'פררלה', 'פריט מטבח', 'גורדון', 'קפה שחור', 'לחמנייה ללא גלוטן',\n",
       "       'אומלט פלורנטין', 'ריפיל ישראלי', 'אנגלי עובדים', 'תפוזים סחוט',\n",
       "       'מיני פנקייק פיסטוק ושוקולד לבן', 'אג בולז תרד וגבינת עיזים',\n",
       "       'שקשוקה טבעונית', 'כרטיס ברכה בנדיקט', 'אבוקדו בייגל ברקפסט',\n",
       "       'תוס. חלב חם', 'רושטי', 'בנדיקט פיקניק - סלסלה רב פעמית ומפה',\n",
       "       '2 ביצים לבחירה', 'מיני פנקייק רגיל', 'בריוש שוקולד ונוטלה',\n",
       "       'פיקניק BOX ושושנות בריוש', 'בננות חתוכות', 'בריוש שקדים',\n",
       "       'מיני פנקייק אוכמניות ושוקולד לבן', \"בראנץ' בורגר\",\n",
       "       'בוקר לקטנטנים', 'מיני פנקייק בייגלה וקרמל מלוח', 'תוספות לביצה',\n",
       "       'קלאסי טבעוני', 'עוגת גבינה', 'תוס. תמצית אספרסו', 'שקשוקה יו אג',\n",
       "       'סלט קצוץ', 'אגז בנדיקט שרימפס', 'סלט ירוק', 'ב. טחינה רגילה',\n",
       "       'רצועות טלה', 'טחינה בתשלום', 'סלט שוק', 'מיני לוטוס',\n",
       "       'בנדיקט פיקניק BOX', 'פריטטה', 'הולנדייז', 'מימוזה קלאסית', nan,\n",
       "       \"צ'ייסר קמפרי\", 'מקיאטו ארוך', 'עוגת גבינה וריבת אוכמניות',\n",
       "       'ביצה יו אג', 'עוגת גבינה לוטוס', 'נס קפה', 'פנקייק בננות.',\n",
       "       'ב. אבוקדו', 'עוד על האש', 'מקיאטו קצר', 'ב. סלט שוק',\n",
       "       'נמסיס שוקולד', 'חלה', 'קורטדו', 'סלט טונה', 'רוטב קיסר',\n",
       "       'ע. קפה קר העתק', 'כוס חלב', \"אמטריצ'יאנה\", 'סלט קינואה אדומה',\n",
       "       'ריבת אוכמניות', 'קצפת', 'גוואקמולי עגבניות',\n",
       "       'חיוב הצטרפות למועדון', 'ויניגרט', \"פרנץ' טוסט לתור\",\n",
       "       'ע. קינג סלמון', 'קפה קר בייליס', 'מימוזה ישראלי', 'תוס. מים חמים',\n",
       "       'רוטב לוטוס', 'קטל וואן', \"צ'ייסר אוזו 12\", \"צ'ייסר ערק אוריינטל\",\n",
       "       \"צ'ייסר טקילה אספלון\", 'ב. גבינת פטה', 'ריפיל לחמנייה ללא גלוטן',\n",
       "       'כוס קרח', 'לימונענע', 'שעועית', 'כוס מאלבק רזרב',\n",
       "       'רוטב חלב ממותק', 'מיני פנקייק בננות', 'קולה זירו', 'קולה דיאט',\n",
       "       'קוקה קולה', 'סכו\"ם TA', 'בקבוק למניונה', \"בקבוק פינו גריג'יו\",\n",
       "       'תפוח סלק גזר גינגר', 'בקבוק רוזה', 'כוס גוורצטרמינר',\n",
       "       'ע. בוקר קיסר', 'שוקולד מריר', 'ע. בוקר יווני', 'ע. אוכמניות גדול',\n",
       "       'ע. קפה שחור העתק', 'ע. שוקו קר', 'ע. בראנץ בורגר', 'בירה טובורג',\n",
       "       'ע. אגז בנדיקט פלורנטין', 'ע. הפוך העתק', 'שקשוקה עובדים',\n",
       "       'ע. שקשוקה חצילים', 'ע. אספרסו כפול', 'עוב. פנקייק רגיל',\n",
       "       'אגז בנדיקט אבוקדו נייט', 'רוטב שוקולד לבן', 'תוספת לחמניה',\n",
       "       'ת. פרצל', 'ע. אגז בנדיקט רויאל', 'תוס. מי סוכר',\n",
       "       'שוקולד לבן מומס', 'מיץ אגסים', 'הייטקזון', \"צ'ייסר קטל וואן\",\n",
       "       'ב. סלט ירוק', 'פילי סטייל עובדים', 'ע.בייקון 50 גרם',\n",
       "       'בומ. גבינת עזים', 'תרמוס שוקו', 'מיני פנקייק לוטוס',\n",
       "       'תרמוס אמריקנו', 'ע. דיאט קולה', \"ע. צ'יפס\", 'ע. שוקו חם',\n",
       "       'ע. אספרסו ארוך', 'מגדל בבל עובדים בילו', 'ע. בוקר לקטנטנים',\n",
       "       'קממבר עובדים', 'גזר סחוט', \"צ'ייסר ג'וני ווקר גולד\", 'דמי משלוח.',\n",
       "       'ע.אגז בנדיקט טלה', 'אומלט חלבון ישראלי', 'בוקר חלומי עובדים',\n",
       "       'עוב. הום פרייז', 'ע. מיני פנקייק לוטוס', 'ע. קולה', 'שוקולד לבן',\n",
       "       'אצבע קינדר', 'תוספת ביצה', \"פרמז'ן\", 'מיץ ענבים',\n",
       "       'ע. מיני פנקייק קינדר', 'ע.אגז בנדיקט בייקון', 'ריפיל ר. בייגלה',\n",
       "       'ע. פרללה', 'תוספת רצועות טלה', 'עוב. פנקייק בננות', 'תוס. לימון',\n",
       "       'שמנת חמוצה', 'קפה הפוך', 'מקושקשת ילדים', 'מקושקשת ישראלי',\n",
       "       'ללא ריפיל', \"צ'ייסר ג'וני ווקר בלאק\", 'ע. ספרייט', 'ב. גוואקמולי',\n",
       "       \"צ'ייסר בייליס\", 'ע. ספרייט זירו', 'כוס ריקה', 'בקבוק מאלבק רזרב',\n",
       "       'זיתים', 'סלט ירוק גדול', 'בעיות יבוא תן ביס',\n",
       "       'כוס קברנה סובניון אלאמוס', 'קוראסון חמאה', 'פנקייקס בננות גדול',\n",
       "       'תוספת טוניק', \"ע. בייקון צ'דר פנקייק\", 'ישראלי קלאסי עובדים',\n",
       "       'ע. בייגל סלמון', 'ע. אמריקנו קר', 'רוטב פיסטוק',\n",
       "       'ת. בייליס למשקה', 'ווילד טרקי 81', 'בקבוק גוורצטרמינר',\n",
       "       'מיני רוגלך פיסטוק', 'ע. מיץ ענבים', 'ביס פרעצל סלמון',\n",
       "       'מיני רוגלך', 'סלסלת לחמים לאפייה ביתית', 'כוס פירות פארק',\n",
       "       'כדור שוקולד', 'מארז רוגלך 5 יחידות', 'דמי חליצה', 'אייס קפה',\n",
       "       'קוקוס קלוי', 'רוטב בייגלה', 'לימונדה בקבוק', 'תוספת סודה',\n",
       "       'בורקס חצי', 'קרואסון שוקולד', 'ע. אספרסו קצר',\n",
       "       'ראשונות ללא עלות עובדים', 'ע.אומלט פלורנטין', 'פריט כללי בייקרי',\n",
       "       \"בורקס סנדוויץ'\", 'בלי לחם', 'לפתנית חציל יוגורט', 'מארז בייגלים',\n",
       "       'לפתנית שעועית לבנה', 'בורקס תרד', 'ת. נקניקיית עגל',\n",
       "       'עיקריות ללא עלות עובדים', 'ביס סחוג גבינת עיזים', 'בורקס פינוקים',\n",
       "       'מארז פרעצל', \"ע.שקשוקה אמטריצ'יאנה\", 'קוראסון'], dtype=object)"
      ]
     },
     "execution_count": 128,
     "metadata": {},
     "output_type": "execute_result"
    }
   ],
   "source": [
    "benedict['menu_secondary_subcategory'].unique()"
   ]
  },
  {
   "cell_type": "code",
   "execution_count": 129,
   "metadata": {},
   "outputs": [],
   "source": [
    "benedict['menu_secondary_subcategory'] = benedict['menu_secondary_subcategory'].fillna('unknown')"
   ]
  },
  {
   "cell_type": "code",
   "execution_count": 130,
   "metadata": {},
   "outputs": [],
   "source": [
    "benedict['menu_secondary_subcategory'] = benedict['menu_secondary_subcategory'].astype('category')"
   ]
  },
  {
   "cell_type": "code",
   "execution_count": 131,
   "metadata": {},
   "outputs": [],
   "source": [
    "benedict['transaction_date'] = pd.to_datetime(benedict['transaction_date'], errors='coerce', dayfirst=True)"
   ]
  },
  {
   "cell_type": "code",
   "execution_count": 132,
   "metadata": {},
   "outputs": [
    {
     "data": {
      "text/plain": [
       "count                  112181\n",
       "unique                   9611\n",
       "top       16/06/2023 00:27:05\n",
       "freq                      305\n",
       "Name: order_open_time, dtype: object"
      ]
     },
     "execution_count": 132,
     "metadata": {},
     "output_type": "execute_result"
    }
   ],
   "source": [
    "benedict['order_open_time'].describe()"
   ]
  },
  {
   "cell_type": "code",
   "execution_count": 133,
   "metadata": {},
   "outputs": [],
   "source": [
    "benedict['order_open_time'] = benedict['order_open_time'].str.strip()"
   ]
  },
  {
   "cell_type": "code",
   "execution_count": 134,
   "metadata": {},
   "outputs": [],
   "source": [
    "benedict['order_close_time'] = benedict['order_close_time'].str.strip()"
   ]
  },
  {
   "cell_type": "code",
   "execution_count": 135,
   "metadata": {},
   "outputs": [
    {
     "name": "stdout",
     "output_type": "stream",
     "text": [
      "<class 'pandas.core.frame.DataFrame'>\n",
      "RangeIndex: 112181 entries, 0 to 112180\n",
      "Data columns (total 52 columns):\n",
      " #   Column                      Non-Null Count   Dtype         \n",
      "---  ------                      --------------   -----         \n",
      " 0   transaction_id              112181 non-null  object        \n",
      " 1   transaction_date            112181 non-null  datetime64[ns]\n",
      " 2   order_open_time             112181 non-null  object        \n",
      " 3   order_close_time            112181 non-null  object        \n",
      " 4   is_loyalty_member           112181 non-null  int64         \n",
      " 5   employee_id                 112181 non-null  object        \n",
      " 6   employee_name               112181 non-null  object        \n",
      " 7   order_source                112181 non-null  object        \n",
      " 8   order_type                  112181 non-null  object        \n",
      " 9   number_of_diners            112181 non-null  float64       \n",
      " 10  vat_percentage              112181 non-null  int64         \n",
      " 11  workflow_profile_name       112181 non-null  category      \n",
      " 12  workflow_profile_type       112181 non-null  category      \n",
      " 13  customer_region             112181 non-null  category      \n",
      " 14  restaurant_table_area       112181 non-null  category      \n",
      " 15  item_id                     112181 non-null  object        \n",
      " 16  ordered_item_id             112181 non-null  object        \n",
      " 17  item_type                   112181 non-null  category      \n",
      " 18  ordered_offer_id            112181 non-null  object        \n",
      " 19  item_name                   112181 non-null  object        \n",
      " 20  offer_name                  112181 non-null  object        \n",
      " 21  is_item_modifier            112181 non-null  object        \n",
      " 22  chair_number                112181 non-null  float64       \n",
      " 23  is_prepared                 112181 non-null  object        \n",
      " 24  is_returned                 112181 non-null  object        \n",
      " 25  is_cancelled                112181 non-null  object        \n",
      " 26  is_sold                     112181 non-null  object        \n",
      " 27  net_amount                  112181 non-null  float64       \n",
      " 28  refund_amount               112181 non-null  float64       \n",
      " 29  total_amount                112181 non-null  float64       \n",
      " 30  vat_amount                  112181 non-null  float64       \n",
      " 31  returned_amount             112181 non-null  float64       \n",
      " 32  cancelled_amount            112181 non-null  float64       \n",
      " 33  discount_amount             112181 non-null  float64       \n",
      " 34  is_credit                   112181 non-null  object        \n",
      " 35  modifiers_sold              112181 non-null  object        \n",
      " 36  modifiers_prepared          112181 non-null  object        \n",
      " 37  net_amount_with_vat         112181 non-null  float64       \n",
      " 38  net_amount_without_vat      112181 non-null  float64       \n",
      " 39  total_sales_with_vat        112181 non-null  object        \n",
      " 40  total_sales_without_vat     112181 non-null  object        \n",
      " 41  sales_vat_amount            112181 non-null  float64       \n",
      " 42  gross_amount                112181 non-null  float64       \n",
      " 43  base_price                  112181 non-null  float64       \n",
      " 44  refund_with_vat             112181 non-null  float64       \n",
      " 45  refund_without_vat          112181 non-null  float64       \n",
      " 46  refund_vat_amount           112181 non-null  float64       \n",
      " 47  operator_amount             112181 non-null  category      \n",
      " 48  menu_section                112181 non-null  object        \n",
      " 49  menu_subcategory            112181 non-null  category      \n",
      " 50  menu_secondary_subcategory  112181 non-null  category      \n",
      " 51  final_item_price            112181 non-null  float64       \n",
      "dtypes: category(8), datetime64[ns](1), float64(18), int64(2), object(23)\n",
      "memory usage: 38.6+ MB\n"
     ]
    }
   ],
   "source": [
    "benedict.info()"
   ]
  },
  {
   "cell_type": "code",
   "execution_count": 136,
   "metadata": {},
   "outputs": [],
   "source": [
    "# Convert the 'date_column' to datetime with the specified format\n",
    "benedict['order_open_time'] = pd.to_datetime(benedict['order_open_time'], format='%d/%m/%Y %H:%M:%S', errors='coerce', dayfirst=True)"
   ]
  },
  {
   "cell_type": "code",
   "execution_count": 137,
   "metadata": {},
   "outputs": [],
   "source": [
    "# Convert the 'date_column' to datetime with the specified format\n",
    "benedict['order_close_time'] = pd.to_datetime(benedict['order_close_time'], format='%d/%m/%Y %H:%M:%S', errors='coerce', dayfirst=True)"
   ]
  },
  {
   "cell_type": "code",
   "execution_count": 138,
   "metadata": {},
   "outputs": [
    {
     "name": "stdout",
     "output_type": "stream",
     "text": [
      "<class 'pandas.core.frame.DataFrame'>\n",
      "RangeIndex: 112181 entries, 0 to 112180\n",
      "Data columns (total 52 columns):\n",
      " #   Column                      Non-Null Count   Dtype         \n",
      "---  ------                      --------------   -----         \n",
      " 0   transaction_id              112181 non-null  object        \n",
      " 1   transaction_date            112181 non-null  datetime64[ns]\n",
      " 2   order_open_time             112181 non-null  datetime64[ns]\n",
      " 3   order_close_time            112181 non-null  datetime64[ns]\n",
      " 4   is_loyalty_member           112181 non-null  int64         \n",
      " 5   employee_id                 112181 non-null  object        \n",
      " 6   employee_name               112181 non-null  object        \n",
      " 7   order_source                112181 non-null  object        \n",
      " 8   order_type                  112181 non-null  object        \n",
      " 9   number_of_diners            112181 non-null  float64       \n",
      " 10  vat_percentage              112181 non-null  int64         \n",
      " 11  workflow_profile_name       112181 non-null  category      \n",
      " 12  workflow_profile_type       112181 non-null  category      \n",
      " 13  customer_region             112181 non-null  category      \n",
      " 14  restaurant_table_area       112181 non-null  category      \n",
      " 15  item_id                     112181 non-null  object        \n",
      " 16  ordered_item_id             112181 non-null  object        \n",
      " 17  item_type                   112181 non-null  category      \n",
      " 18  ordered_offer_id            112181 non-null  object        \n",
      " 19  item_name                   112181 non-null  object        \n",
      " 20  offer_name                  112181 non-null  object        \n",
      " 21  is_item_modifier            112181 non-null  object        \n",
      " 22  chair_number                112181 non-null  float64       \n",
      " 23  is_prepared                 112181 non-null  object        \n",
      " 24  is_returned                 112181 non-null  object        \n",
      " 25  is_cancelled                112181 non-null  object        \n",
      " 26  is_sold                     112181 non-null  object        \n",
      " 27  net_amount                  112181 non-null  float64       \n",
      " 28  refund_amount               112181 non-null  float64       \n",
      " 29  total_amount                112181 non-null  float64       \n",
      " 30  vat_amount                  112181 non-null  float64       \n",
      " 31  returned_amount             112181 non-null  float64       \n",
      " 32  cancelled_amount            112181 non-null  float64       \n",
      " 33  discount_amount             112181 non-null  float64       \n",
      " 34  is_credit                   112181 non-null  object        \n",
      " 35  modifiers_sold              112181 non-null  object        \n",
      " 36  modifiers_prepared          112181 non-null  object        \n",
      " 37  net_amount_with_vat         112181 non-null  float64       \n",
      " 38  net_amount_without_vat      112181 non-null  float64       \n",
      " 39  total_sales_with_vat        112181 non-null  object        \n",
      " 40  total_sales_without_vat     112181 non-null  object        \n",
      " 41  sales_vat_amount            112181 non-null  float64       \n",
      " 42  gross_amount                112181 non-null  float64       \n",
      " 43  base_price                  112181 non-null  float64       \n",
      " 44  refund_with_vat             112181 non-null  float64       \n",
      " 45  refund_without_vat          112181 non-null  float64       \n",
      " 46  refund_vat_amount           112181 non-null  float64       \n",
      " 47  operator_amount             112181 non-null  category      \n",
      " 48  menu_section                112181 non-null  object        \n",
      " 49  menu_subcategory            112181 non-null  category      \n",
      " 50  menu_secondary_subcategory  112181 non-null  category      \n",
      " 51  final_item_price            112181 non-null  float64       \n",
      "dtypes: category(8), datetime64[ns](3), float64(18), int64(2), object(21)\n",
      "memory usage: 38.6+ MB\n"
     ]
    }
   ],
   "source": [
    "benedict.info()"
   ]
  },
  {
   "cell_type": "code",
   "execution_count": 139,
   "metadata": {},
   "outputs": [
    {
     "name": "stdout",
     "output_type": "stream",
     "text": [
      "<class 'pandas.core.frame.DataFrame'>\n",
      "RangeIndex: 112181 entries, 0 to 112180\n",
      "Data columns (total 52 columns):\n",
      " #   Column                      Non-Null Count   Dtype         \n",
      "---  ------                      --------------   -----         \n",
      " 0   transaction_id              112181 non-null  object        \n",
      " 1   transaction_date            112181 non-null  datetime64[ns]\n",
      " 2   order_open_time             112181 non-null  datetime64[ns]\n",
      " 3   order_close_time            112181 non-null  datetime64[ns]\n",
      " 4   is_loyalty_member           112181 non-null  int64         \n",
      " 5   employee_id                 112181 non-null  object        \n",
      " 6   employee_name               112181 non-null  object        \n",
      " 7   order_source                112181 non-null  object        \n",
      " 8   order_type                  112181 non-null  object        \n",
      " 9   number_of_diners            112181 non-null  float64       \n",
      " 10  vat_percentage              112181 non-null  int64         \n",
      " 11  workflow_profile_name       112181 non-null  category      \n",
      " 12  workflow_profile_type       112181 non-null  category      \n",
      " 13  customer_region             112181 non-null  category      \n",
      " 14  restaurant_table_area       112181 non-null  category      \n",
      " 15  item_id                     112181 non-null  object        \n",
      " 16  ordered_item_id             112181 non-null  object        \n",
      " 17  item_type                   112181 non-null  category      \n",
      " 18  ordered_offer_id            112181 non-null  object        \n",
      " 19  item_name                   112181 non-null  object        \n",
      " 20  offer_name                  112181 non-null  object        \n",
      " 21  is_item_modifier            112181 non-null  object        \n",
      " 22  chair_number                112181 non-null  float64       \n",
      " 23  is_prepared                 112181 non-null  object        \n",
      " 24  is_returned                 112181 non-null  object        \n",
      " 25  is_cancelled                112181 non-null  object        \n",
      " 26  is_sold                     112181 non-null  object        \n",
      " 27  net_amount                  112181 non-null  float64       \n",
      " 28  refund_amount               112181 non-null  float64       \n",
      " 29  total_amount                112181 non-null  float64       \n",
      " 30  vat_amount                  112181 non-null  float64       \n",
      " 31  returned_amount             112181 non-null  float64       \n",
      " 32  cancelled_amount            112181 non-null  float64       \n",
      " 33  discount_amount             112181 non-null  float64       \n",
      " 34  is_credit                   112181 non-null  object        \n",
      " 35  modifiers_sold              112181 non-null  object        \n",
      " 36  modifiers_prepared          112181 non-null  object        \n",
      " 37  net_amount_with_vat         112181 non-null  float64       \n",
      " 38  net_amount_without_vat      112181 non-null  float64       \n",
      " 39  total_sales_with_vat        112181 non-null  object        \n",
      " 40  total_sales_without_vat     112181 non-null  object        \n",
      " 41  sales_vat_amount            112181 non-null  float64       \n",
      " 42  gross_amount                112181 non-null  float64       \n",
      " 43  base_price                  112181 non-null  float64       \n",
      " 44  refund_with_vat             112181 non-null  float64       \n",
      " 45  refund_without_vat          112181 non-null  float64       \n",
      " 46  refund_vat_amount           112181 non-null  float64       \n",
      " 47  operator_amount             112181 non-null  category      \n",
      " 48  menu_section                112181 non-null  object        \n",
      " 49  menu_subcategory            112181 non-null  category      \n",
      " 50  menu_secondary_subcategory  112181 non-null  category      \n",
      " 51  final_item_price            112181 non-null  float64       \n",
      "dtypes: category(8), datetime64[ns](3), float64(18), int64(2), object(21)\n",
      "memory usage: 163.0 MB\n"
     ]
    }
   ],
   "source": [
    "# check how optimized the dataframe became.\n",
    "benedict.info(memory_usage = 'deep')"
   ]
  },
  {
   "cell_type": "code",
   "execution_count": 140,
   "metadata": {},
   "outputs": [],
   "source": [
    "# Save the new dataset to a CSV file\n",
    "benedict.to_csv('new_benedict.csv', index=False)"
   ]
  },
  {
   "cell_type": "code",
   "execution_count": 141,
   "metadata": {},
   "outputs": [],
   "source": [
    "benedict.to_excel('new_benedict.xlsx', index=False)"
   ]
  },
  {
   "cell_type": "markdown",
   "metadata": {},
   "source": [
    "***"
   ]
  },
  {
   "cell_type": "code",
   "execution_count": 142,
   "metadata": {},
   "outputs": [
    {
     "name": "stderr",
     "output_type": "stream",
     "text": [
      "/var/folders/qk/q0fv26q13m760q3ch0fljs240000gn/T/ipykernel_18061/734559934.py:2: DtypeWarning: Columns (21,23,24,25,26,34,35,36) have mixed types. Specify dtype option on import or set low_memory=False.\n",
      "  benedict_data = pd.read_csv('new_benedict.csv')\n"
     ]
    }
   ],
   "source": [
    "# Step 1: Load and preprocess your CSV data\n",
    "benedict_data = pd.read_csv('new_benedict.csv')"
   ]
  },
  {
   "cell_type": "code",
   "execution_count": 143,
   "metadata": {},
   "outputs": [],
   "source": [
    "# Convert DataFrame to documents with better formatting\n",
    "def create_text_from_row(row):\n",
    "    return \"Transaction: \" + \" | \".join([f\"{col}: {str(val)}\" for col, val in row.items()])"
   ]
  },
  {
   "cell_type": "code",
   "execution_count": 144,
   "metadata": {},
   "outputs": [],
   "source": [
    "documents = []\n",
    "for idx, row in benedict_data.iterrows():\n",
    "    text = create_text_from_row(row)\n",
    "    metadata = {\"source\": f\"row_{idx}\"}\n",
    "    documents.append(Document(page_content=text, metadata=metadata))"
   ]
  },
  {
   "cell_type": "code",
   "execution_count": 145,
   "metadata": {},
   "outputs": [],
   "source": [
    "# Create embeddings and vector store\n",
    "embeddings = FakeEmbeddings(size=768)\n",
    "vectorstore = FAISS.from_documents(documents, embeddings)"
   ]
  },
  {
   "cell_type": "code",
   "execution_count": 146,
   "metadata": {},
   "outputs": [
    {
     "name": "stdout",
     "output_type": "stream",
     "text": [
      "Found model file at  /Users/cesarchaparro/.cache/gpt4all/ggml-gpt4all-j-v1.3-groovy.bin\n"
     ]
    },
    {
     "name": "stderr",
     "output_type": "stream",
     "text": [
      "objc[18061]: Class GGMLMetalClass is implemented in both /Users/cesarchaparro/opt/anaconda3/lib/python3.11/site-packages/gpt4all/llmodel_DO_NOT_MODIFY/build/libreplit-mainline-metal.dylib (0x192ee0208) and /Users/cesarchaparro/opt/anaconda3/lib/python3.11/site-packages/gpt4all/llmodel_DO_NOT_MODIFY/build/libllamamodel-mainline-metal.dylib (0x193048208). One of the two will be used. Which one is undefined.\n"
     ]
    },
    {
     "name": "stdout",
     "output_type": "stream",
     "text": [
      "gptj_model_load: loading model from '/Users/cesarchaparro/.cache/gpt4all/ggml-gpt4all-j-v1.3-groovy.bin' - please wait ...\n",
      "gptj_model_load: n_vocab = 50400\n",
      "gptj_model_load: n_ctx   = 2048\n",
      "gptj_model_load: n_embd  = 4096\n",
      "gptj_model_load: n_head  = 16\n",
      "gptj_model_load: n_layer = 28\n",
      "gptj_model_load: n_rot   = 64\n",
      "gptj_model_load: f16     = 2\n",
      "gptj_model_load: ggml ctx size = 5401.45 MB\n",
      "gptj_model_load: kv self size  =  896.00 MB\n",
      "gptj_model_load: ................................... done\n",
      "gptj_model_load: model size =  3609.38 MB / num tensors = 285\n"
     ]
    }
   ],
   "source": [
    "# Initialize GPT4All with correct parameters\n",
    "callbacks = [StreamingStdOutCallbackHandler()]\n",
    "model_path = \"/Users/cesarchaparro/.cache/gpt4all/ggml-gpt4all-j-v1.3-groovy.bin\"\n",
    "llm = GPT4All(\n",
    "    model=model_path,\n",
    "    callbacks=callbacks,\n",
    "    verbose=True\n",
    ")"
   ]
  },
  {
   "cell_type": "code",
   "execution_count": 147,
   "metadata": {},
   "outputs": [],
   "source": [
    "# Create QA chain\n",
    "qa_chain = RetrievalQA.from_chain_type(\n",
    "    llm=llm,\n",
    "    chain_type=\"stuff\",\n",
    "    retriever=vectorstore.as_retriever(),\n",
    "    return_source_documents=True,\n",
    "    verbose=True\n",
    ")"
   ]
  },
  {
   "cell_type": "code",
   "execution_count": 148,
   "metadata": {},
   "outputs": [],
   "source": [
    "def chatbot(query):\n",
    "    try:\n",
    "        if not query.strip():\n",
    "            return \"Please enter a question.\"\n",
    "            \n",
    "        query_lower = query.lower()\n",
    "\n",
    "        # Financial Analysis\n",
    "        if any(word in query_lower for word in ['sales', 'revenue', 'amount', 'financial']):\n",
    "            if 'total' in query_lower:\n",
    "                total_sales = benedict_data['total_amount'].sum()\n",
    "                total_net = benedict_data['net_amount'].sum()\n",
    "                total_vat = benedict_data['vat_amount'].sum()\n",
    "                \n",
    "                return f\"\"\"Financial Summary:\n",
    "                Total Sales: ${total_sales:,.2f}\n",
    "                Net Amount: ${total_net:,.2f}\n",
    "                VAT Amount: ${total_vat:,.2f}\"\"\"\n",
    "\n",
    "        # Sales Channels Analysis\n",
    "        if any(word in query_lower for word in ['channel', 'source', 'order source']):\n",
    "            channel_summary = benedict_data.groupby('order_source')['total_amount'].agg([\n",
    "                ('total_sales', 'sum'),\n",
    "                ('transaction_count', 'count')\n",
    "            ]).reset_index()\n",
    "            \n",
    "            response = \"Sales by Channel:\\n\"\n",
    "            for _, row in channel_summary.iterrows():\n",
    "                response += f\"{row['order_source']}:\\n\"\n",
    "                response += f\"- Sales: ${row['total_sales']:,.2f}\\n\"\n",
    "                response += f\"- Transactions: {row['transaction_count']:,}\\n\"\n",
    "            return response\n",
    "\n",
    "        # Customer Analysis\n",
    "        if 'customer' in query_lower:\n",
    "            total_customers = benedict_data['number_of_diners'].sum()\n",
    "            avg_per_transaction = benedict_data['number_of_diners'].mean()\n",
    "            loyalty_customers = benedict_data[benedict_data['is_loyalty_member'] == 1]['transaction_id'].count()\n",
    "            \n",
    "            return f\"\"\"Customer Metrics:\n",
    "            Total Customers Served: {total_customers:,.0f}\n",
    "            Average Party Size: {avg_per_transaction:.2f}\n",
    "            Loyalty Member Transactions: {loyalty_customers:,}\"\"\"\n",
    "\n",
    "        # Time Analysis\n",
    "        if any(word in query_lower for word in ['time', 'hour', 'period']):\n",
    "            benedict_data['hour'] = benedict_data['order_open_time'].dt.hour\n",
    "            hourly_orders = benedict_data.groupby('hour')['transaction_id'].count()\n",
    "            peak_hour = hourly_orders.idxmax()\n",
    "            \n",
    "            return f\"\"\"Time Analysis:\n",
    "            Peak Hour: {peak_hour}:00\n",
    "            Orders during peak hour: {hourly_orders[peak_hour]:,}\n",
    "            Average order duration: {(benedict_data['order_close_time'] - benedict_data['order_open_time']).mean().total_seconds() / 60:.1f} minutes\"\"\"\n",
    "\n",
    "        # Menu Analysis\n",
    "        if any(word in query_lower for word in ['menu', 'item', 'dish']):\n",
    "            top_items = benedict_data.groupby('item_name')['total_amount'].agg([\n",
    "                ('total_sales', 'sum'),\n",
    "                ('order_count', 'count')\n",
    "            ]).sort_values('total_sales', ascending=False).head(5)\n",
    "            \n",
    "            response = \"Top 5 Menu Items by Sales:\\n\"\n",
    "            for item_name, row in top_items.iterrows():\n",
    "                response += f\"{item_name}:\\n\"\n",
    "                response += f\"- Sales: ${row['total_sales']:,.2f}\\n\"\n",
    "                response += f\"- Orders: {row['order_count']:,}\\n\"\n",
    "            return response\n",
    "\n",
    "        # Employee Performance\n",
    "        if any(word in query_lower for word in ['employee', 'staff', 'server']):\n",
    "            employee_stats = benedict_data.groupby('employee_name').agg({\n",
    "                'total_amount': 'sum',\n",
    "                'transaction_id': 'count',\n",
    "                'number_of_diners': 'sum'\n",
    "            }).sort_values('total_amount', ascending=False)\n",
    "            \n",
    "            response = \"Employee Performance Summary:\\n\"\n",
    "            for emp_name, row in employee_stats.head(5).iterrows():\n",
    "                response += f\"{emp_name}:\\n\"\n",
    "                response += f\"- Sales: ${row['total_amount']:,.2f}\\n\"\n",
    "                response += f\"- Transactions: {row['transaction_id']:,}\\n\"\n",
    "                response += f\"- Customers Served: {row['number_of_diners']:,.0f}\\n\"\n",
    "            return response\n",
    "\n",
    "        # Default response with available analysis options\n",
    "        return \"\"\"I can help you analyze:\n",
    "        1. Financial Metrics (sales, revenue, VAT)\n",
    "        2. Sales Channels Performance\n",
    "        3. Customer Metrics and Loyalty\n",
    "        4. Time-based Analysis and Peak Hours\n",
    "        5. Menu Item Performance\n",
    "        6. Employee Performance\n",
    "\n",
    "        Try asking questions like:\n",
    "        - \"Show me the sales by channel\"\n",
    "        - \"What are our top menu items?\"\n",
    "        - \"Show me customer metrics\"\n",
    "        - \"What are our peak hours?\"\n",
    "        - \"Show me employee performance\"\n",
    "        - \"What are our total sales?\"\n",
    "        \"\"\"\n",
    "\n",
    "    except Exception as e:\n",
    "        return f\"Error processing your question: {str(e)}\\n\\n\" + \\\n",
    "               \"Please try asking in a different way using the suggested formats.\""
   ]
  },
  {
   "cell_type": "code",
   "execution_count": 149,
   "metadata": {},
   "outputs": [],
   "source": [
    "def chatbot(query):\n",
    "    try:\n",
    "        if not query.strip():\n",
    "            return \"Please enter a question.\"\n",
    "            \n",
    "        query_lower = query.lower()\n",
    "\n",
    "        # VAT Analysis\n",
    "        if 'without vat' in query_lower:\n",
    "            # Convert 'total_sales_without_vat' from object to float\n",
    "            total_sales_without_vat = pd.to_numeric(benedict_data['total_sales_without_vat'], errors='coerce').sum()\n",
    "            return \"Total Sales (excluding VAT): \" + str(round(total_sales_without_vat, 2))\n",
    "\n",
    "        if 'with vat' in query_lower:\n",
    "            # Convert 'total_sales_with_vat' from object to float\n",
    "            total_sales_with_vat = pd.to_numeric(benedict_data['total_sales_with_vat'], errors='coerce').sum()\n",
    "            return \"Total Sales (including VAT): \" + str(round(total_sales_with_vat, 2))\n",
    "\n",
    "        # Financial Analysis\n",
    "        if any(word in query_lower for word in ['sales', 'revenue', 'amount', 'financial']):\n",
    "            # These columns are already float64\n",
    "            total_amount = benedict_data['total_amount'].sum()\n",
    "            net_amount = benedict_data['net_amount'].sum()\n",
    "            vat_amount = benedict_data['vat_amount'].sum()\n",
    "            gross_amount = benedict_data['gross_amount'].sum()\n",
    "            \n",
    "            response = \"Financial Summary:\\n\"\n",
    "            response += f\"Total Amount: {total_amount:.2f}\\n\"\n",
    "            response += f\"Net Amount: {net_amount:.2f}\\n\"\n",
    "            response += f\"VAT Amount: {vat_amount:.2f}\\n\"\n",
    "            response += f\"Gross Amount: {gross_amount:.2f}\"\n",
    "            return response\n",
    "\n",
    "        # Refunds Analysis\n",
    "        if 'refund' in query_lower:\n",
    "            # These columns are float64\n",
    "            refund_with_vat = benedict_data['refund_with_vat'].sum()\n",
    "            refund_without_vat = benedict_data['refund_without_vat'].sum()\n",
    "            refund_vat_amount = benedict_data['refund_vat_amount'].sum()\n",
    "            \n",
    "            response = \"Refund Summary:\\n\"\n",
    "            response += f\"Refunds (with VAT): {refund_with_vat:.2f}\\n\"\n",
    "            response += f\"Refunds (without VAT): {refund_without_vat:.2f}\\n\"\n",
    "            response += f\"Refund VAT Amount: {refund_vat_amount:.2f}\"\n",
    "            return response\n",
    "\n",
    "        # Daily Analysis\n",
    "        if 'daily' in query_lower:\n",
    "            # Group by date (transaction_date is datetime64[ns])\n",
    "            daily_summary = benedict_data.groupby(benedict_data['transaction_date'].dt.date).agg({\n",
    "                'total_amount': 'sum',\n",
    "                'net_amount': 'sum',\n",
    "                'vat_amount': 'sum'\n",
    "            })\n",
    "            \n",
    "            response = \"Daily Summary (Last 5 days):\\n\"\n",
    "            for date, row in daily_summary.tail(5).iterrows():\n",
    "                response += f\"\\nDate: {date}\\n\"\n",
    "                response += f\"Total Amount: {row['total_amount']:.2f}\\n\"\n",
    "                response += f\"Net Amount: {row['net_amount']:.2f}\\n\"\n",
    "                response += f\"VAT Amount: {row['vat_amount']:.2f}\"\n",
    "            return response\n",
    "\n",
    "        # Price Analysis\n",
    "        if 'price' in query_lower:\n",
    "            # These columns are float64\n",
    "            base_price_avg = benedict_data['base_price'].mean()\n",
    "            final_price_avg = benedict_data['final_item_price'].mean()\n",
    "            discount_avg = benedict_data['discount_amount'].mean()\n",
    "            \n",
    "            response = \"Price Analysis:\\n\"\n",
    "            response += f\"Average Base Price: {base_price_avg:.2f}\\n\"\n",
    "            response += f\"Average Final Price: {final_price_avg:.2f}\\n\"\n",
    "            response += f\"Average Discount: {discount_avg:.2f}\"\n",
    "            return response\n",
    "\n",
    "        # Cancelled and Returned Analysis\n",
    "        if any(word in query_lower for word in ['cancel', 'return']):\n",
    "            # These columns are float64\n",
    "            cancelled_amount = benedict_data['cancelled_amount'].sum()\n",
    "            returned_amount = benedict_data['returned_amount'].sum()\n",
    "            \n",
    "            response = \"Cancelled and Returned Summary:\\n\"\n",
    "            response += f\"Cancelled Amount: {cancelled_amount:.2f}\\n\"\n",
    "            response += f\"Returned Amount: {returned_amount:.2f}\"\n",
    "            return response\n",
    "\n",
    "        # Default response\n",
    "        return \"\"\"I can help you analyze financial data:\n",
    "        Try asking questions like:\n",
    "        - \"What is the total sales without VAT?\"\n",
    "        - \"What is the total sales with VAT?\"\n",
    "        - \"Show me financial summary\"\n",
    "        - \"Show me refund analysis\"\n",
    "        - \"Show me daily summary\"\n",
    "        - \"Show me price analysis\"\n",
    "        - \"Show me cancelled and returned amounts\"\n",
    "        \"\"\"\n",
    "\n",
    "    except Exception as e:\n",
    "        return \"Error processing your question: \" + str(e) + \"\\n\\n\" + \\\n",
    "               \"Please try asking in a different way using the suggested formats.\""
   ]
  },
  {
   "cell_type": "code",
   "execution_count": 150,
   "metadata": {},
   "outputs": [],
   "source": [
    "def chatbot(query):\n",
    "    try:\n",
    "        if not query.strip():\n",
    "            return \"Please enter a question.\"\n",
    "            \n",
    "        query_lower = query.lower()\n",
    "\n",
    "        # Order Duration Analysis\n",
    "        if any(word in query_lower for word in ['duration', 'time', 'long', 'short']):\n",
    "            # First, let's check the data types\n",
    "            benedict_data['order_open_time'] = pd.to_datetime(benedict_data['order_open_time'], format='%Y-%m-%d %H:%M:%S')\n",
    "            benedict_data['order_close_time'] = pd.to_datetime(benedict_data['order_close_time'], format='%Y-%m-%d %H:%M:%S')\n",
    "            \n",
    "            # Calculate time difference in minutes\n",
    "            time_diff = benedict_data['order_close_time'].sub(benedict_data['order_open_time'])\n",
    "            duration_minutes = time_diff.dt.total_seconds() / 60\n",
    "            \n",
    "            # Calculate basic statistics\n",
    "            avg_duration = duration_minutes.mean()\n",
    "            min_duration = duration_minutes.min()\n",
    "            max_duration = duration_minutes.max()\n",
    "            \n",
    "            return (f\"Order Duration Analysis:\\n\"\n",
    "                   f\"Average Duration: {avg_duration:.1f} minutes\\n\"\n",
    "                   f\"Shortest Order: {min_duration:.1f} minutes\\n\"\n",
    "                   f\"Longest Order: {max_duration:.1f} minutes\")\n",
    "\n",
    "        # Default response\n",
    "        return \"\"\"I can help you analyze order durations.\n",
    "        Try asking questions like:\n",
    "        - \"What is the average order duration?\"\n",
    "        - \"Show me order times\"\n",
    "        \"\"\"\n",
    "\n",
    "    except Exception as e:\n",
    "        # Add debugging information\n",
    "        print(\"Error details:\", str(e))\n",
    "        print(\"Open time dtype:\", benedict_data['order_open_time'].dtype)\n",
    "        print(\"Close time dtype:\", benedict_data['order_close_time'].dtype)\n",
    "        return \"Error processing your question. Please try again.\""
   ]
  },
  {
   "cell_type": "code",
   "execution_count": 151,
   "metadata": {},
   "outputs": [],
   "source": [
    "def chatbot(query):\n",
    "    try:\n",
    "        if not query.strip():\n",
    "            return \"Please enter a question.\"\n",
    "            \n",
    "        query_lower = query.lower()\n",
    "\n",
    "        # Top dishes by table size analysis\n",
    "        if any(word in query_lower for word in ['table', 'dishes', 'diners']):\n",
    "            # Group by number of diners and item name, count occurrences and sum amounts\n",
    "            table_dishes = benedict_data.groupby(['number_of_diners', 'item_name']).agg({\n",
    "                'transaction_id': 'count',  # Count of orders\n",
    "                'total_amount': 'sum'      # Total sales amount\n",
    "            }).reset_index()\n",
    "            \n",
    "            # Get top 3 dishes for each table size\n",
    "            top_dishes = (table_dishes.sort_values(['number_of_diners', 'transaction_id'], \n",
    "                                                 ascending=[True, False])\n",
    "                         .groupby('number_of_diners')\n",
    "                         .head(3))\n",
    "            \n",
    "            # Format the response\n",
    "            response = \"Top 3 Dishes by Table Size:\\n\"\n",
    "            \n",
    "            for table_size in sorted(top_dishes['number_of_diners'].unique()):\n",
    "                response += f\"\\nTable Size: {int(table_size)} diners\\n\"\n",
    "                table_data = top_dishes[top_dishes['number_of_diners'] == table_size]\n",
    "                \n",
    "                for _, row in table_data.iterrows():\n",
    "                    response += f\"- {row['item_name']}\\n\"\n",
    "                    response += f\"  Orders: {int(row['transaction_id'])}\\n\"\n",
    "                    response += f\"  Total Sales: ${row['total_amount']:,.2f}\\n\"\n",
    "            \n",
    "            return response\n",
    "\n",
    "        # Default response\n",
    "        return \"\"\"I can help you analyze top dishes by table size.\n",
    "        Try asking questions like:\n",
    "        - \"What are the top dishes by table size?\"\n",
    "        - \"Show me popular dishes for each table size\"\n",
    "        - \"What do different size groups order?\"\n",
    "        \"\"\"\n",
    "\n",
    "    except Exception as e:\n",
    "        return f\"Error processing your question: {str(e)}\\nPlease try asking in a different way.\""
   ]
  },
  {
   "cell_type": "code",
   "execution_count": 152,
   "metadata": {},
   "outputs": [
    {
     "name": "stdout",
     "output_type": "stream",
     "text": [
      "IMPORTANT: You are using gradio version 3.32.0, however version 4.44.1 is available, please upgrade.\n",
      "--------\n",
      "Running on local URL:  http://127.0.0.1:7860\n",
      "\n",
      "To create a public link, set `share=True` in `launch()`.\n"
     ]
    },
    {
     "data": {
      "text/html": [
       "<div><iframe src=\"http://127.0.0.1:7860/\" width=\"100%\" height=\"500\" allow=\"autoplay; camera; microphone; clipboard-read; clipboard-write;\" frameborder=\"0\" allowfullscreen></iframe></div>"
      ],
      "text/plain": [
       "<IPython.core.display.HTML object>"
      ]
     },
     "metadata": {},
     "output_type": "display_data"
    }
   ],
   "source": [
    "# Create Gradio interface\n",
    "demo = gr.Interface(\n",
    "    fn=chatbot,\n",
    "    inputs=gr.Textbox(\n",
    "        lines=2,\n",
    "        placeholder=\"Enter your question here...\",\n",
    "        label=\"Question\"\n",
    "    ),\n",
    "    outputs=gr.Textbox(\n",
    "        label=\"Answer\",\n",
    "        lines=10\n",
    "    ),\n",
    "    title=\"Restaurant Data Assistant\",\n",
    "    description=\"Ask questions about your restaurant data (e.g., 'What were the first 5 transactions?')\"\n",
    ")\n",
    "# Launch the interface\n",
    "if __name__ == \"__main__\":\n",
    "    demo.launch(share=False)"
   ]
  }
 ],
 "metadata": {
  "kernelspec": {
   "display_name": "base",
   "language": "python",
   "name": "python3"
  },
  "language_info": {
   "codemirror_mode": {
    "name": "ipython",
    "version": 3
   },
   "file_extension": ".py",
   "mimetype": "text/x-python",
   "name": "python",
   "nbconvert_exporter": "python",
   "pygments_lexer": "ipython3",
   "version": "3.11.7"
  }
 },
 "nbformat": 4,
 "nbformat_minor": 2
}
